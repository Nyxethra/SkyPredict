{
  "cells": [
    {
      "cell_type": "markdown",
      "metadata": {
        "id": "04fNCGTeftLa"
      },
      "source": [
        "# **Predict Flight Delays**"
      ]
    },
    {
      "cell_type": "code",
      "source": [
        "%pip install pyspark"
      ],
      "metadata": {
        "colab": {
          "base_uri": "https://localhost:8080/"
        },
        "id": "YgNVtqA6r3-5",
        "outputId": "bd6ec9ce-ae92-446e-fe5d-a235fbd885a0"
      },
      "execution_count": 1,
      "outputs": [
        {
          "output_type": "stream",
          "name": "stdout",
          "text": [
            "Collecting pyspark\n",
            "  Downloading pyspark-3.5.3.tar.gz (317.3 MB)\n",
            "\u001b[2K     \u001b[90m━━━━━━━━━━━━━━━━━━━━━━━━━━━━━━━━━━━━━━━━\u001b[0m \u001b[32m317.3/317.3 MB\u001b[0m \u001b[31m3.3 MB/s\u001b[0m eta \u001b[36m0:00:00\u001b[0m\n",
            "\u001b[?25h  Preparing metadata (setup.py) ... \u001b[?25l\u001b[?25hdone\n",
            "Collecting py4j==0.10.9.7 (from pyspark)\n",
            "  Downloading py4j-0.10.9.7-py2.py3-none-any.whl.metadata (1.5 kB)\n",
            "Downloading py4j-0.10.9.7-py2.py3-none-any.whl (200 kB)\n",
            "\u001b[2K   \u001b[90m━━━━━━━━━━━━━━━━━━━━━━━━━━━━━━━━━━━━━━━━\u001b[0m \u001b[32m200.5/200.5 kB\u001b[0m \u001b[31m15.9 MB/s\u001b[0m eta \u001b[36m0:00:00\u001b[0m\n",
            "\u001b[?25hBuilding wheels for collected packages: pyspark\n",
            "  Building wheel for pyspark (setup.py) ... \u001b[?25l\u001b[?25hdone\n",
            "  Created wheel for pyspark: filename=pyspark-3.5.3-py2.py3-none-any.whl size=317840625 sha256=28f23ed41134a3a3d553705d9db8e4038278f1e235d0a9e00060ac30e28ee4f7\n",
            "  Stored in directory: /root/.cache/pip/wheels/1b/3a/92/28b93e2fbfdbb07509ca4d6f50c5e407f48dce4ddbda69a4ab\n",
            "Successfully built pyspark\n",
            "Installing collected packages: py4j, pyspark\n",
            "Successfully installed py4j-0.10.9.7 pyspark-3.5.3\n"
          ]
        }
      ]
    },
    {
      "cell_type": "markdown",
      "metadata": {
        "id": "-7tVmHKSoQHG"
      },
      "source": [
        "## **Import Libraries**"
      ]
    },
    {
      "cell_type": "code",
      "execution_count": 2,
      "metadata": {
        "colab": {
          "base_uri": "https://localhost:8080/",
          "height": 241
        },
        "id": "qjHbB8j65U-M",
        "outputId": "fc290d73-b92d-4b49-c5d3-598f0ff1ac93"
      },
      "outputs": [
        {
          "output_type": "stream",
          "name": "stdout",
          "text": [
            "Mounted at /content/drive\n"
          ]
        },
        {
          "output_type": "execute_result",
          "data": {
            "text/plain": [
              "<pyspark.sql.session.SparkSession at 0x7e615805b0d0>"
            ],
            "text/html": [
              "\n",
              "            <div>\n",
              "                <p><b>SparkSession - in-memory</b></p>\n",
              "                \n",
              "        <div>\n",
              "            <p><b>SparkContext</b></p>\n",
              "\n",
              "            <p><a href=\"http://22623c3357b9:4040\">Spark UI</a></p>\n",
              "\n",
              "            <dl>\n",
              "              <dt>Version</dt>\n",
              "                <dd><code>v3.5.3</code></dd>\n",
              "              <dt>Master</dt>\n",
              "                <dd><code>local[*]</code></dd>\n",
              "              <dt>AppName</dt>\n",
              "                <dd><code>FinalProject</code></dd>\n",
              "            </dl>\n",
              "        </div>\n",
              "        \n",
              "            </div>\n",
              "        "
            ]
          },
          "metadata": {},
          "execution_count": 2
        }
      ],
      "source": [
        "import numpy as np\n",
        "import pandas\n",
        "import time\n",
        "import seaborn as sns\n",
        "import matplotlib.pyplot as plt\n",
        "\n",
        "from google.colab import drive\n",
        "drive.mount('/content/drive')\n",
        "\n",
        "from sklearn.metrics import classification_report\n",
        "from sklearn.metrics import f1_score\n",
        "from IPython.core.display import display\n",
        "from pyspark.sql import SparkSession\n",
        "from pyspark.sql.types import FloatType\n",
        "from pyspark.sql import functions as f\n",
        "from pyspark.sql import Row\n",
        "from pyspark.ml.feature import StringIndexer, OneHotEncoder, VectorAssembler\n",
        "from pyspark.ml import Pipeline\n",
        "from pyspark.ml.classification import LogisticRegression, DecisionTreeClassifier, RandomForestClassifier, NaiveBayes\n",
        "from pyspark.ml.evaluation import RegressionEvaluator, MulticlassClassificationEvaluator\n",
        "from pyspark.ml.feature import MinMaxScaler,StandardScaler\n",
        "from pyspark.ml.pipeline import PipelineModel\n",
        "\n",
        "sns.set()\n",
        "\n",
        "spark = SparkSession.builder.appName('FinalProject') .config(\"spark.driver.memory\", \"50g\") .config(\"spark.executor.memory\", \"50g\") .getOrCreate()\n",
        "spark"
      ]
    },
    {
      "cell_type": "markdown",
      "metadata": {
        "id": "Zcu_4l_pMy4S"
      },
      "source": [
        "## **Read Dataset**"
      ]
    },
    {
      "cell_type": "code",
      "execution_count": 3,
      "metadata": {
        "id": "ikVynTmHM0wv"
      },
      "outputs": [],
      "source": [
        "PATH = '/content/drive/MyDrive/PREDICT/'"
      ]
    },
    {
      "cell_type": "code",
      "execution_count": 4,
      "metadata": {
        "colab": {
          "base_uri": "https://localhost:8080/"
        },
        "id": "DBnqS_pbNpgZ",
        "outputId": "6102c8d0-c63e-405d-f826-9265049ffb57"
      },
      "outputs": [
        {
          "output_type": "stream",
          "name": "stdout",
          "text": [
            "root\n",
            " |-- ID: string (nullable = true)\n",
            " |-- QUARTER: integer (nullable = true)\n",
            " |-- MONTH: integer (nullable = true)\n",
            " |-- DAY_OF_MONTH: integer (nullable = true)\n",
            " |-- DAY_OF_WEEK: integer (nullable = true)\n",
            " |-- OP_UNIQUE_CARRIER: string (nullable = true)\n",
            " |-- ORIGIN: string (nullable = true)\n",
            " |-- DEST: string (nullable = true)\n",
            " |-- DISTANCE: double (nullable = true)\n",
            " |-- CRS_DEP_TIME: double (nullable = true)\n",
            " |-- LABEL: double (nullable = true)\n",
            "\n",
            "+--------------------------+-------+-----+------------+-----------+-----------------+------+----+--------+------------+-----+\n",
            "|ID                        |QUARTER|MONTH|DAY_OF_MONTH|DAY_OF_WEEK|OP_UNIQUE_CARRIER|ORIGIN|DEST|DISTANCE|CRS_DEP_TIME|LABEL|\n",
            "+--------------------------+-------+-----+------------+-----------+-----------------+------+----+--------+------------+-----+\n",
            "|6/10/2023_AA_PHL_BOS_1514 |2      |6    |10          |6          |AA               |PHL   |BOS |280.0   |1729.0      |0.0  |\n",
            "|1/8/2023_DL_ATL_RIC_1731  |1      |1    |8           |7          |DL               |ATL   |RIC |481.0   |1020.0      |0.0  |\n",
            "|9/10/2023_F9_CLT_MCO_1053 |3      |9    |10          |7          |F9               |CLT   |MCO |468.0   |1005.0      |2.0  |\n",
            "|12/16/2023_WN_LAX_DEN_254 |4      |12   |16          |6          |WN               |LAX   |DEN |862.0   |725.0       |1.0  |\n",
            "|2/23/2023_UA_LAS_SFO_753  |1      |2    |23          |4          |UA               |LAS   |SFO |414.0   |800.0       |2.0  |\n",
            "|7/14/2023_UA_SEA_EWR_591  |3      |7    |14          |5          |UA               |SEA   |EWR |2402.0  |1131.0      |2.0  |\n",
            "|5/7/2023_DL_LAS_LAX_2831  |2      |5    |7           |7          |DL               |LAS   |LAX |236.0   |1341.0      |2.0  |\n",
            "|7/16/2023_B6_LAX_FLL_1700 |3      |7    |16          |7          |B6               |LAX   |FLL |2343.0  |750.0       |1.0  |\n",
            "|9/10/2023_F9_CVG_MIA_1772 |3      |9    |10          |7          |F9               |CVG   |MIA |948.0   |1924.0      |2.0  |\n",
            "|12/28/2023_AA_DFW_SAT_2372|4      |12   |28          |4          |AA               |DFW   |SAT |247.0   |1429.0      |2.0  |\n",
            "|8/11/2023_WN_ABQ_MDW_1270 |3      |8    |11          |5          |WN               |ABQ   |MDW |1121.0  |1335.0      |1.0  |\n",
            "|7/11/2023_AA_DFW_PHL_1637 |3      |7    |11          |2          |AA               |DFW   |PHL |1303.0  |1839.0      |2.0  |\n",
            "|11/4/2023_WN_BNA_HOU_478  |4      |11   |4           |6          |WN               |BNA   |HOU |670.0   |550.0       |0.0  |\n",
            "|9/15/2023_UA_LGA_ORD_1807 |3      |9    |15          |5          |UA               |LGA   |ORD |733.0   |2100.0      |0.0  |\n",
            "|5/4/2023_WN_HNL_ITO_2188  |2      |5    |4           |4          |WN               |HNL   |ITO |216.0   |1225.0      |0.0  |\n",
            "|4/1/2023_UA_IAH_MCO_2449  |2      |4    |1           |6          |UA               |IAH   |MCO |854.0   |1954.0      |2.0  |\n",
            "|3/22/2023_WN_DAL_MCI_1291 |1      |3    |22          |3          |WN               |DAL   |MCI |461.0   |2050.0      |1.0  |\n",
            "|3/9/2023_DL_BOS_LAX_434   |1      |3    |9           |4          |DL               |BOS   |LAX |2611.0  |1840.0      |1.0  |\n",
            "|5/24/2023_WN_DCA_OMA_2553 |2      |5    |24          |3          |WN               |DCA   |OMA |1012.0  |1615.0      |1.0  |\n",
            "|11/13/2023_AA_MCO_CLT_609 |4      |11   |13          |1          |AA               |MCO   |CLT |468.0   |830.0       |0.0  |\n",
            "+--------------------------+-------+-----+------------+-----------+-----------------+------+----+--------+------------+-----+\n",
            "only showing top 20 rows\n",
            "\n"
          ]
        },
        {
          "output_type": "execute_result",
          "data": {
            "text/plain": [
              "2586600"
            ]
          },
          "metadata": {},
          "execution_count": 4
        }
      ],
      "source": [
        "# Read dataset.csv\n",
        "data = spark.read.csv(PATH+'Dataset/train_balanced.csv', header=True, inferSchema=True)\n",
        "data.printSchema()\n",
        "data.show(20,False)\n",
        "data.count()"
      ]
    },
    {
      "cell_type": "markdown",
      "metadata": {
        "id": "hFXHxCztdueL"
      },
      "source": [
        "## **Prepare data**"
      ]
    },
    {
      "cell_type": "code",
      "execution_count": 5,
      "metadata": {
        "id": "hYY4MWsQUtEu"
      },
      "outputs": [],
      "source": [
        "train, test = data.randomSplit(weights=[0.8,0.2], seed=2024)"
      ]
    },
    {
      "cell_type": "code",
      "execution_count": 6,
      "metadata": {
        "id": "MkXr-HGbUz7F",
        "colab": {
          "base_uri": "https://localhost:8080/"
        },
        "outputId": "1d0c0a97-f9be-40db-9a61-917b697b4a6a"
      },
      "outputs": [
        {
          "output_type": "stream",
          "name": "stdout",
          "text": [
            "root\n",
            " |-- ID: string (nullable = true)\n",
            " |-- QUARTER: integer (nullable = true)\n",
            " |-- MONTH: integer (nullable = true)\n",
            " |-- DAY_OF_MONTH: integer (nullable = true)\n",
            " |-- DAY_OF_WEEK: integer (nullable = true)\n",
            " |-- OP_UNIQUE_CARRIER: string (nullable = true)\n",
            " |-- ORIGIN: string (nullable = true)\n",
            " |-- DEST: string (nullable = true)\n",
            " |-- DISTANCE: double (nullable = true)\n",
            " |-- CRS_DEP_TIME: double (nullable = true)\n",
            " |-- LABEL: double (nullable = true)\n",
            "\n",
            "+--------------------+-------+-----+------------+-----------+-----------------+------+----+--------+------------+-----+\n",
            "|                  ID|QUARTER|MONTH|DAY_OF_MONTH|DAY_OF_WEEK|OP_UNIQUE_CARRIER|ORIGIN|DEST|DISTANCE|CRS_DEP_TIME|LABEL|\n",
            "+--------------------+-------+-----+------------+-----------+-----------------+------+----+--------+------------+-----+\n",
            "|1/1/2023_9E_JFK_B...|      1|    1|           1|          7|               9E|   JFK| BUF|   301.0|      1645.0|  0.0|\n",
            "|1/1/2023_9E_MIA_T...|      1|    1|           1|          7|               9E|   MIA| TYS|   724.0|      1600.0|  1.0|\n",
            "|1/1/2023_AA_DCA_L...|      1|    1|           1|          7|               AA|   DCA| LAS|  2089.0|       759.0|  0.0|\n",
            "|1/1/2023_AA_DEN_O...|      1|    1|           1|          7|               AA|   DEN| ORD|   888.0|      1232.0|  0.0|\n",
            "|1/1/2023_AA_DFW_C...|      1|    1|           1|          7|               AA|   DFW| CMH|   926.0|      1647.0|  1.0|\n",
            "|1/1/2023_AA_DFW_P...|      1|    1|           1|          7|               AA|   DFW| PHL|  1303.0|      1535.0|  2.0|\n",
            "|1/1/2023_AA_DTW_D...|      1|    1|           1|          7|               AA|   DTW| DFW|   986.0|      1751.0|  0.0|\n",
            "|1/1/2023_AA_EWR_P...|      1|    1|           1|          7|               AA|   EWR| PHX|  2133.0|      1701.0|  1.0|\n",
            "|1/1/2023_AA_HNL_D...|      1|    1|           1|          7|               AA|   HNL| DFW|  3784.0|      1900.0|  1.0|\n",
            "|1/1/2023_AA_LAS_A...|      1|    1|           1|          7|               AA|   LAS| AUS|  1090.0|      1537.0|  2.0|\n",
            "|1/1/2023_AA_LAS_L...|      1|    1|           1|          7|               AA|   LAS| LAX|   236.0|      1530.0|  2.0|\n",
            "|1/1/2023_AA_LAS_P...|      1|    1|           1|          7|               AA|   LAS| PHL|  2176.0|      1237.0|  2.0|\n",
            "|1/1/2023_AA_MIA_B...|      1|    1|           1|          7|               AA|   MIA| BOS|  1258.0|      2100.0|  1.0|\n",
            "|1/1/2023_AA_MIA_O...|      1|    1|           1|          7|               AA|   MIA| ORD|  1197.0|      1354.0|  2.0|\n",
            "|1/1/2023_AA_MIA_S...|      1|    1|           1|          7|               AA|   MIA| SJU|  1045.0|      1220.0|  0.0|\n",
            "|1/1/2023_AA_ORD_S...|      1|    1|           1|          7|               AA|   ORD| SAT|  1041.0|       925.0|  0.0|\n",
            "|1/1/2023_AA_PHX_B...|      1|    1|           1|          7|               AA|   PHX| BOI|   735.0|      1330.0|  2.0|\n",
            "|1/1/2023_AA_SFO_P...|      1|    1|           1|          7|               AA|   SFO| PHX|   651.0|      1457.0|  0.0|\n",
            "|1/1/2023_AA_SJU_D...|      1|    1|           1|          7|               AA|   SJU| DFW|  2165.0|       730.0|  0.0|\n",
            "|1/1/2023_AA_SNA_D...|      1|    1|           1|          7|               AA|   SNA| DFW|  1205.0|       815.0|  0.0|\n",
            "+--------------------+-------+-----+------------+-----------+-----------------+------+----+--------+------------+-----+\n",
            "only showing top 20 rows\n",
            "\n"
          ]
        },
        {
          "output_type": "execute_result",
          "data": {
            "text/plain": [
              "2069218"
            ]
          },
          "metadata": {},
          "execution_count": 6
        }
      ],
      "source": [
        "train.printSchema()\n",
        "train.show()\n",
        "train.count()"
      ]
    },
    {
      "cell_type": "code",
      "execution_count": 7,
      "metadata": {
        "id": "zkCBAueLU68U",
        "colab": {
          "base_uri": "https://localhost:8080/"
        },
        "outputId": "bfca9724-8627-4bc0-dfdc-fcd99c9cd5d2"
      },
      "outputs": [
        {
          "output_type": "stream",
          "name": "stdout",
          "text": [
            "root\n",
            " |-- ID: string (nullable = true)\n",
            " |-- QUARTER: integer (nullable = true)\n",
            " |-- MONTH: integer (nullable = true)\n",
            " |-- DAY_OF_MONTH: integer (nullable = true)\n",
            " |-- DAY_OF_WEEK: integer (nullable = true)\n",
            " |-- OP_UNIQUE_CARRIER: string (nullable = true)\n",
            " |-- ORIGIN: string (nullable = true)\n",
            " |-- DEST: string (nullable = true)\n",
            " |-- DISTANCE: double (nullable = true)\n",
            " |-- CRS_DEP_TIME: double (nullable = true)\n",
            " |-- LABEL: double (nullable = true)\n",
            "\n",
            "+--------------------+-------+-----+------------+-----------+-----------------+------+----+--------+------------+-----+\n",
            "|                  ID|QUARTER|MONTH|DAY_OF_MONTH|DAY_OF_WEEK|OP_UNIQUE_CARRIER|ORIGIN|DEST|DISTANCE|CRS_DEP_TIME|LABEL|\n",
            "+--------------------+-------+-----+------------+-----------+-----------------+------+----+--------+------------+-----+\n",
            "|1/1/2023_AA_CLT_J...|      1|    1|           1|          7|               AA|   CLT| JFK|   541.0|       711.0|  1.0|\n",
            "|1/1/2023_AA_DFW_B...|      1|    1|           1|          7|               AA|   DFW| BUR|  1231.0|      1052.0|  0.0|\n",
            "|1/1/2023_AA_ECP_C...|      1|    1|           1|          7|               AA|   ECP| CLT|   437.0|      1243.0|  2.0|\n",
            "|1/1/2023_AA_EWR_O...|      1|    1|           1|          7|               AA|   EWR| ORD|   719.0|       659.0|  2.0|\n",
            "|1/1/2023_AA_MIA_O...|      1|    1|           1|          7|               AA|   MIA| ORD|  1197.0|      2123.0|  1.0|\n",
            "|1/1/2023_AA_ORF_D...|      1|    1|           1|          7|               AA|   ORF| DFW|  1212.0|       650.0|  0.0|\n",
            "|1/1/2023_AA_PHX_S...|      1|    1|           1|          7|               AA|   PHX| SEA|  1107.0|      1815.0|  2.0|\n",
            "|1/1/2023_AA_SEA_C...|      1|    1|           1|          7|               AA|   SEA| CLT|  2279.0|      2210.0|  2.0|\n",
            "|1/1/2023_AS_MCO_S...|      1|    1|           1|          7|               AS|   MCO| SEA|  2554.0|      1650.0|  2.0|\n",
            "|1/1/2023_AS_PHX_S...|      1|    1|           1|          7|               AS|   PHX| SEA|  1107.0|      2055.0|  1.0|\n",
            "|1/1/2023_AS_PSP_S...|      1|    1|           1|          7|               AS|   PSP| SEA|   987.0|      1705.0|  0.0|\n",
            "|1/1/2023_B6_BOS_S...|      1|    1|           1|          7|               B6|   BOS| SEA|  2496.0|      1915.0|  2.0|\n",
            "|1/1/2023_DL_ATL_L...|      1|    1|           1|          7|               DL|   ATL| LGA|   762.0|      1950.0|  1.0|\n",
            "|1/1/2023_DL_BOS_L...|      1|    1|           1|          7|               DL|   BOS| LAS|  2381.0|       755.0|  1.0|\n",
            "|1/1/2023_DL_DTW_P...|      1|    1|           1|          7|               DL|   DTW| PHX|  1671.0|      2055.0|  0.0|\n",
            "|1/1/2023_F9_DEN_I...|      1|    1|           1|          7|               F9|   DEN| IAH|   862.0|      1844.0|  2.0|\n",
            "|1/1/2023_MQ_BIS_D...|      1|    1|           1|          7|               MQ|   BIS| DFW|   977.0|       630.0|  1.0|\n",
            "|1/1/2023_NK_MCO_M...|      1|    1|           1|          7|               NK|   MCO| MSY|   551.0|      1900.0|  2.0|\n",
            "|1/1/2023_NK_PIT_F...|      1|    1|           1|          7|               NK|   PIT| FLL|   994.0|       620.0|  1.0|\n",
            "|1/1/2023_OO_SFO_S...|      1|    1|           1|          7|               OO|   SFO| SBP|   190.0|      2241.0|  2.0|\n",
            "+--------------------+-------+-----+------------+-----------+-----------------+------+----+--------+------------+-----+\n",
            "only showing top 20 rows\n",
            "\n"
          ]
        },
        {
          "output_type": "execute_result",
          "data": {
            "text/plain": [
              "517382"
            ]
          },
          "metadata": {},
          "execution_count": 7
        }
      ],
      "source": [
        "test.printSchema()\n",
        "test.show()\n",
        "test.count()"
      ]
    },
    {
      "cell_type": "code",
      "execution_count": 8,
      "metadata": {
        "id": "HeWChvks29N1",
        "colab": {
          "base_uri": "https://localhost:8080/",
          "height": 673
        },
        "outputId": "2c9701cf-f2aa-42ed-81ee-eb3cbb89300c"
      },
      "outputs": [
        {
          "output_type": "stream",
          "name": "stderr",
          "text": [
            "<ipython-input-8-9d3700860107>:20: UserWarning: set_ticklabels() should only be used with a fixed number of ticks, i.e. after set_ticks() or using a FixedLocator.\n",
            "  ax.set_xticklabels(labels)\n"
          ]
        },
        {
          "output_type": "display_data",
          "data": {
            "text/plain": [
              "<Figure size 1200x800 with 1 Axes>"
            ],
            "image/png": "[encoded data removed]"
          },
          "metadata": {}
        }
      ],
      "source": [
        "df_train = train.select('LABEL').toPandas()\n",
        "df_test = test.select('LABEL').toPandas()\n",
        "\n",
        "label_train = list(df_train.LABEL.value_counts())\n",
        "label_test = list(df_test.LABEL.value_counts())\n",
        "\n",
        "rate_train = [round(x * 100 / sum(label_train), 1) for x in label_train]\n",
        "rate_test = [round(x * 100 / sum(label_test), 1) for x in label_test]\n",
        "\n",
        "labels = ['G1', 'G2', 'G3']\n",
        "\n",
        "x = np.arange(len(labels))  # the label locations\n",
        "width = 0.35  # the width of the bars\n",
        "\n",
        "fig, ax = plt.subplots(figsize =(12, 8))\n",
        "rects1 = ax.bar(x - width/2, label_train, width, label='Train set', color ='#00BFFF')\n",
        "rects2 = ax.bar(x + width/2, label_test, width, label='Test set', color ='#00FFFF')\n",
        "ax = plt.gca()\n",
        "ax.ticklabel_format(useOffset=False, style='plain')\n",
        "ax.set_xticklabels(labels)\n",
        "ax.legend()\n",
        "\n",
        "def autolabel_train(rects):\n",
        "    i = 0\n",
        "    for rect in rects:\n",
        "        height = rect.get_height()\n",
        "        height_2 = str(rate_train[i]) + '%'\n",
        "        i = i + 1\n",
        "        ax.annotate('{}'.format(height_2),\n",
        "                    xy=(rect.get_x() + rect.get_width() / 2, height),\n",
        "                    xytext=(0, 3),  # 3 points vertical offset\n",
        "                    textcoords=\"offset points\",\n",
        "                    ha='center', va='bottom')\n",
        "def autolabel_test(rects):\n",
        "    i = 0\n",
        "    for rect in rects:\n",
        "        height = rect.get_height()\n",
        "        height_2 = str(rate_test[i]) + '%'\n",
        "        i = i + 1\n",
        "        ax.annotate('{}'.format(height_2),\n",
        "                    xy=(rect.get_x() + rect.get_width() / 2, height),\n",
        "                    xytext=(0, 3),  # 3 points vertical offset\n",
        "                    textcoords=\"offset points\",\n",
        "                    ha='center', va='bottom')\n",
        "\n",
        "autolabel_train(rects1)\n",
        "autolabel_test(rects2)\n",
        "# Adding Xticks\n",
        "plt.xlabel('Label', fontsize = 15, fontfamily='serif')\n",
        "plt.ylabel('Count', fontsize = 15, fontfamily='serif')\n",
        "plt.xticks([r for r in range(len(label_train))], ['0', '1', '2'])\n",
        "fig.tight_layout()\n",
        "plt.show()"
      ]
    },
    {
      "cell_type": "markdown",
      "metadata": {
        "id": "4o8uB24A3rlM"
      },
      "source": [
        "## **Build & Evaluation Model**"
      ]
    },
    {
      "cell_type": "markdown",
      "metadata": {
        "id": "JAV-q9NKSC2E"
      },
      "source": [
        "### Logistic Regression"
      ]
    },
    {
      "cell_type": "markdown",
      "metadata": {
        "id": "HtUBx4SNXALy"
      },
      "source": [
        "#### Training model"
      ]
    },
    {
      "cell_type": "code",
      "execution_count": 9,
      "metadata": {
        "id": "HPelazhhHbAM"
      },
      "outputs": [],
      "source": [
        "stringIndexer = StringIndexer(inputCols=['OP_UNIQUE_CARRIER', 'ORIGIN', 'DEST'],\n",
        "                              outputCols=['OP_UNIQUE_CARRIERIndex', 'ORIGINIndex', 'DESTIndex'])"
      ]
    },
    {
      "cell_type": "code",
      "execution_count": 10,
      "metadata": {
        "id": "guj6fH4xICfX"
      },
      "outputs": [],
      "source": [
        "oneHotEncoder = OneHotEncoder(inputCols=['OP_UNIQUE_CARRIERIndex', 'ORIGINIndex', 'DESTIndex'],\n",
        "                              outputCols=['OP_UNIQUE_CARRIERVec', 'ORIGINVec','DESTVec'])"
      ]
    },
    {
      "cell_type": "code",
      "execution_count": 11,
      "metadata": {
        "id": "OMWBocr0R86y"
      },
      "outputs": [],
      "source": [
        "assembler = VectorAssembler(inputCols=['QUARTER', 'MONTH', 'DAY_OF_MONTH', 'DAY_OF_WEEK', 'OP_UNIQUE_CARRIERVec', 'ORIGINVec',\n",
        "                                       'DESTVec', 'DISTANCE', 'CRS_DEP_TIME'], outputCol='features')"
      ]
    },
    {
      "cell_type": "code",
      "execution_count": 12,
      "metadata": {
        "id": "WEtj-h7rR89I"
      },
      "outputs": [],
      "source": [
        "LR = LogisticRegression(featuresCol='features',labelCol='LABEL')"
      ]
    },
    {
      "cell_type": "code",
      "execution_count": 13,
      "metadata": {
        "id": "k92aEhopAMCV"
      },
      "outputs": [],
      "source": [
        "pipeline = Pipeline(stages=[stringIndexer,\n",
        "                            oneHotEncoder,\n",
        "                            assembler, LR])"
      ]
    },
    {
      "cell_type": "code",
      "execution_count": 14,
      "metadata": {
        "id": "fWa-CkTeAMI5",
        "colab": {
          "base_uri": "https://localhost:8080/"
        },
        "outputId": "e5f6317e-b90d-488f-ba57-b39dbf930db6"
      },
      "outputs": [
        {
          "output_type": "stream",
          "name": "stdout",
          "text": [
            "CPU times: user 405 ms, sys: 67.5 ms, total: 473 ms\n",
            "Wall time: 1min 22s\n"
          ]
        }
      ],
      "source": [
        "%%time\n",
        "model_LR = pipeline.fit(train)"
      ]
    },
    {
      "cell_type": "markdown",
      "metadata": {
        "id": "GNQzDN8Olkze"
      },
      "source": [
        "#### Evaluation model"
      ]
    },
    {
      "cell_type": "markdown",
      "metadata": {
        "id": "KHF3CDUSXK2Q"
      },
      "source": [
        "##### Train"
      ]
    },
    {
      "cell_type": "code",
      "execution_count": 15,
      "metadata": {
        "id": "lltE4FoHF6yG",
        "colab": {
          "base_uri": "https://localhost:8080/"
        },
        "outputId": "58d3770a-0cf5-4c09-fca7-ee1417e5a834"
      },
      "outputs": [
        {
          "output_type": "stream",
          "name": "stdout",
          "text": [
            "+------------------------+-------+-----+------------+-----------+-----------------+------+----+--------+------------+-----+----------------------+-----------+---------+--------------------+----------------+----------------+----------------------------------------------------------------------------+----------------------------------------------------------------+-------------------------------------------------------------+----------+\n",
            "|ID                      |QUARTER|MONTH|DAY_OF_MONTH|DAY_OF_WEEK|OP_UNIQUE_CARRIER|ORIGIN|DEST|DISTANCE|CRS_DEP_TIME|LABEL|OP_UNIQUE_CARRIERIndex|ORIGINIndex|DESTIndex|OP_UNIQUE_CARRIERVec|ORIGINVec       |DESTVec         |features                                                                    |rawPrediction                                                   |probability                                                  |prediction|\n",
            "+------------------------+-------+-----+------------+-----------+-----------------+------+----+--------+------------+-----+----------------------+-----------+---------+--------------------+----------------+----------------+----------------------------------------------------------------------------+----------------------------------------------------------------+-------------------------------------------------------------+----------+\n",
            "|1/1/2023_9E_JFK_BUF_5274|1      |1    |1           |7          |9E               |JFK   |BUF |301.0   |1645.0      |0.0  |12.0                  |14.0       |63.0     |(14,[12],[1.0])     |(348,[14],[1.0])|(349,[63],[1.0])|(717,[0,1,2,3,16,32,429,715,716],[1.0,1.0,1.0,7.0,1.0,1.0,1.0,301.0,1645.0])|[0.04598088565584321,-0.24806023639988856,0.20207935074404537]  |[0.3431488614963281,0.2557302631683822,0.4011208753352896]   |2.0       |\n",
            "|1/1/2023_9E_MIA_TYS_5546|1      |1    |1           |7          |9E               |MIA   |TYS |724.0   |1600.0      |1.0  |12.0                  |19.0       |83.0     |(14,[12],[1.0])     |(348,[19],[1.0])|(349,[83],[1.0])|(717,[0,1,2,3,16,37,449,715,716],[1.0,1.0,1.0,7.0,1.0,1.0,1.0,724.0,1600.0])|[0.12586356315527167,-0.3011047088478523,0.17524114569258087]   |[0.369945450423649,0.2413835812099802,0.3886709683663708]    |2.0       |\n",
            "|1/1/2023_AA_DCA_LAS_1308|1      |1    |1           |7          |AA               |DCA   |LAS |2089.0  |759.0       |0.0  |1.0                   |15.0       |4.0      |(14,[1],[1.0])      |(348,[15],[1.0])|(349,[4],[1.0]) |(717,[0,1,2,3,5,33,370,715,716],[1.0,1.0,1.0,7.0,1.0,1.0,1.0,2089.0,759.0]) |[0.17590905542467503,-0.11064402500939169,-0.06526503041528331] |[0.3942359461572286,0.2960109650544104,0.30975308878836105]  |0.0       |\n",
            "|1/1/2023_AA_DEN_ORD_2368|1      |1    |1           |7          |AA               |DEN   |ORD |888.0   |1232.0      |0.0  |1.0                   |1.0        |3.0      |(14,[1],[1.0])      |(348,[1],[1.0]) |(349,[3],[1.0]) |(717,[0,1,2,3,5,19,369,715,716],[1.0,1.0,1.0,7.0,1.0,1.0,1.0,888.0,1232.0]) |[-0.3736454196520289,-0.008123569006269371,0.3817689886582982]  |[0.21882990434284455,0.3153920872346176,0.46577800842253786] |2.0       |\n",
            "|1/1/2023_AA_DFW_CMH_2852|1      |1    |1           |7          |AA               |DFW   |CMH |926.0   |1647.0      |1.0  |1.0                   |2.0        |46.0     |(14,[1],[1.0])      |(348,[2],[1.0]) |(349,[46],[1.0])|(717,[0,1,2,3,5,20,412,715,716],[1.0,1.0,1.0,7.0,1.0,1.0,1.0,926.0,1647.0]) |[-0.39628235804729495,-0.06871156018836172,0.4649939182356567]  |[0.21035927052996095,0.2918931115307899,0.49774761793924927] |2.0       |\n",
            "|1/1/2023_AA_DFW_PHL_422 |1      |1    |1           |7          |AA               |DFW   |PHL |1303.0  |1535.0      |2.0  |1.0                   |2.0        |27.0     |(14,[1],[1.0])      |(348,[2],[1.0]) |(349,[27],[1.0])|(717,[0,1,2,3,5,20,393,715,716],[1.0,1.0,1.0,7.0,1.0,1.0,1.0,1303.0,1535.0])|[-0.45017857453275045,0.013938294547559904,0.43624027998519044] |[0.19932097139405963,0.31704170160256673,0.4836373270033736] |2.0       |\n",
            "|1/1/2023_AA_DTW_DFW_1355|1      |1    |1           |7          |AA               |DTW   |DFW |986.0   |1751.0      |0.0  |1.0                   |17.0       |2.0      |(14,[1],[1.0])      |(348,[17],[1.0])|(349,[2],[1.0]) |(717,[0,1,2,3,5,35,368,715,716],[1.0,1.0,1.0,7.0,1.0,1.0,1.0,986.0,1751.0]) |[-0.4291068543370755,-0.04255329620658105,0.47166015054365673]  |[0.20270039125205386,0.29835454922208715,0.498945059525859]  |2.0       |\n",
            "|1/1/2023_AA_EWR_PHX_2825|1      |1    |1           |7          |AA               |EWR   |PHX |2133.0  |1701.0      |1.0  |1.0                   |12.0       |8.0      |(14,[1],[1.0])      |(348,[12],[1.0])|(349,[8],[1.0]) |(717,[0,1,2,3,5,30,374,715,716],[1.0,1.0,1.0,7.0,1.0,1.0,1.0,2133.0,1701.0])|[-0.575629278445829,0.07750994854065746,0.4981193299051715]     |[0.1710017836126178,0.3285908020609526,0.5004074143264297]   |2.0       |\n",
            "|1/1/2023_AA_HNL_DFW_8   |1      |1    |1           |7          |AA               |HNL   |DFW |3784.0  |1900.0      |1.0  |1.0                   |31.0       |2.0      |(14,[1],[1.0])      |(348,[31],[1.0])|(349,[2],[1.0]) |(717,[0,1,2,3,5,49,368,715,716],[1.0,1.0,1.0,7.0,1.0,1.0,1.0,3784.0,1900.0])|[-0.5178342534258,0.18616918346246145,0.33166506996333855]      |[0.18655649505190222,0.37718566737818887,0.43625783756990877]|2.0       |\n",
            "|1/1/2023_AA_LAS_AUS_1592|1      |1    |1           |7          |AA               |LAS   |AUS |1090.0  |1537.0      |2.0  |1.0                   |4.0        |24.0     |(14,[1],[1.0])      |(348,[4],[1.0]) |(349,[24],[1.0])|(717,[0,1,2,3,5,22,390,715,716],[1.0,1.0,1.0,7.0,1.0,1.0,1.0,1090.0,1537.0])|[-0.26153367533308525,-0.11777656613887483,0.37931024147196035] |[0.2467499540301576,0.2848983930838125,0.46835165288602987]  |2.0       |\n",
            "|1/1/2023_AA_LAS_LAX_277 |1      |1    |1           |7          |AA               |LAS   |LAX |236.0   |1530.0      |2.0  |1.0                   |4.0        |5.0      |(14,[1],[1.0])      |(348,[4],[1.0]) |(349,[5],[1.0]) |(717,[0,1,2,3,5,22,371,715,716],[1.0,1.0,1.0,7.0,1.0,1.0,1.0,236.0,1530.0]) |[-0.22541684173932833,-0.13511410719849887,0.36053094893782733] |[0.2569902209996655,0.28127723042677605,0.4617325485735585]  |2.0       |\n",
            "|1/1/2023_AA_LAS_PHL_664 |1      |1    |1           |7          |AA               |LAS   |PHL |2176.0  |1237.0      |2.0  |1.0                   |4.0        |27.0     |(14,[1],[1.0])      |(348,[4],[1.0]) |(349,[27],[1.0])|(717,[0,1,2,3,5,22,393,715,716],[1.0,1.0,1.0,7.0,1.0,1.0,1.0,2176.0,1237.0])|[-0.2590350587056375,-0.009880157098760722,0.26891521580439826] |[0.2513576911300525,0.3224770240884704,0.4261652847814772]   |2.0       |\n",
            "|1/1/2023_AA_MIA_BOS_2539|1      |1    |1           |7          |AA               |MIA   |BOS |1258.0  |2100.0      |1.0  |1.0                   |19.0       |11.0     |(14,[1],[1.0])      |(348,[19],[1.0])|(349,[11],[1.0])|(717,[0,1,2,3,5,37,377,715,716],[1.0,1.0,1.0,7.0,1.0,1.0,1.0,1258.0,2100.0])|[-0.720958497326852,-0.057098124660311556,0.7780566219871637]   |[0.13477900704892984,0.2617780022584173,0.603442990692653]   |2.0       |\n",
            "|1/1/2023_AA_MIA_ORD_2303|1      |1    |1           |7          |AA               |MIA   |ORD |1197.0  |1354.0      |2.0  |1.0                   |19.0       |3.0      |(14,[1],[1.0])      |(348,[19],[1.0])|(349,[3],[1.0]) |(717,[0,1,2,3,5,37,369,715,716],[1.0,1.0,1.0,7.0,1.0,1.0,1.0,1197.0,1354.0])|[-0.24447740304077056,-0.09270059080710363,0.3371779938478743]  |[0.25297895873505954,0.2944423211553432,0.45257872010959715] |2.0       |\n",
            "|1/1/2023_AA_MIA_SJU_1790|1      |1    |1           |7          |AA               |MIA   |SJU |1045.0  |1220.0      |0.0  |1.0                   |19.0       |47.0     |(14,[1],[1.0])      |(348,[19],[1.0])|(349,[47],[1.0])|(717,[0,1,2,3,5,37,413,715,716],[1.0,1.0,1.0,7.0,1.0,1.0,1.0,1045.0,1220.0])|[-0.2903777252716967,-0.008531227858994461,0.2989089531306911]  |[0.24223179143916992,0.3210964614735232,0.4366717470873069]  |2.0       |\n",
            "|1/1/2023_AA_ORD_SAT_2760|1      |1    |1           |7          |AA               |ORD   |SAT |1041.0  |925.0       |0.0  |1.0                   |3.0        |44.0     |(14,[1],[1.0])      |(348,[3],[1.0]) |(349,[44],[1.0])|(717,[0,1,2,3,5,21,410,715,716],[1.0,1.0,1.0,7.0,1.0,1.0,1.0,1041.0,925.0]) |[0.091670382722394,-0.10763930484233125,0.01596892211993728]    |[0.3641144701346579,0.29831757560957095,0.3375679542557712]  |0.0       |\n",
            "|1/1/2023_AA_PHX_BOI_2127|1      |1    |1           |7          |AA               |PHX   |BOI |735.0   |1330.0      |2.0  |1.0                   |8.0        |66.0     |(14,[1],[1.0])      |(348,[8],[1.0]) |(349,[66],[1.0])|(717,[0,1,2,3,5,26,432,715,716],[1.0,1.0,1.0,7.0,1.0,1.0,1.0,735.0,1330.0]) |[0.04288792699852004,-0.07710816310129454,0.03422023610277447]  |[0.34742806493838146,0.3081422558860543,0.3444296791755642]  |0.0       |\n",
            "|1/1/2023_AA_SFO_PHX_2016|1      |1    |1           |7          |AA               |SFO   |PHX |651.0   |1457.0      |0.0  |1.0                   |13.0       |8.0      |(14,[1],[1.0])      |(348,[13],[1.0])|(349,[8],[1.0]) |(717,[0,1,2,3,5,31,374,715,716],[1.0,1.0,1.0,7.0,1.0,1.0,1.0,651.0,1457.0]) |[-0.13195689389105794,-0.06843405459248192,0.20039094848354]    |[0.2890322469303514,0.307988086570687,0.40297966649896155]   |2.0       |\n",
            "|1/1/2023_AA_SJU_DFW_1591|1      |1    |1           |7          |AA               |SJU   |DFW |2165.0  |730.0       |0.0  |1.0                   |48.0       |2.0      |(14,[1],[1.0])      |(348,[48],[1.0])|(349,[2],[1.0]) |(717,[0,1,2,3,5,66,368,715,716],[1.0,1.0,1.0,7.0,1.0,1.0,1.0,2165.0,730.0]) |[0.018300010502578595,-0.04998563186672772,0.031685621364148986]|[0.3392741081783791,0.3168798617361349,0.34384603008548587]  |2.0       |\n",
            "|1/1/2023_AA_SNA_DFW_1382|1      |1    |1           |7          |AA               |SNA   |DFW |1205.0  |815.0       |0.0  |1.0                   |41.0       |2.0      |(14,[1],[1.0])      |(348,[41],[1.0])|(349,[2],[1.0]) |(717,[0,1,2,3,5,59,368,715,716],[1.0,1.0,1.0,7.0,1.0,1.0,1.0,1205.0,815.0]) |[0.11953473611863905,-0.051822959688700876,-0.0677117764299382] |[0.374285192907928,0.31534281823395416,0.31037198885811784]  |0.0       |\n",
            "+------------------------+-------+-----+------------+-----------+-----------------+------+----+--------+------------+-----+----------------------+-----------+---------+--------------------+----------------+----------------+----------------------------------------------------------------------------+----------------------------------------------------------------+-------------------------------------------------------------+----------+\n",
            "only showing top 20 rows\n",
            "\n"
          ]
        },
        {
          "output_type": "execute_result",
          "data": {
            "text/plain": [
              "2069218"
            ]
          },
          "metadata": {},
          "execution_count": 15
        }
      ],
      "source": [
        "Trained = model_LR.transform(train)\n",
        "Trained.show(truncate=False)\n",
        "Trained.count()"
      ]
    },
    {
      "cell_type": "code",
      "execution_count": 16,
      "metadata": {
        "id": "6Pa0ZYs_HhHq",
        "colab": {
          "base_uri": "https://localhost:8080/"
        },
        "outputId": "a86d6002-1121-4394-c265-7b5d49f9840c"
      },
      "outputs": [
        {
          "output_type": "stream",
          "name": "stdout",
          "text": [
            "+----------+------+\n",
            "|prediction| count|\n",
            "+----------+------+\n",
            "|       0.0|790585|\n",
            "|       1.0|580809|\n",
            "|       2.0|697824|\n",
            "+----------+------+\n",
            "\n"
          ]
        }
      ],
      "source": [
        "Trained.select('prediction').groupBy('prediction').count().show()"
      ]
    },
    {
      "cell_type": "code",
      "execution_count": 17,
      "metadata": {
        "id": "vIzHAgogJ5yw",
        "colab": {
          "base_uri": "https://localhost:8080/"
        },
        "outputId": "1b444ebf-2943-4d21-ce26-24ecd7d8b85f"
      },
      "outputs": [
        {
          "output_type": "stream",
          "name": "stdout",
          "text": [
            "              precision    recall  f1-score   support\n",
            "\n",
            "           0     0.4827    0.5528    0.5153    690309\n",
            "           1     0.4570    0.3849    0.4179    689544\n",
            "           2     0.4488    0.4543    0.4516    689365\n",
            "\n",
            "    accuracy                         0.4640   2069218\n",
            "   macro avg     0.4628    0.4640    0.4616   2069218\n",
            "weighted avg     0.4628    0.4640    0.4616   2069218\n",
            "\n"
          ]
        }
      ],
      "source": [
        "predicted_train = Trained.select(\"prediction\", 'LABEL')\n",
        "predicted_train_score = predicted_train.toPandas()\n",
        "\n",
        "print(classification_report(predicted_train_score.LABEL,\n",
        "                            predicted_train_score.prediction,\n",
        "                            target_names=['0', '1', '2'], digits=4))"
      ]
    },
    {
      "cell_type": "code",
      "execution_count": 18,
      "metadata": {
        "id": "vjRm9TZg0ZfU",
        "colab": {
          "base_uri": "https://localhost:8080/"
        },
        "outputId": "66517052-1966-458a-ed4a-b1fd9d89805d"
      },
      "outputs": [
        {
          "output_type": "stream",
          "name": "stdout",
          "text": [
            "===============Training Data===============\n",
            "Accuracy: 46.40497%\n",
            "F1-Micro: 46.40497%\n",
            "F1-Macro: 46.15988%\n"
          ]
        }
      ],
      "source": [
        "evaluator = MulticlassClassificationEvaluator(labelCol='LABEL', metricName='accuracy')\n",
        "accuracy_train = evaluator.evaluate(Trained)\n",
        "f1_mic = f1_score(predicted_train_score['LABEL'],\n",
        "                  predicted_train_score['prediction'],\n",
        "                  average = 'micro')\n",
        "f1_mac = f1_score(predicted_train_score['LABEL'],\n",
        "                  predicted_train_score['prediction'],\n",
        "                  average = 'macro')\n",
        "\n",
        "print('='*15+'Training Data'+'='*15)\n",
        "print(f'Accuracy: {accuracy_train*100:.5f}%')\n",
        "print(f'F1-Micro: {f1_mic*100:.5f}%')\n",
        "print(f'F1-Macro: {f1_mac*100:.5f}%')"
      ]
    },
    {
      "cell_type": "markdown",
      "metadata": {
        "id": "Rt3G2Oz_lqhQ"
      },
      "source": [
        "##### Test"
      ]
    },
    {
      "cell_type": "code",
      "execution_count": 19,
      "metadata": {
        "id": "unjZBFnxG3P1",
        "colab": {
          "base_uri": "https://localhost:8080/"
        },
        "outputId": "47a8d532-a7f6-4d8a-8d63-fa4d00ec4dc0"
      },
      "outputs": [
        {
          "output_type": "stream",
          "name": "stdout",
          "text": [
            "+--------------------+-------+-----+------------+-----------+-----------------+------+----+--------+------------+-----+----------------------+-----------+---------+--------------------+-----------------+-----------------+--------------------+--------------------+--------------------+----------+\n",
            "|                  ID|QUARTER|MONTH|DAY_OF_MONTH|DAY_OF_WEEK|OP_UNIQUE_CARRIER|ORIGIN|DEST|DISTANCE|CRS_DEP_TIME|LABEL|OP_UNIQUE_CARRIERIndex|ORIGINIndex|DESTIndex|OP_UNIQUE_CARRIERVec|        ORIGINVec|          DESTVec|            features|       rawPrediction|         probability|prediction|\n",
            "+--------------------+-------+-----+------------+-----------+-----------------+------+----+--------+------------+-----+----------------------+-----------+---------+--------------------+-----------------+-----------------+--------------------+--------------------+--------------------+----------+\n",
            "|1/1/2023_AA_CLT_J...|      1|    1|           1|          7|               AA|   CLT| JFK|   541.0|       711.0|  1.0|                   1.0|        5.0|     13.0|      (14,[1],[1.0])|  (348,[5],[1.0])| (349,[13],[1.0])|(717,[0,1,2,3,5,2...|[0.14657923918091...|[0.38379297982327...|       0.0|\n",
            "|1/1/2023_AA_DFW_B...|      1|    1|           1|          7|               AA|   DFW| BUR|  1231.0|      1052.0|  0.0|                   1.0|        2.0|     50.0|      (14,[1],[1.0])|  (348,[2],[1.0])| (349,[50],[1.0])|(717,[0,1,2,3,5,2...|[-0.0518491369986...|[0.31515864613168...|       2.0|\n",
            "|1/1/2023_AA_ECP_C...|      1|    1|           1|          7|               AA|   ECP| CLT|   437.0|      1243.0|  2.0|                   1.0|      113.0|      7.0|      (14,[1],[1.0])|(348,[113],[1.0])|  (349,[7],[1.0])|(717,[0,1,2,3,5,1...|[0.06279935260315...|[0.34801628819708...|       2.0|\n",
            "|1/1/2023_AA_EWR_O...|      1|    1|           1|          7|               AA|   EWR| ORD|   719.0|       659.0|  2.0|                   1.0|       12.0|      3.0|      (14,[1],[1.0])| (348,[12],[1.0])|  (349,[3],[1.0])|(717,[0,1,2,3,5,3...|[0.11535596820429...|[0.37181294535339...|       0.0|\n",
            "|1/1/2023_AA_MIA_O...|      1|    1|           1|          7|               AA|   MIA| ORD|  1197.0|      2123.0|  1.0|                   1.0|       19.0|      3.0|      (14,[1],[1.0])| (348,[19],[1.0])|  (349,[3],[1.0])|(717,[0,1,2,3,5,3...|[-0.7228698167433...|[0.13473093446874...|       2.0|\n",
            "|1/1/2023_AA_ORF_D...|      1|    1|           1|          7|               AA|   ORF| DFW|  1212.0|       650.0|  0.0|                   1.0|       63.0|      2.0|      (14,[1],[1.0])| (348,[63],[1.0])|  (349,[2],[1.0])|(717,[0,1,2,3,5,8...|[0.08281182364853...|[0.36042996613679...|       0.0|\n",
            "|1/1/2023_AA_PHX_S...|      1|    1|           1|          7|               AA|   PHX| SEA|  1107.0|      1815.0|  2.0|                   1.0|        8.0|     10.0|      (14,[1],[1.0])|  (348,[8],[1.0])| (349,[10],[1.0])|(717,[0,1,2,3,5,2...|[-0.3339614358923...|[0.23030095566705...|       2.0|\n",
            "|1/1/2023_AA_SEA_C...|      1|    1|           1|          7|               AA|   SEA| CLT|  2279.0|      2210.0|  2.0|                   1.0|        9.0|      7.0|      (14,[1],[1.0])|  (348,[9],[1.0])|  (349,[7],[1.0])|(717,[0,1,2,3,5,2...|[-0.7713215684143...|[0.13476141295137...|       2.0|\n",
            "|1/1/2023_AS_MCO_S...|      1|    1|           1|          7|               AS|   MCO| SEA|  2554.0|      1650.0|  2.0|                   7.0|        7.0|     10.0|      (14,[7],[1.0])|  (348,[7],[1.0])| (349,[10],[1.0])|(717,[0,1,2,3,11,...|[-0.5213331600800...|[0.18614356592481...|       2.0|\n",
            "|1/1/2023_AS_PHX_S...|      1|    1|           1|          7|               AS|   PHX| SEA|  1107.0|      2055.0|  1.0|                   7.0|        8.0|     10.0|      (14,[7],[1.0])|  (348,[8],[1.0])| (349,[10],[1.0])|(717,[0,1,2,3,11,...|[-0.5027251414870...|[0.19028168363105...|       2.0|\n",
            "|1/1/2023_AS_PSP_S...|      1|    1|           1|          7|               AS|   PSP| SEA|   987.0|      1705.0|  0.0|                   7.0|       83.0|     10.0|      (14,[7],[1.0])| (348,[83],[1.0])| (349,[10],[1.0])|(717,[0,1,2,3,11,...|[-0.1371506851154...|[0.28865249621504...|       2.0|\n",
            "|1/1/2023_B6_BOS_S...|      1|    1|           1|          7|               B6|   BOS| SEA|  2496.0|      1915.0|  2.0|                   5.0|       11.0|     10.0|      (14,[5],[1.0])| (348,[11],[1.0])| (349,[10],[1.0])|(717,[0,1,2,3,9,2...|[-0.8567401545278...|[0.11554249305838...|       2.0|\n",
            "|1/1/2023_DL_ATL_L...|      1|    1|           1|          7|               DL|   ATL| LGA|   762.0|      1950.0|  1.0|                   2.0|        0.0|      9.0|      (14,[2],[1.0])|  (348,[0],[1.0])|  (349,[9],[1.0])|(717,[0,1,2,3,6,1...|[-0.5101207693593...|[0.18611623484472...|       2.0|\n",
            "|1/1/2023_DL_BOS_L...|      1|    1|           1|          7|               DL|   BOS| LAS|  2381.0|       755.0|  1.0|                   2.0|       11.0|      4.0|      (14,[2],[1.0])| (348,[11],[1.0])|  (349,[4],[1.0])|(717,[0,1,2,3,6,2...|[0.10150755495362...|[0.36711551201798...|       0.0|\n",
            "|1/1/2023_DL_DTW_P...|      1|    1|           1|          7|               DL|   DTW| PHX|  1671.0|      2055.0|  0.0|                   2.0|       17.0|      8.0|      (14,[2],[1.0])| (348,[17],[1.0])|  (349,[8],[1.0])|(717,[0,1,2,3,6,3...|[-0.3902756995011...|[0.21657484515827...|       2.0|\n",
            "|1/1/2023_F9_DEN_I...|      1|    1|           1|          7|               F9|   DEN| IAH|   862.0|      1844.0|  2.0|                   9.0|        1.0|     18.0|      (14,[9],[1.0])|  (348,[1],[1.0])| (349,[18],[1.0])|(717,[0,1,2,3,13,...|[-0.9703710552655...|[0.09675801642137...|       2.0|\n",
            "|1/1/2023_MQ_BIS_D...|      1|    1|           1|          7|               MQ|   BIS| DFW|   977.0|       630.0|  1.0|                  10.0|      152.0|      2.0|     (14,[10],[1.0])|(348,[152],[1.0])|  (349,[2],[1.0])|(717,[0,1,2,3,14,...|[0.33517331549836...|[0.44354523131678...|       0.0|\n",
            "|1/1/2023_NK_MCO_M...|      1|    1|           1|          7|               NK|   MCO| MSY|   551.0|      1900.0|  2.0|                   6.0|        7.0|     36.0|      (14,[6],[1.0])|  (348,[7],[1.0])| (349,[36],[1.0])|(717,[0,1,2,3,10,...|[-0.6759118392671...|[0.14297023875190...|       2.0|\n",
            "|1/1/2023_NK_PIT_F...|      1|    1|           1|          7|               NK|   PIT| FLL|   994.0|       620.0|  1.0|                   6.0|       47.0|     20.0|      (14,[6],[1.0])| (348,[47],[1.0])| (349,[20],[1.0])|(717,[0,1,2,3,10,...|[0.16701944303746...|[0.39107938984172...|       0.0|\n",
            "|1/1/2023_OO_SFO_S...|      1|    1|           1|          7|               OO|   SFO| SBP|   190.0|      2241.0|  2.0|                   4.0|       13.0|    135.0|      (14,[4],[1.0])| (348,[13],[1.0])|(349,[135],[1.0])|(717,[0,1,2,3,8,3...|[-0.4059122582054...|[0.20464248881752...|       2.0|\n",
            "+--------------------+-------+-----+------------+-----------+-----------------+------+----+--------+------------+-----+----------------------+-----------+---------+--------------------+-----------------+-----------------+--------------------+--------------------+--------------------+----------+\n",
            "only showing top 20 rows\n",
            "\n"
          ]
        },
        {
          "output_type": "execute_result",
          "data": {
            "text/plain": [
              "517382"
            ]
          },
          "metadata": {},
          "execution_count": 19
        }
      ],
      "source": [
        "Tested = model_LR.transform(test)\n",
        "Tested.show()\n",
        "Tested.count()"
      ]
    },
    {
      "cell_type": "code",
      "execution_count": 20,
      "metadata": {
        "id": "cZsBfUuPIWqw",
        "colab": {
          "base_uri": "https://localhost:8080/"
        },
        "outputId": "e6cf7c63-0e6e-4e76-c565-cb66bdf48c25"
      },
      "outputs": [
        {
          "output_type": "stream",
          "name": "stdout",
          "text": [
            "+----------+------+\n",
            "|prediction| count|\n",
            "+----------+------+\n",
            "|       0.0|197394|\n",
            "|       1.0|145670|\n",
            "|       2.0|174318|\n",
            "+----------+------+\n",
            "\n"
          ]
        }
      ],
      "source": [
        "Tested.select('prediction').groupBy('prediction').count().show()"
      ]
    },
    {
      "cell_type": "code",
      "execution_count": 21,
      "metadata": {
        "id": "KUHLg6gF7_iW",
        "colab": {
          "base_uri": "https://localhost:8080/"
        },
        "outputId": "0067c1ce-58da-4aab-9d4c-cdfd0a59128d"
      },
      "outputs": [
        {
          "output_type": "stream",
          "name": "stdout",
          "text": [
            "              precision    recall  f1-score   support\n",
            "\n",
            "           0     0.4807    0.5520    0.5139    171891\n",
            "           1     0.4577    0.3861    0.4189    172656\n",
            "           2     0.4494    0.4532    0.4513    172835\n",
            "\n",
            "    accuracy                         0.4637    517382\n",
            "   macro avg     0.4626    0.4638    0.4614    517382\n",
            "weighted avg     0.4626    0.4637    0.4613    517382\n",
            "\n"
          ]
        }
      ],
      "source": [
        "predicted_test = Tested.select(\"prediction\", 'LABEL')\n",
        "predicted_test_score = predicted_test.toPandas()\n",
        "\n",
        "from sklearn.metrics import classification_report\n",
        "print(classification_report(predicted_test_score.LABEL,\n",
        "                            predicted_test_score.prediction,\n",
        "                            target_names=['0', '1', '2'], digits=4))"
      ]
    },
    {
      "cell_type": "code",
      "execution_count": 22,
      "metadata": {
        "id": "n2BBBQm3jJdk",
        "colab": {
          "base_uri": "https://localhost:8080/"
        },
        "outputId": "94617545-9571-4667-d782-82dbefba3547"
      },
      "outputs": [
        {
          "output_type": "stream",
          "name": "stdout",
          "text": [
            "===============Testing Data===============\n",
            "Accuracy: 46.36651%\n",
            "F1-Micro: 46.36651%\n",
            "F1-Macro: 46.13578%\n"
          ]
        }
      ],
      "source": [
        "evaluator = MulticlassClassificationEvaluator(labelCol='LABEL', metricName='accuracy')\n",
        "accuracy_test = evaluator.evaluate(Tested)\n",
        "f1_mic = f1_score(predicted_test_score['LABEL'],\n",
        "                  predicted_test_score['prediction'],\n",
        "                  average = 'micro')\n",
        "f1_mac = f1_score(predicted_test_score['LABEL'],\n",
        "                  predicted_test_score['prediction'],\n",
        "                  average = 'macro')\n",
        "\n",
        "print('='*15+'Testing Data'+'='*15)\n",
        "print(f'Accuracy: {accuracy_test*100:.5f}%')\n",
        "print(f'F1-Micro: {f1_mic*100:.5f}%')\n",
        "print(f'F1-Macro: {f1_mac*100:.5f}%')"
      ]
    },
    {
      "cell_type": "markdown",
      "metadata": {
        "id": "oHghlkAhHSlo"
      },
      "source": [
        "#### Save & Load model"
      ]
    },
    {
      "cell_type": "code",
      "execution_count": 23,
      "metadata": {
        "id": "ox2Jq5hgHX1D"
      },
      "outputs": [],
      "source": [
        "model_LR.write().overwrite().save(PATH+'Model/LR')"
      ]
    },
    {
      "cell_type": "code",
      "execution_count": 24,
      "metadata": {
        "id": "haUJNn9oH73a"
      },
      "outputs": [],
      "source": [
        "model_LR_load = PipelineModel.load(PATH+'Model/LR')"
      ]
    },
    {
      "cell_type": "markdown",
      "metadata": {
        "id": "uJZV3QGhYPCG"
      },
      "source": [
        "### Decision Tree"
      ]
    },
    {
      "cell_type": "markdown",
      "metadata": {
        "id": "JXwMRajiJSG7"
      },
      "source": [
        "#### Training model"
      ]
    },
    {
      "cell_type": "code",
      "execution_count": 25,
      "metadata": {
        "id": "DGoI0hJ2JSG9"
      },
      "outputs": [],
      "source": [
        "stringIndexer = StringIndexer(inputCols=['OP_UNIQUE_CARRIER', 'ORIGIN', 'DEST'],\n",
        "                              outputCols=['OP_UNIQUE_CARRIERIndex', 'ORIGINIndex', 'DESTIndex'])"
      ]
    },
    {
      "cell_type": "code",
      "execution_count": 26,
      "metadata": {
        "id": "iXHvdatcJSG_"
      },
      "outputs": [],
      "source": [
        "oneHotEncoder = OneHotEncoder(inputCols=['OP_UNIQUE_CARRIERIndex', 'ORIGINIndex', 'DESTIndex'],\n",
        "                              outputCols=['OP_UNIQUE_CARRIERVec', 'ORIGINVec','DESTVec'])"
      ]
    },
    {
      "cell_type": "code",
      "execution_count": 27,
      "metadata": {
        "id": "XvCx-DmNJSHB"
      },
      "outputs": [],
      "source": [
        "assembler = VectorAssembler(inputCols=['QUARTER', 'MONTH', 'DAY_OF_MONTH', 'DAY_OF_WEEK', 'OP_UNIQUE_CARRIERVec', 'ORIGINVec',\n",
        "                                       'DESTVec', 'DISTANCE', 'CRS_DEP_TIME'], outputCol='features')"
      ]
    },
    {
      "cell_type": "code",
      "execution_count": 27,
      "metadata": {
        "id": "188vAl4fJSHC"
      },
      "outputs": [],
      "source": []
    },
    {
      "cell_type": "code",
      "execution_count": 28,
      "metadata": {
        "id": "A1aNHUsSYPCQ"
      },
      "outputs": [],
      "source": [
        "DT = DecisionTreeClassifier(maxDepth=16,featuresCol='features',labelCol='LABEL')#"
      ]
    },
    {
      "cell_type": "code",
      "execution_count": 29,
      "metadata": {
        "id": "OhxJSlWmJSHF"
      },
      "outputs": [],
      "source": [
        "pipeline = Pipeline(stages=[stringIndexer,\n",
        "                            oneHotEncoder,\n",
        "                            assembler, DT])"
      ]
    },
    {
      "cell_type": "code",
      "execution_count": 30,
      "metadata": {
        "id": "dOyce885YPCY",
        "colab": {
          "base_uri": "https://localhost:8080/"
        },
        "outputId": "72679c96-57bc-492d-938e-34dab8b289be"
      },
      "outputs": [
        {
          "output_type": "stream",
          "name": "stdout",
          "text": [
            "CPU times: user 4.14 s, sys: 648 ms, total: 4.79 s\n",
            "Wall time: 13min 54s\n"
          ]
        }
      ],
      "source": [
        "%%time\n",
        "model_DT = pipeline.fit(train)"
      ]
    },
    {
      "cell_type": "markdown",
      "metadata": {
        "id": "v9xy3HI6YPCZ"
      },
      "source": [
        "#### Evaluation model"
      ]
    },
    {
      "cell_type": "markdown",
      "metadata": {
        "id": "1tA-L3DtYPCZ"
      },
      "source": [
        "##### Train"
      ]
    },
    {
      "cell_type": "code",
      "execution_count": 31,
      "metadata": {
        "id": "XlYnCbprYPCa",
        "colab": {
          "base_uri": "https://localhost:8080/"
        },
        "outputId": "9ec08cde-2cf5-4271-93ad-0f09c5299a76"
      },
      "outputs": [
        {
          "output_type": "stream",
          "name": "stdout",
          "text": [
            "+--------------------+-------+-----+------------+-----------+-----------------+------+----+--------+------------+-----+----------------------+-----------+---------+--------------------+----------------+----------------+--------------------+--------------------+--------------------+----------+\n",
            "|                  ID|QUARTER|MONTH|DAY_OF_MONTH|DAY_OF_WEEK|OP_UNIQUE_CARRIER|ORIGIN|DEST|DISTANCE|CRS_DEP_TIME|LABEL|OP_UNIQUE_CARRIERIndex|ORIGINIndex|DESTIndex|OP_UNIQUE_CARRIERVec|       ORIGINVec|         DESTVec|            features|       rawPrediction|         probability|prediction|\n",
            "+--------------------+-------+-----+------------+-----------+-----------------+------+----+--------+------------+-----+----------------------+-----------+---------+--------------------+----------------+----------------+--------------------+--------------------+--------------------+----------+\n",
            "|1/1/2023_9E_JFK_B...|      1|    1|           1|          7|               9E|   JFK| BUF|   301.0|      1645.0|  0.0|                  12.0|       14.0|     63.0|     (14,[12],[1.0])|(348,[14],[1.0])|(349,[63],[1.0])|(717,[0,1,2,3,16,...|     [22.0,11.0,5.0]|[0.57894736842105...|       0.0|\n",
            "|1/1/2023_9E_MIA_T...|      1|    1|           1|          7|               9E|   MIA| TYS|   724.0|      1600.0|  1.0|                  12.0|       19.0|     83.0|     (14,[12],[1.0])|(348,[19],[1.0])|(349,[83],[1.0])|(717,[0,1,2,3,16,...|     [22.0,11.0,5.0]|[0.57894736842105...|       0.0|\n",
            "|1/1/2023_AA_DCA_L...|      1|    1|           1|          7|               AA|   DCA| LAS|  2089.0|       759.0|  0.0|                   1.0|       15.0|      4.0|      (14,[1],[1.0])|(348,[15],[1.0])| (349,[4],[1.0])|(717,[0,1,2,3,5,3...|     [11.0,9.0,25.0]|[0.24444444444444...|       2.0|\n",
            "|1/1/2023_AA_DEN_O...|      1|    1|           1|          7|               AA|   DEN| ORD|   888.0|      1232.0|  0.0|                   1.0|        1.0|      3.0|      (14,[1],[1.0])| (348,[1],[1.0])| (349,[3],[1.0])|(717,[0,1,2,3,5,1...|[16666.0,19714.0,...|[0.28155356207659...|       2.0|\n",
            "|1/1/2023_AA_DFW_C...|      1|    1|           1|          7|               AA|   DFW| CMH|   926.0|      1647.0|  1.0|                   1.0|        2.0|     46.0|      (14,[1],[1.0])| (348,[2],[1.0])|(349,[46],[1.0])|(717,[0,1,2,3,5,2...|[500.0,872.0,1496.0]|[0.17433751743375...|       2.0|\n",
            "|1/1/2023_AA_DFW_P...|      1|    1|           1|          7|               AA|   DFW| PHL|  1303.0|      1535.0|  2.0|                   1.0|        2.0|     27.0|      (14,[1],[1.0])| (348,[2],[1.0])|(349,[27],[1.0])|(717,[0,1,2,3,5,2...|[14768.0,19750.0,...|[0.23733989039422...|       2.0|\n",
            "|1/1/2023_AA_DTW_D...|      1|    1|           1|          7|               AA|   DTW| DFW|   986.0|      1751.0|  0.0|                   1.0|       17.0|      2.0|      (14,[1],[1.0])|(348,[17],[1.0])| (349,[2],[1.0])|(717,[0,1,2,3,5,3...|[500.0,872.0,1496.0]|[0.17433751743375...|       2.0|\n",
            "|1/1/2023_AA_EWR_P...|      1|    1|           1|          7|               AA|   EWR| PHX|  2133.0|      1701.0|  1.0|                   1.0|       12.0|      8.0|      (14,[1],[1.0])|(348,[12],[1.0])| (349,[8],[1.0])|(717,[0,1,2,3,5,3...|[500.0,872.0,1496.0]|[0.17433751743375...|       2.0|\n",
            "|1/1/2023_AA_HNL_D...|      1|    1|           1|          7|               AA|   HNL| DFW|  3784.0|      1900.0|  1.0|                   1.0|       31.0|      2.0|      (14,[1],[1.0])|(348,[31],[1.0])| (349,[2],[1.0])|(717,[0,1,2,3,5,4...|[500.0,872.0,1496.0]|[0.17433751743375...|       2.0|\n",
            "|1/1/2023_AA_LAS_A...|      1|    1|           1|          7|               AA|   LAS| AUS|  1090.0|      1537.0|  2.0|                   1.0|        4.0|     24.0|      (14,[1],[1.0])| (348,[4],[1.0])|(349,[24],[1.0])|(717,[0,1,2,3,5,2...|[14768.0,19750.0,...|[0.23733989039422...|       2.0|\n",
            "|1/1/2023_AA_LAS_L...|      1|    1|           1|          7|               AA|   LAS| LAX|   236.0|      1530.0|  2.0|                   1.0|        4.0|      5.0|      (14,[1],[1.0])| (348,[4],[1.0])| (349,[5],[1.0])|(717,[0,1,2,3,5,2...|[14768.0,19750.0,...|[0.23733989039422...|       2.0|\n",
            "|1/1/2023_AA_LAS_P...|      1|    1|           1|          7|               AA|   LAS| PHL|  2176.0|      1237.0|  2.0|                   1.0|        4.0|     27.0|      (14,[1],[1.0])| (348,[4],[1.0])|(349,[27],[1.0])|(717,[0,1,2,3,5,2...|[16666.0,19714.0,...|[0.28155356207659...|       2.0|\n",
            "|1/1/2023_AA_MIA_B...|      1|    1|           1|          7|               AA|   MIA| BOS|  1258.0|      2100.0|  1.0|                   1.0|       19.0|     11.0|      (14,[1],[1.0])|(348,[19],[1.0])|(349,[11],[1.0])|(717,[0,1,2,3,5,3...|[500.0,872.0,1496.0]|[0.17433751743375...|       2.0|\n",
            "|1/1/2023_AA_MIA_O...|      1|    1|           1|          7|               AA|   MIA| ORD|  1197.0|      1354.0|  2.0|                   1.0|       19.0|      3.0|      (14,[1],[1.0])|(348,[19],[1.0])| (349,[3],[1.0])|(717,[0,1,2,3,5,3...|[14768.0,19750.0,...|[0.23733989039422...|       2.0|\n",
            "|1/1/2023_AA_MIA_S...|      1|    1|           1|          7|               AA|   MIA| SJU|  1045.0|      1220.0|  0.0|                   1.0|       19.0|     47.0|      (14,[1],[1.0])|(348,[19],[1.0])|(349,[47],[1.0])|(717,[0,1,2,3,5,3...|[16666.0,19714.0,...|[0.28155356207659...|       2.0|\n",
            "|1/1/2023_AA_ORD_S...|      1|    1|           1|          7|               AA|   ORD| SAT|  1041.0|       925.0|  0.0|                   1.0|        3.0|     44.0|      (14,[1],[1.0])| (348,[3],[1.0])|(349,[44],[1.0])|(717,[0,1,2,3,5,2...|    [78.0,91.0,59.0]|[0.34210526315789...|       1.0|\n",
            "|1/1/2023_AA_PHX_B...|      1|    1|           1|          7|               AA|   PHX| BOI|   735.0|      1330.0|  2.0|                   1.0|        8.0|     66.0|      (14,[1],[1.0])| (348,[8],[1.0])|(349,[66],[1.0])|(717,[0,1,2,3,5,2...|[16666.0,19714.0,...|[0.28155356207659...|       2.0|\n",
            "|1/1/2023_AA_SFO_P...|      1|    1|           1|          7|               AA|   SFO| PHX|   651.0|      1457.0|  0.0|                   1.0|       13.0|      8.0|      (14,[1],[1.0])|(348,[13],[1.0])| (349,[8],[1.0])|(717,[0,1,2,3,5,3...|[14768.0,19750.0,...|[0.23733989039422...|       2.0|\n",
            "|1/1/2023_AA_SJU_D...|      1|    1|           1|          7|               AA|   SJU| DFW|  2165.0|       730.0|  0.0|                   1.0|       48.0|      2.0|      (14,[1],[1.0])|(348,[48],[1.0])| (349,[2],[1.0])|(717,[0,1,2,3,5,6...|[1056.0,457.0,474.0]|[0.53145445395067...|       0.0|\n",
            "|1/1/2023_AA_SNA_D...|      1|    1|           1|          7|               AA|   SNA| DFW|  1205.0|       815.0|  0.0|                   1.0|       41.0|      2.0|      (14,[1],[1.0])|(348,[41],[1.0])| (349,[2],[1.0])|(717,[0,1,2,3,5,5...|[7710.0,3842.0,36...|[0.50620445144770...|       0.0|\n",
            "+--------------------+-------+-----+------------+-----------+-----------------+------+----+--------+------------+-----+----------------------+-----------+---------+--------------------+----------------+----------------+--------------------+--------------------+--------------------+----------+\n",
            "only showing top 20 rows\n",
            "\n"
          ]
        },
        {
          "output_type": "execute_result",
          "data": {
            "text/plain": [
              "2069218"
            ]
          },
          "metadata": {},
          "execution_count": 31
        }
      ],
      "source": [
        "Trained = model_DT.transform(train)\n",
        "Trained.show()\n",
        "Trained.count()"
      ]
    },
    {
      "cell_type": "code",
      "execution_count": 32,
      "metadata": {
        "id": "hOkV0UPWYPCc",
        "colab": {
          "base_uri": "https://localhost:8080/"
        },
        "outputId": "717dff27-c21c-475f-9209-d967c83e8480"
      },
      "outputs": [
        {
          "output_type": "stream",
          "name": "stdout",
          "text": [
            "+----------+------+\n",
            "|prediction| count|\n",
            "+----------+------+\n",
            "|       0.0|818024|\n",
            "|       1.0|500398|\n",
            "|       2.0|750796|\n",
            "+----------+------+\n",
            "\n"
          ]
        }
      ],
      "source": [
        "Trained.select('prediction').groupBy('prediction').count().show()"
      ]
    },
    {
      "cell_type": "code",
      "execution_count": 33,
      "metadata": {
        "id": "GJnhFCanYPCe",
        "colab": {
          "base_uri": "https://localhost:8080/"
        },
        "outputId": "e16437f6-b491-48e8-92de-d22414b8817c"
      },
      "outputs": [
        {
          "output_type": "stream",
          "name": "stdout",
          "text": [
            "              precision    recall  f1-score   support\n",
            "\n",
            "           0     0.5239    0.6208    0.5682    690309\n",
            "           1     0.5057    0.3670    0.4253    689544\n",
            "           2     0.5085    0.5538    0.5302    689365\n",
            "\n",
            "    accuracy                         0.5139   2069218\n",
            "   macro avg     0.5127    0.5138    0.5079   2069218\n",
            "weighted avg     0.5127    0.5139    0.5079   2069218\n",
            "\n"
          ]
        }
      ],
      "source": [
        "predicted_train = Trained.select(\"prediction\", 'LABEL')\n",
        "predicted_train_score = predicted_train.toPandas()\n",
        "\n",
        "print(classification_report(predicted_train_score.LABEL,\n",
        "                            predicted_train_score.prediction,\n",
        "                            target_names=['0', '1', '2'], digits=4))"
      ]
    },
    {
      "cell_type": "code",
      "execution_count": 34,
      "metadata": {
        "id": "eXwVS_OWYPCh",
        "colab": {
          "base_uri": "https://localhost:8080/"
        },
        "outputId": "010780d4-b5a2-4ab5-9f58-ad9e4cdfd050"
      },
      "outputs": [
        {
          "output_type": "stream",
          "name": "stdout",
          "text": [
            "===============Training Data===============\n",
            "Accuracy: 51.38772%\n",
            "F1-Micro: 51.38772%\n",
            "F1-Macro: 50.78890%\n"
          ]
        }
      ],
      "source": [
        "evaluator = MulticlassClassificationEvaluator(labelCol='LABEL', metricName='accuracy')\n",
        "accuracy_train = evaluator.evaluate(Trained)\n",
        "f1_mic = f1_score(predicted_train_score['LABEL'],\n",
        "                  predicted_train_score['prediction'],\n",
        "                  average = 'micro')\n",
        "f1_mac = f1_score(predicted_train_score['LABEL'],\n",
        "                  predicted_train_score['prediction'],\n",
        "                  average = 'macro')\n",
        "\n",
        "print('='*15+'Training Data'+'='*15)\n",
        "print(f'Accuracy: {accuracy_train*100:.5f}%')\n",
        "print(f'F1-Micro: {f1_mic*100:.5f}%')\n",
        "print(f'F1-Macro: {f1_mac*100:.5f}%')"
      ]
    },
    {
      "cell_type": "markdown",
      "metadata": {
        "id": "-HOdY7K0YPCj"
      },
      "source": [
        "##### Test"
      ]
    },
    {
      "cell_type": "code",
      "execution_count": 35,
      "metadata": {
        "id": "kZhCb5DAYPCk",
        "colab": {
          "base_uri": "https://localhost:8080/"
        },
        "outputId": "ff62e6fe-6afb-4a1b-a253-d42d89937e4d"
      },
      "outputs": [
        {
          "output_type": "stream",
          "name": "stdout",
          "text": [
            "+--------------------+-------+-----+------------+-----------+-----------------+------+----+--------+------------+-----+----------------------+-----------+---------+--------------------+-----------------+-----------------+--------------------+--------------------+--------------------+----------+\n",
            "|                  ID|QUARTER|MONTH|DAY_OF_MONTH|DAY_OF_WEEK|OP_UNIQUE_CARRIER|ORIGIN|DEST|DISTANCE|CRS_DEP_TIME|LABEL|OP_UNIQUE_CARRIERIndex|ORIGINIndex|DESTIndex|OP_UNIQUE_CARRIERVec|        ORIGINVec|          DESTVec|            features|       rawPrediction|         probability|prediction|\n",
            "+--------------------+-------+-----+------------+-----------+-----------------+------+----+--------+------------+-----+----------------------+-----------+---------+--------------------+-----------------+-----------------+--------------------+--------------------+--------------------+----------+\n",
            "|1/1/2023_AA_CLT_J...|      1|    1|           1|          7|               AA|   CLT| JFK|   541.0|       711.0|  1.0|                   1.0|        5.0|     13.0|      (14,[1],[1.0])|  (348,[5],[1.0])| (349,[13],[1.0])|(717,[0,1,2,3,5,2...|[14926.0,5715.0,7...|[0.53892258809936...|       0.0|\n",
            "|1/1/2023_AA_DFW_B...|      1|    1|           1|          7|               AA|   DFW| BUR|  1231.0|      1052.0|  0.0|                   1.0|        2.0|     50.0|      (14,[1],[1.0])|  (348,[2],[1.0])| (349,[50],[1.0])|(717,[0,1,2,3,5,2...|[2548.0,2823.0,27...|[0.31225490196078...|       1.0|\n",
            "|1/1/2023_AA_ECP_C...|      1|    1|           1|          7|               AA|   ECP| CLT|   437.0|      1243.0|  2.0|                   1.0|      113.0|      7.0|      (14,[1],[1.0])|(348,[113],[1.0])|  (349,[7],[1.0])|(717,[0,1,2,3,5,1...|[16666.0,19714.0,...|[0.28155356207659...|       2.0|\n",
            "|1/1/2023_AA_EWR_O...|      1|    1|           1|          7|               AA|   EWR| ORD|   719.0|       659.0|  2.0|                   1.0|       12.0|      3.0|      (14,[1],[1.0])| (348,[12],[1.0])|  (349,[3],[1.0])|(717,[0,1,2,3,5,3...|   [199.0,82.0,73.0]|[0.56214689265536...|       0.0|\n",
            "|1/1/2023_AA_MIA_O...|      1|    1|           1|          7|               AA|   MIA| ORD|  1197.0|      2123.0|  1.0|                   1.0|       19.0|      3.0|      (14,[1],[1.0])| (348,[19],[1.0])|  (349,[3],[1.0])|(717,[0,1,2,3,5,3...|[500.0,872.0,1496.0]|[0.17433751743375...|       2.0|\n",
            "|1/1/2023_AA_ORF_D...|      1|    1|           1|          7|               AA|   ORF| DFW|  1212.0|       650.0|  0.0|                   1.0|       63.0|      2.0|      (14,[1],[1.0])| (348,[63],[1.0])|  (349,[2],[1.0])|(717,[0,1,2,3,5,8...|[1141.0,434.0,627.0]|[0.51816530426884...|       0.0|\n",
            "|1/1/2023_AA_PHX_S...|      1|    1|           1|          7|               AA|   PHX| SEA|  1107.0|      1815.0|  2.0|                   1.0|        8.0|     10.0|      (14,[1],[1.0])|  (348,[8],[1.0])| (349,[10],[1.0])|(717,[0,1,2,3,5,2...|[500.0,872.0,1496.0]|[0.17433751743375...|       2.0|\n",
            "|1/1/2023_AA_SEA_C...|      1|    1|           1|          7|               AA|   SEA| CLT|  2279.0|      2210.0|  2.0|                   1.0|        9.0|      7.0|      (14,[1],[1.0])|  (348,[9],[1.0])|  (349,[7],[1.0])|(717,[0,1,2,3,5,2...|[500.0,872.0,1496.0]|[0.17433751743375...|       2.0|\n",
            "|1/1/2023_AS_MCO_S...|      1|    1|           1|          7|               AS|   MCO| SEA|  2554.0|      1650.0|  2.0|                   7.0|        7.0|     10.0|      (14,[7],[1.0])|  (348,[7],[1.0])| (349,[10],[1.0])|(717,[0,1,2,3,11,...|[11168.0,14450.0,...|[0.27674389790608...|       2.0|\n",
            "|1/1/2023_AS_PHX_S...|      1|    1|           1|          7|               AS|   PHX| SEA|  1107.0|      2055.0|  1.0|                   7.0|        8.0|     10.0|      (14,[7],[1.0])|  (348,[8],[1.0])| (349,[10],[1.0])|(717,[0,1,2,3,11,...|[11168.0,14450.0,...|[0.27674389790608...|       2.0|\n",
            "|1/1/2023_AS_PSP_S...|      1|    1|           1|          7|               AS|   PSP| SEA|   987.0|      1705.0|  0.0|                   7.0|       83.0|     10.0|      (14,[7],[1.0])| (348,[83],[1.0])| (349,[10],[1.0])|(717,[0,1,2,3,11,...|[11168.0,14450.0,...|[0.27674389790608...|       2.0|\n",
            "|1/1/2023_B6_BOS_S...|      1|    1|           1|          7|               B6|   BOS| SEA|  2496.0|      1915.0|  2.0|                   5.0|       11.0|     10.0|      (14,[5],[1.0])| (348,[11],[1.0])| (349,[10],[1.0])|(717,[0,1,2,3,9,2...|   [16.0,52.0,184.0]|[0.06349206349206...|       2.0|\n",
            "|1/1/2023_DL_ATL_L...|      1|    1|           1|          7|               DL|   ATL| LGA|   762.0|      1950.0|  1.0|                   2.0|        0.0|      9.0|      (14,[2],[1.0])|  (348,[0],[1.0])|  (349,[9],[1.0])|(717,[0,1,2,3,6,1...|[11168.0,14450.0,...|[0.27674389790608...|       2.0|\n",
            "|1/1/2023_DL_BOS_L...|      1|    1|           1|          7|               DL|   BOS| LAS|  2381.0|       755.0|  1.0|                   2.0|       11.0|      4.0|      (14,[2],[1.0])| (348,[11],[1.0])|  (349,[4],[1.0])|(717,[0,1,2,3,6,2...|[1140.0,920.0,829.0]|[0.39460020768431...|       0.0|\n",
            "|1/1/2023_DL_DTW_P...|      1|    1|           1|          7|               DL|   DTW| PHX|  1671.0|      2055.0|  0.0|                   2.0|       17.0|      8.0|      (14,[2],[1.0])| (348,[17],[1.0])|  (349,[8],[1.0])|(717,[0,1,2,3,6,3...|[11168.0,14450.0,...|[0.27674389790608...|       2.0|\n",
            "|1/1/2023_F9_DEN_I...|      1|    1|           1|          7|               F9|   DEN| IAH|   862.0|      1844.0|  2.0|                   9.0|        1.0|     18.0|      (14,[9],[1.0])|  (348,[1],[1.0])| (349,[18],[1.0])|(717,[0,1,2,3,13,...|   [22.0,86.0,295.0]|[0.05459057071960...|       2.0|\n",
            "|1/1/2023_MQ_BIS_D...|      1|    1|           1|          7|               MQ|   BIS| DFW|   977.0|       630.0|  1.0|                  10.0|      152.0|      2.0|     (14,[10],[1.0])|(348,[152],[1.0])|  (349,[2],[1.0])|(717,[0,1,2,3,14,...|[1651.0,766.0,631.0]|[0.54166666666666...|       0.0|\n",
            "|1/1/2023_NK_MCO_M...|      1|    1|           1|          7|               NK|   MCO| MSY|   551.0|      1900.0|  2.0|                   6.0|        7.0|     36.0|      (14,[6],[1.0])|  (348,[7],[1.0])| (349,[36],[1.0])|(717,[0,1,2,3,10,...|     [2.0,10.0,22.0]|[0.05882352941176...|       2.0|\n",
            "|1/1/2023_NK_PIT_F...|      1|    1|           1|          7|               NK|   PIT| FLL|   994.0|       620.0|  1.0|                   6.0|       47.0|     20.0|      (14,[6],[1.0])| (348,[47],[1.0])| (349,[20],[1.0])|(717,[0,1,2,3,10,...|    [26.0,13.0,11.0]|    [0.52,0.26,0.22]|       0.0|\n",
            "|1/1/2023_OO_SFO_S...|      1|    1|           1|          7|               OO|   SFO| SBP|   190.0|      2241.0|  2.0|                   4.0|       13.0|    135.0|      (14,[4],[1.0])| (348,[13],[1.0])|(349,[135],[1.0])|(717,[0,1,2,3,8,3...|      [5.0,7.0,49.0]|[0.08196721311475...|       2.0|\n",
            "+--------------------+-------+-----+------------+-----------+-----------------+------+----+--------+------------+-----+----------------------+-----------+---------+--------------------+-----------------+-----------------+--------------------+--------------------+--------------------+----------+\n",
            "only showing top 20 rows\n",
            "\n"
          ]
        },
        {
          "output_type": "execute_result",
          "data": {
            "text/plain": [
              "517382"
            ]
          },
          "metadata": {},
          "execution_count": 35
        }
      ],
      "source": [
        "Tested = model_DT.transform(test)\n",
        "Tested.show()\n",
        "Tested.count()"
      ]
    },
    {
      "cell_type": "code",
      "execution_count": 36,
      "metadata": {
        "id": "gjjPUJONYPCm",
        "colab": {
          "base_uri": "https://localhost:8080/"
        },
        "outputId": "d7c3d4de-b25d-4385-ca96-e035c70f603e"
      },
      "outputs": [
        {
          "output_type": "stream",
          "name": "stdout",
          "text": [
            "+----------+------+\n",
            "|prediction| count|\n",
            "+----------+------+\n",
            "|       0.0|204415|\n",
            "|       1.0|125155|\n",
            "|       2.0|187812|\n",
            "+----------+------+\n",
            "\n"
          ]
        }
      ],
      "source": [
        "Tested.select('prediction').groupBy('prediction').count().show()"
      ]
    },
    {
      "cell_type": "code",
      "execution_count": 37,
      "metadata": {
        "id": "Cl0rjCBEYPCn",
        "colab": {
          "base_uri": "https://localhost:8080/"
        },
        "outputId": "58bb815a-7156-4e94-ea2a-45613d3d5f47"
      },
      "outputs": [
        {
          "output_type": "stream",
          "name": "stdout",
          "text": [
            "              precision    recall  f1-score   support\n",
            "\n",
            "           0     0.5008    0.5955    0.5440    171891\n",
            "           1     0.4680    0.3392    0.3933    172656\n",
            "           2     0.4881    0.5304    0.5084    172835\n",
            "\n",
            "    accuracy                         0.4882    517382\n",
            "   macro avg     0.4856    0.4884    0.4819    517382\n",
            "weighted avg     0.4856    0.4882    0.4818    517382\n",
            "\n"
          ]
        }
      ],
      "source": [
        "predicted_test = Tested.select(\"prediction\", 'LABEL')\n",
        "predicted_test_score = predicted_test.toPandas()\n",
        "\n",
        "from sklearn.metrics import classification_report\n",
        "print(classification_report(predicted_test_score.LABEL,\n",
        "                            predicted_test_score.prediction,\n",
        "                            target_names=['0', '1', '2'], digits=4))"
      ]
    },
    {
      "cell_type": "code",
      "execution_count": 38,
      "metadata": {
        "id": "FLMOrip0YPCp",
        "colab": {
          "base_uri": "https://localhost:8080/"
        },
        "outputId": "291416ac-08c2-46da-dab1-3d297a7656a1"
      },
      "outputs": [
        {
          "output_type": "stream",
          "name": "stdout",
          "text": [
            "===============Testing Data===============\n",
            "Accuracy: 48.82292%\n",
            "F1-Micro: 48.82292%\n",
            "F1-Macro: 48.19093%\n"
          ]
        }
      ],
      "source": [
        "evaluator = MulticlassClassificationEvaluator(labelCol='LABEL', metricName='accuracy')\n",
        "accuracy_test = evaluator.evaluate(Tested)\n",
        "f1_mic = f1_score(predicted_test_score['LABEL'],\n",
        "                  predicted_test_score['prediction'],\n",
        "                  average = 'micro')\n",
        "f1_mac = f1_score(predicted_test_score['LABEL'],\n",
        "                  predicted_test_score['prediction'],\n",
        "                  average = 'macro')\n",
        "\n",
        "print('='*15+'Testing Data'+'='*15)\n",
        "print(f'Accuracy: {accuracy_test*100:.5f}%')\n",
        "print(f'F1-Micro: {f1_mic*100:.5f}%')\n",
        "print(f'F1-Macro: {f1_mac*100:.5f}%')"
      ]
    },
    {
      "cell_type": "markdown",
      "metadata": {
        "id": "Z56K4mxyI5Ji"
      },
      "source": [
        "#### Save & Load model"
      ]
    },
    {
      "cell_type": "code",
      "execution_count": 39,
      "metadata": {
        "id": "4RubA3PNI5Jj"
      },
      "outputs": [],
      "source": [
        "model_DT.write().overwrite().save(PATH+'Model/DT')"
      ]
    },
    {
      "cell_type": "code",
      "execution_count": 40,
      "metadata": {
        "id": "IzZg-QQ0I5Jk"
      },
      "outputs": [],
      "source": [
        "model_DT_load = PipelineModel.load(PATH+'Model/DT')"
      ]
    },
    {
      "cell_type": "markdown",
      "metadata": {
        "id": "jJuYFbFyObKr"
      },
      "source": [
        "### Random Forest"
      ]
    },
    {
      "cell_type": "markdown",
      "metadata": {
        "id": "OJTm5t1RJs6_"
      },
      "source": [
        "#### Training model"
      ]
    },
    {
      "cell_type": "code",
      "execution_count": 41,
      "metadata": {
        "id": "ZfRz-MLKJs7C"
      },
      "outputs": [],
      "source": [
        "stringIndexer = StringIndexer(inputCols=['OP_UNIQUE_CARRIER', 'ORIGIN', 'DEST'],\n",
        "                              outputCols=['OP_UNIQUE_CARRIERIndex', 'ORIGINIndex', 'DESTIndex'])"
      ]
    },
    {
      "cell_type": "code",
      "execution_count": 42,
      "metadata": {
        "id": "AWlKvRTAJs7F"
      },
      "outputs": [],
      "source": [
        "oneHotEncoder = OneHotEncoder(inputCols=['OP_UNIQUE_CARRIERIndex', 'ORIGINIndex', 'DESTIndex'],\n",
        "                              outputCols=['OP_UNIQUE_CARRIERVec', 'ORIGINVec','DESTVec'])"
      ]
    },
    {
      "cell_type": "code",
      "execution_count": 43,
      "metadata": {
        "id": "uZlFrPIIJs7G"
      },
      "outputs": [],
      "source": [
        "assembler = VectorAssembler(inputCols=['QUARTER', 'MONTH', 'DAY_OF_MONTH', 'DAY_OF_WEEK', 'OP_UNIQUE_CARRIERVec', 'ORIGINVec',\n",
        "                                       'DESTVec', 'DISTANCE', 'CRS_DEP_TIME'], outputCol='features')"
      ]
    },
    {
      "cell_type": "code",
      "execution_count": 44,
      "metadata": {
        "id": "CgznrIXRObMi"
      },
      "outputs": [],
      "source": [
        "RF = RandomForestClassifier(maxDepth=10, numTrees = 3, featuresCol='features', labelCol='LABEL')#"
      ]
    },
    {
      "cell_type": "code",
      "execution_count": 45,
      "metadata": {
        "id": "47UsJkuiJs7M"
      },
      "outputs": [],
      "source": [
        "pipeline = Pipeline(stages=[stringIndexer,\n",
        "                            oneHotEncoder,\n",
        "                            assembler, RF])"
      ]
    },
    {
      "cell_type": "code",
      "execution_count": 46,
      "metadata": {
        "id": "UFf_55r7ObMn",
        "colab": {
          "base_uri": "https://localhost:8080/"
        },
        "outputId": "aea72220-b051-4c89-ddfb-331eb5de1c8d"
      },
      "outputs": [
        {
          "output_type": "stream",
          "name": "stdout",
          "text": [
            "CPU times: user 706 ms, sys: 94 ms, total: 800 ms\n",
            "Wall time: 2min 8s\n"
          ]
        }
      ],
      "source": [
        "%%time\n",
        "model_RF = pipeline.fit(train)"
      ]
    },
    {
      "cell_type": "markdown",
      "metadata": {
        "id": "jXMONE_SObMo"
      },
      "source": [
        "#### Evaluation model"
      ]
    },
    {
      "cell_type": "markdown",
      "metadata": {
        "id": "FVERZG1gObMp"
      },
      "source": [
        "##### Train"
      ]
    },
    {
      "cell_type": "code",
      "execution_count": 47,
      "metadata": {
        "id": "jMMg6BG6ObMr",
        "colab": {
          "base_uri": "https://localhost:8080/"
        },
        "outputId": "cce0801c-af51-44ae-8aeb-883f0d6c6ebc"
      },
      "outputs": [
        {
          "output_type": "stream",
          "name": "stdout",
          "text": [
            "+--------------------+-------+-----+------------+-----------+-----------------+------+----+--------+------------+-----+----------------------+-----------+---------+--------------------+----------------+----------------+--------------------+--------------------+--------------------+----------+\n",
            "|                  ID|QUARTER|MONTH|DAY_OF_MONTH|DAY_OF_WEEK|OP_UNIQUE_CARRIER|ORIGIN|DEST|DISTANCE|CRS_DEP_TIME|LABEL|OP_UNIQUE_CARRIERIndex|ORIGINIndex|DESTIndex|OP_UNIQUE_CARRIERVec|       ORIGINVec|         DESTVec|            features|       rawPrediction|         probability|prediction|\n",
            "+--------------------+-------+-----+------------+-----------+-----------------+------+----+--------+------------+-----+----------------------+-----------+---------+--------------------+----------------+----------------+--------------------+--------------------+--------------------+----------+\n",
            "|1/1/2023_9E_JFK_B...|      1|    1|           1|          7|               9E|   JFK| BUF|   301.0|      1645.0|  0.0|                  12.0|       14.0|     63.0|     (14,[12],[1.0])|(348,[14],[1.0])|(349,[63],[1.0])|(717,[0,1,2,3,16,...|[1.22433326097313...|[0.40811108699104...|       0.0|\n",
            "|1/1/2023_9E_MIA_T...|      1|    1|           1|          7|               9E|   MIA| TYS|   724.0|      1600.0|  1.0|                  12.0|       19.0|     83.0|     (14,[12],[1.0])|(348,[19],[1.0])|(349,[83],[1.0])|(717,[0,1,2,3,16,...|[0.79681147782309...|[0.26560382594103...|       2.0|\n",
            "|1/1/2023_AA_DCA_L...|      1|    1|           1|          7|               AA|   DCA| LAS|  2089.0|       759.0|  0.0|                   1.0|       15.0|      4.0|      (14,[1],[1.0])|(348,[15],[1.0])| (349,[4],[1.0])|(717,[0,1,2,3,5,3...|[1.17117387658747...|[0.39039129219582...|       0.0|\n",
            "|1/1/2023_AA_DEN_O...|      1|    1|           1|          7|               AA|   DEN| ORD|   888.0|      1232.0|  0.0|                   1.0|        1.0|      3.0|      (14,[1],[1.0])| (348,[1],[1.0])| (349,[3],[1.0])|(717,[0,1,2,3,5,1...|[0.79681147782309...|[0.26560382594103...|       2.0|\n",
            "|1/1/2023_AA_DFW_C...|      1|    1|           1|          7|               AA|   DFW| CMH|   926.0|      1647.0|  1.0|                   1.0|        2.0|     46.0|      (14,[1],[1.0])| (348,[2],[1.0])|(349,[46],[1.0])|(717,[0,1,2,3,5,2...|[0.66135499745053...|[0.22045166581684...|       2.0|\n",
            "|1/1/2023_AA_DFW_P...|      1|    1|           1|          7|               AA|   DFW| PHL|  1303.0|      1535.0|  2.0|                   1.0|        2.0|     27.0|      (14,[1],[1.0])| (348,[2],[1.0])|(349,[27],[1.0])|(717,[0,1,2,3,5,2...|[0.66135499745053...|[0.22045166581684...|       2.0|\n",
            "|1/1/2023_AA_DTW_D...|      1|    1|           1|          7|               AA|   DTW| DFW|   986.0|      1751.0|  0.0|                   1.0|       17.0|      2.0|      (14,[1],[1.0])|(348,[17],[1.0])| (349,[2],[1.0])|(717,[0,1,2,3,5,3...|[0.86128789919995...|[0.28709596639998...|       2.0|\n",
            "|1/1/2023_AA_EWR_P...|      1|    1|           1|          7|               AA|   EWR| PHX|  2133.0|      1701.0|  1.0|                   1.0|       12.0|      8.0|      (14,[1],[1.0])|(348,[12],[1.0])| (349,[8],[1.0])|(717,[0,1,2,3,5,3...|[0.79681147782309...|[0.26560382594103...|       2.0|\n",
            "|1/1/2023_AA_HNL_D...|      1|    1|           1|          7|               AA|   HNL| DFW|  3784.0|      1900.0|  1.0|                   1.0|       31.0|      2.0|      (14,[1],[1.0])|(348,[31],[1.0])| (349,[2],[1.0])|(717,[0,1,2,3,5,4...|[0.79681147782309...|[0.26560382594103...|       2.0|\n",
            "|1/1/2023_AA_LAS_A...|      1|    1|           1|          7|               AA|   LAS| AUS|  1090.0|      1537.0|  2.0|                   1.0|        4.0|     24.0|      (14,[1],[1.0])| (348,[4],[1.0])|(349,[24],[1.0])|(717,[0,1,2,3,5,2...|[0.62360368806716...|[0.20786789602238...|       2.0|\n",
            "|1/1/2023_AA_LAS_L...|      1|    1|           1|          7|               AA|   LAS| LAX|   236.0|      1530.0|  2.0|                   1.0|        4.0|      5.0|      (14,[1],[1.0])| (348,[4],[1.0])| (349,[5],[1.0])|(717,[0,1,2,3,5,2...|[0.93046839967511...|[0.31015613322503...|       2.0|\n",
            "|1/1/2023_AA_LAS_P...|      1|    1|           1|          7|               AA|   LAS| PHL|  2176.0|      1237.0|  2.0|                   1.0|        4.0|     27.0|      (14,[1],[1.0])| (348,[4],[1.0])|(349,[27],[1.0])|(717,[0,1,2,3,5,2...|[0.62360368806716...|[0.20786789602238...|       2.0|\n",
            "|1/1/2023_AA_MIA_B...|      1|    1|           1|          7|               AA|   MIA| BOS|  1258.0|      2100.0|  1.0|                   1.0|       19.0|     11.0|      (14,[1],[1.0])|(348,[19],[1.0])|(349,[11],[1.0])|(717,[0,1,2,3,5,3...|[0.79681147782309...|[0.26560382594103...|       2.0|\n",
            "|1/1/2023_AA_MIA_O...|      1|    1|           1|          7|               AA|   MIA| ORD|  1197.0|      1354.0|  2.0|                   1.0|       19.0|      3.0|      (14,[1],[1.0])|(348,[19],[1.0])| (349,[3],[1.0])|(717,[0,1,2,3,5,3...|[0.79681147782309...|[0.26560382594103...|       2.0|\n",
            "|1/1/2023_AA_MIA_S...|      1|    1|           1|          7|               AA|   MIA| SJU|  1045.0|      1220.0|  0.0|                   1.0|       19.0|     47.0|      (14,[1],[1.0])|(348,[19],[1.0])|(349,[47],[1.0])|(717,[0,1,2,3,5,3...|[0.79681147782309...|[0.26560382594103...|       2.0|\n",
            "|1/1/2023_AA_ORD_S...|      1|    1|           1|          7|               AA|   ORD| SAT|  1041.0|       925.0|  0.0|                   1.0|        3.0|     44.0|      (14,[1],[1.0])| (348,[3],[1.0])|(349,[44],[1.0])|(717,[0,1,2,3,5,2...|[1.17117387658747...|[0.39039129219582...|       0.0|\n",
            "|1/1/2023_AA_PHX_B...|      1|    1|           1|          7|               AA|   PHX| BOI|   735.0|      1330.0|  2.0|                   1.0|        8.0|     66.0|      (14,[1],[1.0])| (348,[8],[1.0])|(349,[66],[1.0])|(717,[0,1,2,3,5,2...|[0.79681147782309...|[0.26560382594103...|       2.0|\n",
            "|1/1/2023_AA_SFO_P...|      1|    1|           1|          7|               AA|   SFO| PHX|   651.0|      1457.0|  0.0|                   1.0|       13.0|      8.0|      (14,[1],[1.0])|(348,[13],[1.0])| (349,[8],[1.0])|(717,[0,1,2,3,5,3...|[0.79681147782309...|[0.26560382594103...|       2.0|\n",
            "|1/1/2023_AA_SJU_D...|      1|    1|           1|          7|               AA|   SJU| DFW|  2165.0|       730.0|  0.0|                   1.0|       48.0|      2.0|      (14,[1],[1.0])|(348,[48],[1.0])| (349,[2],[1.0])|(717,[0,1,2,3,5,6...|[1.17117387658747...|[0.39039129219582...|       0.0|\n",
            "|1/1/2023_AA_SNA_D...|      1|    1|           1|          7|               AA|   SNA| DFW|  1205.0|       815.0|  0.0|                   1.0|       41.0|      2.0|      (14,[1],[1.0])|(348,[41],[1.0])| (349,[2],[1.0])|(717,[0,1,2,3,5,5...|[1.17117387658747...|[0.39039129219582...|       0.0|\n",
            "+--------------------+-------+-----+------------+-----------+-----------------+------+----+--------+------------+-----+----------------------+-----------+---------+--------------------+----------------+----------------+--------------------+--------------------+--------------------+----------+\n",
            "only showing top 20 rows\n",
            "\n"
          ]
        },
        {
          "output_type": "execute_result",
          "data": {
            "text/plain": [
              "2069218"
            ]
          },
          "metadata": {},
          "execution_count": 47
        }
      ],
      "source": [
        "Trained = model_RF.transform(train)\n",
        "Trained.show()\n",
        "Trained.count()"
      ]
    },
    {
      "cell_type": "code",
      "execution_count": 48,
      "metadata": {
        "id": "7kt1Kp20ObMs",
        "colab": {
          "base_uri": "https://localhost:8080/"
        },
        "outputId": "e9980b25-2564-4404-99b0-7786ba83848a"
      },
      "outputs": [
        {
          "output_type": "stream",
          "name": "stdout",
          "text": [
            "+----------+-------+\n",
            "|prediction|  count|\n",
            "+----------+-------+\n",
            "|       0.0|1037878|\n",
            "|       1.0| 457126|\n",
            "|       2.0| 574214|\n",
            "+----------+-------+\n",
            "\n"
          ]
        }
      ],
      "source": [
        "Trained.select('prediction').groupBy('prediction').count().show()"
      ]
    },
    {
      "cell_type": "code",
      "execution_count": 49,
      "metadata": {
        "id": "QQiISFpKObMu",
        "colab": {
          "base_uri": "https://localhost:8080/"
        },
        "outputId": "586b4442-9360-43c0-9a21-b0dda22a823e"
      },
      "outputs": [
        {
          "output_type": "stream",
          "name": "stdout",
          "text": [
            "              precision    recall  f1-score   support\n",
            "\n",
            "           0     0.4249    0.6388    0.5103    690309\n",
            "           1     0.4383    0.2905    0.3494    689544\n",
            "           2     0.4454    0.3710    0.4048    689365\n",
            "\n",
            "    accuracy                         0.4335   2069218\n",
            "   macro avg     0.4362    0.4335    0.4215   2069218\n",
            "weighted avg     0.4362    0.4335    0.4216   2069218\n",
            "\n"
          ]
        }
      ],
      "source": [
        "predicted_train = Trained.select(\"prediction\", 'LABEL')\n",
        "predicted_train_score = predicted_train.toPandas()\n",
        "\n",
        "print(classification_report(predicted_train_score.LABEL,\n",
        "                            predicted_train_score.prediction,\n",
        "                            target_names=['0', '1', '2'], digits=4))"
      ]
    },
    {
      "cell_type": "code",
      "execution_count": 50,
      "metadata": {
        "id": "j5rwITX-ObMw",
        "colab": {
          "base_uri": "https://localhost:8080/"
        },
        "outputId": "de77987e-cffe-4311-bd9b-626ac5cfc9ea"
      },
      "outputs": [
        {
          "output_type": "stream",
          "name": "stdout",
          "text": [
            "===============Training Data===============\n",
            "Accuracy: 43.35333%\n",
            "F1-Micro: 43.35333%\n",
            "F1-Macro: 42.15281%\n"
          ]
        }
      ],
      "source": [
        "evaluator = MulticlassClassificationEvaluator(labelCol='LABEL', metricName='accuracy')\n",
        "accuracy_train = evaluator.evaluate(Trained)\n",
        "f1_mic = f1_score(predicted_train_score['LABEL'],\n",
        "                  predicted_train_score['prediction'],\n",
        "                  average = 'micro')\n",
        "f1_mac = f1_score(predicted_train_score['LABEL'],\n",
        "                  predicted_train_score['prediction'],\n",
        "                  average = 'macro')\n",
        "\n",
        "print('='*15+'Training Data'+'='*15)\n",
        "print(f'Accuracy: {accuracy_train*100:.5f}%')\n",
        "print(f'F1-Micro: {f1_mic*100:.5f}%')\n",
        "print(f'F1-Macro: {f1_mac*100:.5f}%')"
      ]
    },
    {
      "cell_type": "markdown",
      "metadata": {
        "id": "tkSHRorKObMy"
      },
      "source": [
        "##### Test"
      ]
    },
    {
      "cell_type": "code",
      "execution_count": 51,
      "metadata": {
        "id": "9OQgx_kDObMz",
        "colab": {
          "base_uri": "https://localhost:8080/"
        },
        "outputId": "38e4c9a0-6312-48be-920d-224a38a892ed"
      },
      "outputs": [
        {
          "output_type": "stream",
          "name": "stdout",
          "text": [
            "+--------------------+-------+-----+------------+-----------+-----------------+------+----+--------+------------+-----+----------------------+-----------+---------+--------------------+-----------------+-----------------+--------------------+--------------------+--------------------+----------+\n",
            "|                  ID|QUARTER|MONTH|DAY_OF_MONTH|DAY_OF_WEEK|OP_UNIQUE_CARRIER|ORIGIN|DEST|DISTANCE|CRS_DEP_TIME|LABEL|OP_UNIQUE_CARRIERIndex|ORIGINIndex|DESTIndex|OP_UNIQUE_CARRIERVec|        ORIGINVec|          DESTVec|            features|       rawPrediction|         probability|prediction|\n",
            "+--------------------+-------+-----+------------+-----------+-----------------+------+----+--------+------------+-----+----------------------+-----------+---------+--------------------+-----------------+-----------------+--------------------+--------------------+--------------------+----------+\n",
            "|1/1/2023_AA_CLT_J...|      1|    1|           1|          7|               AA|   CLT| JFK|   541.0|       711.0|  1.0|                   1.0|        5.0|     13.0|      (14,[1],[1.0])|  (348,[5],[1.0])| (349,[13],[1.0])|(717,[0,1,2,3,5,2...|[1.10367618943105...|[0.36789206314368...|       0.0|\n",
            "|1/1/2023_AA_DFW_B...|      1|    1|           1|          7|               AA|   DFW| BUR|  1231.0|      1052.0|  0.0|                   1.0|        2.0|     50.0|      (14,[1],[1.0])|  (348,[2],[1.0])| (349,[50],[1.0])|(717,[0,1,2,3,5,2...|[1.02453562691517...|[0.34151187563839...|       0.0|\n",
            "|1/1/2023_AA_ECP_C...|      1|    1|           1|          7|               AA|   ECP| CLT|   437.0|      1243.0|  2.0|                   1.0|      113.0|      7.0|      (14,[1],[1.0])|(348,[113],[1.0])|  (349,[7],[1.0])|(717,[0,1,2,3,5,1...|[1.10367618943105...|[0.36789206314368...|       0.0|\n",
            "|1/1/2023_AA_EWR_O...|      1|    1|           1|          7|               AA|   EWR| ORD|   719.0|       659.0|  2.0|                   1.0|       12.0|      3.0|      (14,[1],[1.0])| (348,[12],[1.0])|  (349,[3],[1.0])|(717,[0,1,2,3,5,3...|[1.17117387658747...|[0.39039129219582...|       0.0|\n",
            "|1/1/2023_AA_MIA_O...|      1|    1|           1|          7|               AA|   MIA| ORD|  1197.0|      2123.0|  1.0|                   1.0|       19.0|      3.0|      (14,[1],[1.0])| (348,[19],[1.0])|  (349,[3],[1.0])|(717,[0,1,2,3,5,3...|[0.79681147782309...|[0.26560382594103...|       2.0|\n",
            "|1/1/2023_AA_ORF_D...|      1|    1|           1|          7|               AA|   ORF| DFW|  1212.0|       650.0|  0.0|                   1.0|       63.0|      2.0|      (14,[1],[1.0])| (348,[63],[1.0])|  (349,[2],[1.0])|(717,[0,1,2,3,5,8...|[1.17117387658747...|[0.39039129219582...|       0.0|\n",
            "|1/1/2023_AA_PHX_S...|      1|    1|           1|          7|               AA|   PHX| SEA|  1107.0|      1815.0|  2.0|                   1.0|        8.0|     10.0|      (14,[1],[1.0])|  (348,[8],[1.0])| (349,[10],[1.0])|(717,[0,1,2,3,5,2...|[0.79681147782309...|[0.26560382594103...|       2.0|\n",
            "|1/1/2023_AA_SEA_C...|      1|    1|           1|          7|               AA|   SEA| CLT|  2279.0|      2210.0|  2.0|                   1.0|        9.0|      7.0|      (14,[1],[1.0])|  (348,[9],[1.0])|  (349,[7],[1.0])|(717,[0,1,2,3,5,2...|[0.89373324930105...|[0.29791108310035...|       1.0|\n",
            "|1/1/2023_AS_MCO_S...|      1|    1|           1|          7|               AS|   MCO| SEA|  2554.0|      1650.0|  2.0|                   7.0|        7.0|     10.0|      (14,[7],[1.0])|  (348,[7],[1.0])| (349,[10],[1.0])|(717,[0,1,2,3,11,...|[0.79681147782309...|[0.26560382594103...|       2.0|\n",
            "|1/1/2023_AS_PHX_S...|      1|    1|           1|          7|               AS|   PHX| SEA|  1107.0|      2055.0|  1.0|                   7.0|        8.0|     10.0|      (14,[7],[1.0])|  (348,[8],[1.0])| (349,[10],[1.0])|(717,[0,1,2,3,11,...|[0.79681147782309...|[0.26560382594103...|       2.0|\n",
            "|1/1/2023_AS_PSP_S...|      1|    1|           1|          7|               AS|   PSP| SEA|   987.0|      1705.0|  0.0|                   7.0|       83.0|     10.0|      (14,[7],[1.0])| (348,[83],[1.0])| (349,[10],[1.0])|(717,[0,1,2,3,11,...|[0.79681147782309...|[0.26560382594103...|       2.0|\n",
            "|1/1/2023_B6_BOS_S...|      1|    1|           1|          7|               B6|   BOS| SEA|  2496.0|      1915.0|  2.0|                   5.0|       11.0|     10.0|      (14,[5],[1.0])| (348,[11],[1.0])| (349,[10],[1.0])|(717,[0,1,2,3,9,2...|[0.79681147782309...|[0.26560382594103...|       2.0|\n",
            "|1/1/2023_DL_ATL_L...|      1|    1|           1|          7|               DL|   ATL| LGA|   762.0|      1950.0|  1.0|                   2.0|        0.0|      9.0|      (14,[2],[1.0])|  (348,[0],[1.0])|  (349,[9],[1.0])|(717,[0,1,2,3,6,1...|[0.82622698608439...|[0.27540899536146...|       2.0|\n",
            "|1/1/2023_DL_BOS_L...|      1|    1|           1|          7|               DL|   BOS| LAS|  2381.0|       755.0|  1.0|                   2.0|       11.0|      4.0|      (14,[2],[1.0])| (348,[11],[1.0])|  (349,[4],[1.0])|(717,[0,1,2,3,6,2...|[1.17117387658747...|[0.39039129219582...|       0.0|\n",
            "|1/1/2023_DL_DTW_P...|      1|    1|           1|          7|               DL|   DTW| PHX|  1671.0|      2055.0|  0.0|                   2.0|       17.0|      8.0|      (14,[2],[1.0])| (348,[17],[1.0])|  (349,[8],[1.0])|(717,[0,1,2,3,6,3...|[0.86128789919995...|[0.28709596639998...|       2.0|\n",
            "|1/1/2023_F9_DEN_I...|      1|    1|           1|          7|               F9|   DEN| IAH|   862.0|      1844.0|  2.0|                   9.0|        1.0|     18.0|      (14,[9],[1.0])|  (348,[1],[1.0])| (349,[18],[1.0])|(717,[0,1,2,3,13,...|[0.62507340395581...|[0.20835780131860...|       2.0|\n",
            "|1/1/2023_MQ_BIS_D...|      1|    1|           1|          7|               MQ|   BIS| DFW|   977.0|       630.0|  1.0|                  10.0|      152.0|      2.0|     (14,[10],[1.0])|(348,[152],[1.0])|  (349,[2],[1.0])|(717,[0,1,2,3,14,...|[1.17117387658747...|[0.39039129219582...|       0.0|\n",
            "|1/1/2023_NK_MCO_M...|      1|    1|           1|          7|               NK|   MCO| MSY|   551.0|      1900.0|  2.0|                   6.0|        7.0|     36.0|      (14,[6],[1.0])|  (348,[7],[1.0])| (349,[36],[1.0])|(717,[0,1,2,3,10,...|[1.00642302292711...|[0.33547434097570...|       2.0|\n",
            "|1/1/2023_NK_PIT_F...|      1|    1|           1|          7|               NK|   PIT| FLL|   994.0|       620.0|  1.0|                   6.0|       47.0|     20.0|      (14,[6],[1.0])| (348,[47],[1.0])| (349,[20],[1.0])|(717,[0,1,2,3,10,...|[1.17117387658747...|[0.39039129219582...|       0.0|\n",
            "|1/1/2023_OO_SFO_S...|      1|    1|           1|          7|               OO|   SFO| SBP|   190.0|      2241.0|  2.0|                   4.0|       13.0|    135.0|      (14,[4],[1.0])| (348,[13],[1.0])|(349,[135],[1.0])|(717,[0,1,2,3,8,3...|[1.10367618943105...|[0.36789206314368...|       0.0|\n",
            "+--------------------+-------+-----+------------+-----------+-----------------+------+----+--------+------------+-----+----------------------+-----------+---------+--------------------+-----------------+-----------------+--------------------+--------------------+--------------------+----------+\n",
            "only showing top 20 rows\n",
            "\n"
          ]
        },
        {
          "output_type": "execute_result",
          "data": {
            "text/plain": [
              "517382"
            ]
          },
          "metadata": {},
          "execution_count": 51
        }
      ],
      "source": [
        "Tested = model_RF.transform(test)\n",
        "Tested.show()\n",
        "Tested.count()"
      ]
    },
    {
      "cell_type": "code",
      "execution_count": 52,
      "metadata": {
        "id": "MX_vb3mBObM1",
        "colab": {
          "base_uri": "https://localhost:8080/"
        },
        "outputId": "cc90a4eb-75a1-431e-e312-08eb1f06e0c8"
      },
      "outputs": [
        {
          "output_type": "stream",
          "name": "stdout",
          "text": [
            "+----------+------+\n",
            "|prediction| count|\n",
            "+----------+------+\n",
            "|       0.0|259619|\n",
            "|       1.0|114453|\n",
            "|       2.0|143310|\n",
            "+----------+------+\n",
            "\n"
          ]
        }
      ],
      "source": [
        "Tested.select('prediction').groupBy('prediction').count().show()"
      ]
    },
    {
      "cell_type": "code",
      "execution_count": 53,
      "metadata": {
        "id": "EMTioIJoObM3",
        "colab": {
          "base_uri": "https://localhost:8080/"
        },
        "outputId": "5200326c-1b5a-4dc5-8eb0-5d783da28c6b"
      },
      "outputs": [
        {
          "output_type": "stream",
          "name": "stdout",
          "text": [
            "              precision    recall  f1-score   support\n",
            "\n",
            "           0     0.4234    0.6396    0.5095    171891\n",
            "           1     0.4404    0.2920    0.3511    172656\n",
            "           2     0.4452    0.3691    0.4036    172835\n",
            "\n",
            "    accuracy                         0.4332    517382\n",
            "   macro avg     0.4364    0.4336    0.4214    517382\n",
            "weighted avg     0.4364    0.4332    0.4213    517382\n",
            "\n"
          ]
        }
      ],
      "source": [
        "predicted_test = Tested.select(\"prediction\", 'LABEL')\n",
        "predicted_test_score = predicted_test.toPandas()\n",
        "\n",
        "from sklearn.metrics import classification_report\n",
        "print(classification_report(predicted_test_score.LABEL,\n",
        "                            predicted_test_score.prediction,\n",
        "                            target_names=['0', '1', '2'], digits=4))"
      ]
    },
    {
      "cell_type": "code",
      "execution_count": 54,
      "metadata": {
        "id": "_LuaoyCmObM4",
        "colab": {
          "base_uri": "https://localhost:8080/"
        },
        "outputId": "9350b413-5058-4ac8-a3eb-f4ca74d9de95"
      },
      "outputs": [
        {
          "output_type": "stream",
          "name": "stdout",
          "text": [
            "===============Testing Data===============\n",
            "Accuracy: 43.32273%\n",
            "F1-Micro: 43.32273%\n",
            "F1-Macro: 42.14325%\n"
          ]
        }
      ],
      "source": [
        "evaluator = MulticlassClassificationEvaluator(labelCol='LABEL', metricName='accuracy')\n",
        "accuracy_test = evaluator.evaluate(Tested)\n",
        "f1_mic = f1_score(predicted_test_score['LABEL'],\n",
        "                  predicted_test_score['prediction'],\n",
        "                  average = 'micro')\n",
        "f1_mac = f1_score(predicted_test_score['LABEL'],\n",
        "                  predicted_test_score['prediction'],\n",
        "                  average = 'macro')\n",
        "\n",
        "print('='*15+'Testing Data'+'='*15)\n",
        "print(f'Accuracy: {accuracy_test*100:.5f}%')\n",
        "print(f'F1-Micro: {f1_mic*100:.5f}%')\n",
        "print(f'F1-Macro: {f1_mac*100:.5f}%')"
      ]
    },
    {
      "cell_type": "markdown",
      "metadata": {
        "id": "lY-FZk3eJGlx"
      },
      "source": [
        "#### Save & Load model"
      ]
    },
    {
      "cell_type": "code",
      "execution_count": 55,
      "metadata": {
        "id": "qVLJZP0XJGlz"
      },
      "outputs": [],
      "source": [
        "model_RF.write().overwrite().save(PATH+'Model/RF')"
      ]
    },
    {
      "cell_type": "code",
      "execution_count": 56,
      "metadata": {
        "id": "Mr2WEPgsJGl0"
      },
      "outputs": [],
      "source": [
        "model_RF_load = PipelineModel.load(PATH+'Model/RF')"
      ]
    },
    {
      "cell_type": "markdown",
      "metadata": {
        "id": "X0MyM2QOYlTr"
      },
      "source": [
        "### Naive Bayes"
      ]
    },
    {
      "cell_type": "markdown",
      "metadata": {
        "id": "8wFq-z65YlTs"
      },
      "source": [
        "#### Training model"
      ]
    },
    {
      "cell_type": "code",
      "execution_count": 57,
      "metadata": {
        "id": "V-B1An3NJ6uy"
      },
      "outputs": [],
      "source": [
        "stringIndexer = StringIndexer(inputCols=['OP_UNIQUE_CARRIER', 'ORIGIN', 'DEST'],\n",
        "                              outputCols=['OP_UNIQUE_CARRIERIndex', 'ORIGINIndex', 'DESTIndex'])"
      ]
    },
    {
      "cell_type": "code",
      "execution_count": 58,
      "metadata": {
        "id": "oyym1zQaJ6u0"
      },
      "outputs": [],
      "source": [
        "oneHotEncoder = OneHotEncoder(inputCols=['OP_UNIQUE_CARRIERIndex', 'ORIGINIndex', 'DESTIndex'],\n",
        "                              outputCols=['OP_UNIQUE_CARRIERVec', 'ORIGINVec','DESTVec'])"
      ]
    },
    {
      "cell_type": "code",
      "execution_count": 59,
      "metadata": {
        "id": "xkkO0T_xJ6u3"
      },
      "outputs": [],
      "source": [
        "assembler = VectorAssembler(inputCols=['QUARTER', 'MONTH', 'DAY_OF_MONTH', 'DAY_OF_WEEK', 'OP_UNIQUE_CARRIERVec', 'ORIGINVec',\n",
        "                                       'DESTVec', 'DISTANCE', 'CRS_DEP_TIME'], outputCol='features')"
      ]
    },
    {
      "cell_type": "code",
      "execution_count": 59,
      "metadata": {
        "id": "hl8wAY3XJ6u3"
      },
      "outputs": [],
      "source": []
    },
    {
      "cell_type": "code",
      "execution_count": 60,
      "metadata": {
        "id": "cyvsahPhYlTx"
      },
      "outputs": [],
      "source": [
        "NB = NaiveBayes(featuresCol='features',labelCol='LABEL',smoothing=0.0003,modelType=\"multinomial\")#"
      ]
    },
    {
      "cell_type": "code",
      "execution_count": 61,
      "metadata": {
        "id": "IsgrP17zJ6u6"
      },
      "outputs": [],
      "source": [
        "pipeline = Pipeline(stages=[stringIndexer,\n",
        "                            oneHotEncoder,\n",
        "                            assembler, NB])"
      ]
    },
    {
      "cell_type": "code",
      "execution_count": 62,
      "metadata": {
        "id": "EpN89Xw6YlT0",
        "colab": {
          "base_uri": "https://localhost:8080/"
        },
        "outputId": "4f044243-85e0-4ecc-cb6c-e7c22e9d6d9b"
      },
      "outputs": [
        {
          "output_type": "stream",
          "name": "stdout",
          "text": [
            "CPU times: user 112 ms, sys: 17.1 ms, total: 129 ms\n",
            "Wall time: 18.1 s\n"
          ]
        }
      ],
      "source": [
        "%%time\n",
        "model_NB = pipeline.fit(train)"
      ]
    },
    {
      "cell_type": "markdown",
      "metadata": {
        "id": "bqVApvwTYlT1"
      },
      "source": [
        "#### Evaluation model"
      ]
    },
    {
      "cell_type": "markdown",
      "metadata": {
        "id": "eGU6_TIJYlT1"
      },
      "source": [
        "##### Train"
      ]
    },
    {
      "cell_type": "code",
      "execution_count": 63,
      "metadata": {
        "id": "pP1_Nt02YlT2",
        "colab": {
          "base_uri": "https://localhost:8080/"
        },
        "outputId": "f1c81e1f-86dd-4510-ca11-86eefc3c9e57"
      },
      "outputs": [
        {
          "output_type": "stream",
          "name": "stdout",
          "text": [
            "+--------------------+-------+-----+------------+-----------+-----------------+------+----+--------+------------+-----+----------------------+-----------+---------+--------------------+----------------+----------------+--------------------+--------------------+--------------------+----------+\n",
            "|                  ID|QUARTER|MONTH|DAY_OF_MONTH|DAY_OF_WEEK|OP_UNIQUE_CARRIER|ORIGIN|DEST|DISTANCE|CRS_DEP_TIME|LABEL|OP_UNIQUE_CARRIERIndex|ORIGINIndex|DESTIndex|OP_UNIQUE_CARRIERVec|       ORIGINVec|         DESTVec|            features|       rawPrediction|         probability|prediction|\n",
            "+--------------------+-------+-----+------------+-----------+-----------------+------+----+--------+------------+-----+----------------------+-----------+---------+--------------------+----------------+----------------+--------------------+--------------------+--------------------+----------+\n",
            "|1/1/2023_9E_JFK_B...|      1|    1|           1|          7|               9E|   JFK| BUF|   301.0|      1645.0|  0.0|                  12.0|       14.0|     63.0|     (14,[12],[1.0])|(348,[14],[1.0])|(349,[63],[1.0])|(717,[0,1,2,3,16,...|[-1223.0127872662...|[5.72518521070436...|       2.0|\n",
            "|1/1/2023_9E_MIA_T...|      1|    1|           1|          7|               9E|   MIA| TYS|   724.0|      1600.0|  1.0|                  12.0|       19.0|     83.0|     (14,[12],[1.0])|(348,[19],[1.0])|(349,[83],[1.0])|(717,[0,1,2,3,16,...|[-1606.5761684095...|[7.70106385120135...|       2.0|\n",
            "|1/1/2023_AA_DCA_L...|      1|    1|           1|          7|               AA|   DCA| LAS|  2089.0|       759.0|  0.0|                   1.0|       15.0|      4.0|      (14,[1],[1.0])|(348,[15],[1.0])| (349,[4],[1.0])|(717,[0,1,2,3,5,3...|[-2484.7793502808...|[0.91243865977438...|       0.0|\n",
            "|1/1/2023_AA_DEN_O...|      1|    1|           1|          7|               AA|   DEN| ORD|   888.0|      1232.0|  0.0|                   1.0|        1.0|      3.0|      (14,[1],[1.0])| (348,[1],[1.0])| (349,[3],[1.0])|(717,[0,1,2,3,5,1...|[-1571.8243000318...|[0.12536695328453...|       1.0|\n",
            "|1/1/2023_AA_DFW_C...|      1|    1|           1|          7|               AA|   DFW| CMH|   926.0|      1647.0|  1.0|                   1.0|        2.0|     46.0|      (14,[1],[1.0])| (348,[2],[1.0])|(349,[46],[1.0])|(717,[0,1,2,3,5,2...|[-1820.8374969184...|[1.55696530986099...|       2.0|\n",
            "|1/1/2023_AA_DFW_P...|      1|    1|           1|          7|               AA|   DFW| PHL|  1303.0|      1535.0|  2.0|                   1.0|        2.0|     27.0|      (14,[1],[1.0])| (348,[2],[1.0])|(349,[27],[1.0])|(717,[0,1,2,3,5,2...|[-2124.8919049400...|[0.12252875286416...|       1.0|\n",
            "|1/1/2023_AA_DTW_D...|      1|    1|           1|          7|               AA|   DTW| DFW|   986.0|      1751.0|  0.0|                   1.0|       17.0|      2.0|      (14,[1],[1.0])|(348,[17],[1.0])| (349,[2],[1.0])|(717,[0,1,2,3,5,3...|[-1929.9784735374...|[1.36749807668627...|       2.0|\n",
            "|1/1/2023_AA_EWR_P...|      1|    1|           1|          7|               AA|   EWR| PHX|  2133.0|      1701.0|  1.0|                   1.0|       12.0|      8.0|      (14,[1],[1.0])|(348,[12],[1.0])| (349,[8],[1.0])|(717,[0,1,2,3,5,3...|[-3005.7236253346...|[0.19696321262074...|       1.0|\n",
            "|1/1/2023_AA_HNL_D...|      1|    1|           1|          7|               AA|   HNL| DFW|  3784.0|      1900.0|  1.0|                   1.0|       31.0|      2.0|      (14,[1],[1.0])|(348,[31],[1.0])| (349,[2],[1.0])|(717,[0,1,2,3,5,4...|[-4691.2764153888...|[0.67966374396701...|       0.0|\n",
            "|1/1/2023_AA_LAS_A...|      1|    1|           1|          7|               AA|   LAS| AUS|  1090.0|      1537.0|  2.0|                   1.0|        4.0|     24.0|      (14,[1],[1.0])| (348,[4],[1.0])|(349,[24],[1.0])|(717,[0,1,2,3,5,2...|[-1922.1225330484...|[0.04059088712373...|       1.0|\n",
            "|1/1/2023_AA_LAS_L...|      1|    1|           1|          7|               AA|   LAS| LAX|   236.0|      1530.0|  2.0|                   1.0|        4.0|      5.0|      (14,[1],[1.0])| (348,[4],[1.0])| (349,[5],[1.0])|(717,[0,1,2,3,5,2...|[-1098.4040736690...|[5.55657772754676...|       2.0|\n",
            "|1/1/2023_AA_LAS_P...|      1|    1|           1|          7|               AA|   LAS| PHL|  2176.0|      1237.0|  2.0|                   1.0|        4.0|     27.0|      (14,[1],[1.0])| (348,[4],[1.0])|(349,[27],[1.0])|(717,[0,1,2,3,5,2...|[-2811.6933378759...|[0.57089374277573...|       0.0|\n",
            "|1/1/2023_AA_MIA_B...|      1|    1|           1|          7|               AA|   MIA| BOS|  1258.0|      2100.0|  1.0|                   1.0|       19.0|     11.0|      (14,[1],[1.0])|(348,[19],[1.0])|(349,[11],[1.0])|(717,[0,1,2,3,5,3...|[-2369.4562900335...|[6.35501673557371...|       2.0|\n",
            "|1/1/2023_AA_MIA_O...|      1|    1|           1|          7|               AA|   MIA| ORD|  1197.0|      1354.0|  2.0|                   1.0|       19.0|      3.0|      (14,[1],[1.0])|(348,[19],[1.0])| (349,[3],[1.0])|(717,[0,1,2,3,5,3...|[-1931.1775061209...|[0.19276533641254...|       1.0|\n",
            "|1/1/2023_AA_MIA_S...|      1|    1|           1|          7|               AA|   MIA| SJU|  1045.0|      1220.0|  0.0|                   1.0|       19.0|     47.0|      (14,[1],[1.0])|(348,[19],[1.0])|(349,[47],[1.0])|(717,[0,1,2,3,5,3...|[-1719.6941451537...|[0.11424993107081...|       1.0|\n",
            "|1/1/2023_AA_ORD_S...|      1|    1|           1|          7|               AA|   ORD| SAT|  1041.0|       925.0|  0.0|                   1.0|        3.0|     44.0|      (14,[1],[1.0])| (348,[3],[1.0])|(349,[44],[1.0])|(717,[0,1,2,3,5,2...|[-1564.5704576429...|[0.39449474784024...|       1.0|\n",
            "|1/1/2023_AA_PHX_B...|      1|    1|           1|          7|               AA|   PHX| BOI|   735.0|      1330.0|  2.0|                   1.0|        8.0|     66.0|      (14,[1],[1.0])| (348,[8],[1.0])|(349,[66],[1.0])|(717,[0,1,2,3,5,2...|[-1477.6907308712...|[7.65332648808394...|       2.0|\n",
            "|1/1/2023_AA_SFO_P...|      1|    1|           1|          7|               AA|   SFO| PHX|   651.0|      1457.0|  0.0|                   1.0|       13.0|      8.0|      (14,[1],[1.0])|(348,[13],[1.0])| (349,[8],[1.0])|(717,[0,1,2,3,5,3...|[-1459.7504170769...|[2.12634246971475...|       2.0|\n",
            "|1/1/2023_AA_SJU_D...|      1|    1|           1|          7|               AA|   SJU| DFW|  2165.0|       730.0|  0.0|                   1.0|       48.0|      2.0|      (14,[1],[1.0])|(348,[48],[1.0])| (349,[2],[1.0])|(717,[0,1,2,3,5,6...|[-2544.0302261462...|[0.93830969465991...|       0.0|\n",
            "|1/1/2023_AA_SNA_D...|      1|    1|           1|          7|               AA|   SNA| DFW|  1205.0|       815.0|  0.0|                   1.0|       41.0|      2.0|      (14,[1],[1.0])|(348,[41],[1.0])| (349,[2],[1.0])|(717,[0,1,2,3,5,5...|[-1665.7076564059...|[0.64711916728032...|       0.0|\n",
            "+--------------------+-------+-----+------------+-----------+-----------------+------+----+--------+------------+-----+----------------------+-----------+---------+--------------------+----------------+----------------+--------------------+--------------------+--------------------+----------+\n",
            "only showing top 20 rows\n",
            "\n"
          ]
        },
        {
          "output_type": "execute_result",
          "data": {
            "text/plain": [
              "2069218"
            ]
          },
          "metadata": {},
          "execution_count": 63
        }
      ],
      "source": [
        "Trained = model_NB.transform(train)\n",
        "Trained.show()\n",
        "Trained.count()"
      ]
    },
    {
      "cell_type": "code",
      "execution_count": 64,
      "metadata": {
        "id": "gdnvr8xTYlT3",
        "colab": {
          "base_uri": "https://localhost:8080/"
        },
        "outputId": "9ff27339-f4e9-4539-8906-3afb4cc38377"
      },
      "outputs": [
        {
          "output_type": "stream",
          "name": "stdout",
          "text": [
            "+----------+-------+\n",
            "|prediction|  count|\n",
            "+----------+-------+\n",
            "|       0.0| 671132|\n",
            "|       1.0| 248478|\n",
            "|       2.0|1149608|\n",
            "+----------+-------+\n",
            "\n"
          ]
        }
      ],
      "source": [
        "Trained.select('prediction').groupBy('prediction').count().show()"
      ]
    },
    {
      "cell_type": "code",
      "execution_count": 65,
      "metadata": {
        "id": "f2IKhVmNYlT4",
        "colab": {
          "base_uri": "https://localhost:8080/"
        },
        "outputId": "1e1e0419-92c5-40ad-d2b7-90eeb5c5dd48"
      },
      "outputs": [
        {
          "output_type": "stream",
          "name": "stdout",
          "text": [
            "              precision    recall  f1-score   support\n",
            "\n",
            "           0     0.4032    0.3920    0.3975    690309\n",
            "           1     0.3880    0.1398    0.2056    689544\n",
            "           2     0.3602    0.6008    0.4504    689365\n",
            "\n",
            "    accuracy                         0.3775   2069218\n",
            "   macro avg     0.3838    0.3775    0.3512   2069218\n",
            "weighted avg     0.3838    0.3775    0.3512   2069218\n",
            "\n"
          ]
        }
      ],
      "source": [
        "predicted_train = Trained.select(\"prediction\", 'LABEL')\n",
        "predicted_train_score = predicted_train.toPandas()\n",
        "\n",
        "print(classification_report(predicted_train_score.LABEL,\n",
        "                            predicted_train_score.prediction,\n",
        "                            target_names=['0', '1', '2'], digits=4))"
      ]
    },
    {
      "cell_type": "code",
      "execution_count": 66,
      "metadata": {
        "id": "aAXoIjX2YlT6",
        "colab": {
          "base_uri": "https://localhost:8080/"
        },
        "outputId": "026f4934-f541-4f87-dcd5-6037fb6db523"
      },
      "outputs": [
        {
          "output_type": "stream",
          "name": "stdout",
          "text": [
            "===============Training Data===============\n",
            "Accuracy: 37.75078%\n",
            "F1-Micro: 37.75078%\n",
            "F1-Macro: 35.11597%\n"
          ]
        }
      ],
      "source": [
        "evaluator = MulticlassClassificationEvaluator(labelCol='LABEL', metricName='accuracy')\n",
        "accuracy_train = evaluator.evaluate(Trained)\n",
        "f1_mic = f1_score(predicted_train_score['LABEL'],\n",
        "                  predicted_train_score['prediction'],\n",
        "                  average = 'micro')\n",
        "f1_mac = f1_score(predicted_train_score['LABEL'],\n",
        "                  predicted_train_score['prediction'],\n",
        "                  average = 'macro')\n",
        "\n",
        "print('='*15+'Training Data'+'='*15)\n",
        "print(f'Accuracy: {accuracy_train*100:.5f}%')\n",
        "print(f'F1-Micro: {f1_mic*100:.5f}%')\n",
        "print(f'F1-Macro: {f1_mac*100:.5f}%')"
      ]
    },
    {
      "cell_type": "markdown",
      "metadata": {
        "id": "hQKIlPPBYlT7"
      },
      "source": [
        "##### Test"
      ]
    },
    {
      "cell_type": "code",
      "execution_count": 67,
      "metadata": {
        "id": "eNplcnnTYlT7",
        "colab": {
          "base_uri": "https://localhost:8080/"
        },
        "outputId": "33721452-7910-4ea8-b677-520c388fb4fb"
      },
      "outputs": [
        {
          "output_type": "stream",
          "name": "stdout",
          "text": [
            "+--------------------+-------+-----+------------+-----------+-----------------+------+----+--------+------------+-----+----------------------+-----------+---------+--------------------+-----------------+-----------------+--------------------+--------------------+--------------------+----------+\n",
            "|                  ID|QUARTER|MONTH|DAY_OF_MONTH|DAY_OF_WEEK|OP_UNIQUE_CARRIER|ORIGIN|DEST|DISTANCE|CRS_DEP_TIME|LABEL|OP_UNIQUE_CARRIERIndex|ORIGINIndex|DESTIndex|OP_UNIQUE_CARRIERVec|        ORIGINVec|          DESTVec|            features|       rawPrediction|         probability|prediction|\n",
            "+--------------------+-------+-----+------------+-----------+-----------------+------+----+--------+------------+-----+----------------------+-----------+---------+--------------------+-----------------+-----------------+--------------------+--------------------+--------------------+----------+\n",
            "|1/1/2023_AA_CLT_J...|      1|    1|           1|          7|               AA|   CLT| JFK|   541.0|       711.0|  1.0|                   1.0|        5.0|     13.0|      (14,[1],[1.0])|  (348,[5],[1.0])| (349,[13],[1.0])|(717,[0,1,2,3,5,2...|[-975.09283548318...|[0.45841261397292...|       1.0|\n",
            "|1/1/2023_AA_DFW_B...|      1|    1|           1|          7|               AA|   DFW| BUR|  1231.0|      1052.0|  0.0|                   1.0|        2.0|     50.0|      (14,[1],[1.0])|  (348,[2],[1.0])| (349,[50],[1.0])|(717,[0,1,2,3,5,2...|[-1811.6345072275...|[0.34514943009551...|       1.0|\n",
            "|1/1/2023_AA_ECP_C...|      1|    1|           1|          7|               AA|   ECP| CLT|   437.0|      1243.0|  2.0|                   1.0|      113.0|      7.0|      (14,[1],[1.0])|(348,[113],[1.0])|  (349,[7],[1.0])|(717,[0,1,2,3,5,1...|[-1148.4261418250...|[3.18991344760136...|       2.0|\n",
            "|1/1/2023_AA_EWR_O...|      1|    1|           1|          7|               AA|   EWR| ORD|   719.0|       659.0|  2.0|                   1.0|       12.0|      3.0|      (14,[1],[1.0])| (348,[12],[1.0])|  (349,[3],[1.0])|(717,[0,1,2,3,5,3...|[-1119.1007668893...|[0.62189301080738...|       0.0|\n",
            "|1/1/2023_AA_MIA_O...|      1|    1|           1|          7|               AA|   MIA| ORD|  1197.0|      2123.0|  1.0|                   1.0|       19.0|      3.0|      (14,[1],[1.0])| (348,[19],[1.0])|  (349,[3],[1.0])|(717,[0,1,2,3,5,3...|[-2321.8820404981...|[9.44881018239063...|       2.0|\n",
            "|1/1/2023_AA_ORF_D...|      1|    1|           1|          7|               AA|   ORF| DFW|  1212.0|       650.0|  0.0|                   1.0|       63.0|      2.0|      (14,[1],[1.0])| (348,[63],[1.0])|  (349,[2],[1.0])|(717,[0,1,2,3,5,8...|[-1589.2693613280...|[0.84433324507394...|       0.0|\n",
            "|1/1/2023_AA_PHX_S...|      1|    1|           1|          7|               AA|   PHX| SEA|  1107.0|      1815.0|  2.0|                   1.0|        8.0|     10.0|      (14,[1],[1.0])|  (348,[8],[1.0])| (349,[10],[1.0])|(717,[0,1,2,3,5,2...|[-2078.9558506478...|[0.01049195990216...|       2.0|\n",
            "|1/1/2023_AA_SEA_C...|      1|    1|           1|          7|               AA|   SEA| CLT|  2279.0|      2210.0|  2.0|                   1.0|        9.0|      7.0|      (14,[1],[1.0])|  (348,[9],[1.0])|  (349,[7],[1.0])|(717,[0,1,2,3,5,2...|[-3403.9738694952...|[0.06008671677685...|       1.0|\n",
            "|1/1/2023_AS_MCO_S...|      1|    1|           1|          7|               AS|   MCO| SEA|  2554.0|      1650.0|  2.0|                   7.0|        7.0|     10.0|      (14,[7],[1.0])|  (348,[7],[1.0])| (349,[10],[1.0])|(717,[0,1,2,3,11,...|[-3385.0124776216...|[0.35199180062343...|       1.0|\n",
            "|1/1/2023_AS_PHX_S...|      1|    1|           1|          7|               AS|   PHX| SEA|  1107.0|      2055.0|  1.0|                   7.0|        8.0|     10.0|      (14,[7],[1.0])|  (348,[8],[1.0])| (349,[10],[1.0])|(717,[0,1,2,3,11,...|[-2202.2038883068...|[1.63764601657304...|       2.0|\n",
            "|1/1/2023_AS_PSP_S...|      1|    1|           1|          7|               AS|   PSP| SEA|   987.0|      1705.0|  0.0|                   7.0|       83.0|     10.0|      (14,[7],[1.0])| (348,[83],[1.0])| (349,[10],[1.0])|(717,[0,1,2,3,11,...|[-1911.5851107263...|[0.00221626093207...|       2.0|\n",
            "|1/1/2023_B6_BOS_S...|      1|    1|           1|          7|               B6|   BOS| SEA|  2496.0|      1915.0|  2.0|                   5.0|       11.0|     10.0|      (14,[5],[1.0])| (348,[11],[1.0])| (349,[10],[1.0])|(717,[0,1,2,3,9,2...|[-3464.0831490728...|[0.18839495671454...|       1.0|\n",
            "|1/1/2023_DL_ATL_L...|      1|    1|           1|          7|               DL|   ATL| LGA|   762.0|      1950.0|  1.0|                   2.0|        0.0|      9.0|      (14,[2],[1.0])|  (348,[0],[1.0])|  (349,[9],[1.0])|(717,[0,1,2,3,6,1...|[-1815.7137477895...|[5.61218705450360...|       2.0|\n",
            "|1/1/2023_DL_BOS_L...|      1|    1|           1|          7|               DL|   BOS| LAS|  2381.0|       755.0|  1.0|                   2.0|       11.0|      4.0|      (14,[2],[1.0])| (348,[11],[1.0])|  (349,[4],[1.0])|(717,[0,1,2,3,6,2...|[-2762.9155189310...|[0.93576305917170...|       0.0|\n",
            "|1/1/2023_DL_DTW_P...|      1|    1|           1|          7|               DL|   DTW| PHX|  1671.0|      2055.0|  0.0|                   2.0|       17.0|      8.0|      (14,[2],[1.0])| (348,[17],[1.0])|  (349,[8],[1.0])|(717,[0,1,2,3,6,3...|[-2742.1106284804...|[0.03938179611943...|       1.0|\n",
            "|1/1/2023_F9_DEN_I...|      1|    1|           1|          7|               F9|   DEN| IAH|   862.0|      1844.0|  2.0|                   9.0|        1.0|     18.0|      (14,[9],[1.0])|  (348,[1],[1.0])| (349,[18],[1.0])|(717,[0,1,2,3,13,...|[-1860.5466827506...|[4.65424059448887...|       2.0|\n",
            "|1/1/2023_MQ_BIS_D...|      1|    1|           1|          7|               MQ|   BIS| DFW|   977.0|       630.0|  1.0|                  10.0|      152.0|      2.0|     (14,[10],[1.0])|(348,[152],[1.0])|  (349,[2],[1.0])|(717,[0,1,2,3,14,...|[-1356.6218685781...|[0.83851610128975...|       0.0|\n",
            "|1/1/2023_NK_MCO_M...|      1|    1|           1|          7|               NK|   MCO| MSY|   551.0|      1900.0|  2.0|                   6.0|        7.0|     36.0|      (14,[6],[1.0])|  (348,[7],[1.0])| (349,[36],[1.0])|(717,[0,1,2,3,10,...|[-1591.6375057683...|[1.80488944681079...|       2.0|\n",
            "|1/1/2023_NK_PIT_F...|      1|    1|           1|          7|               NK|   PIT| FLL|   994.0|       620.0|  1.0|                   6.0|       47.0|     20.0|      (14,[6],[1.0])| (348,[47],[1.0])| (349,[20],[1.0])|(717,[0,1,2,3,10,...|[-1366.9424423653...|[0.62829055091488...|       0.0|\n",
            "|1/1/2023_OO_SFO_S...|      1|    1|           1|          7|               OO|   SFO| SBP|   190.0|      2241.0|  2.0|                   4.0|       13.0|    135.0|      (14,[4],[1.0])| (348,[13],[1.0])|(349,[135],[1.0])|(717,[0,1,2,3,8,3...|[-1419.4078743151...|[2.70644253673667...|       2.0|\n",
            "+--------------------+-------+-----+------------+-----------+-----------------+------+----+--------+------------+-----+----------------------+-----------+---------+--------------------+-----------------+-----------------+--------------------+--------------------+--------------------+----------+\n",
            "only showing top 20 rows\n",
            "\n"
          ]
        },
        {
          "output_type": "execute_result",
          "data": {
            "text/plain": [
              "517382"
            ]
          },
          "metadata": {},
          "execution_count": 67
        }
      ],
      "source": [
        "Tested = model_NB.transform(test)\n",
        "Tested.show()\n",
        "Tested.count()"
      ]
    },
    {
      "cell_type": "code",
      "execution_count": 68,
      "metadata": {
        "id": "PYafysdGYlT7",
        "colab": {
          "base_uri": "https://localhost:8080/"
        },
        "outputId": "11d9d460-0c1d-40b8-b872-7612553e49c1"
      },
      "outputs": [
        {
          "output_type": "stream",
          "name": "stdout",
          "text": [
            "+----------+------+\n",
            "|prediction| count|\n",
            "+----------+------+\n",
            "|       0.0|167399|\n",
            "|       1.0| 62110|\n",
            "|       2.0|287873|\n",
            "+----------+------+\n",
            "\n"
          ]
        }
      ],
      "source": [
        "Tested.select('prediction').groupBy('prediction').count().show()"
      ]
    },
    {
      "cell_type": "code",
      "execution_count": 69,
      "metadata": {
        "id": "30kIWe3YYlT8",
        "colab": {
          "base_uri": "https://localhost:8080/"
        },
        "outputId": "21b72d23-46b6-43e8-f1db-ce8ef90bc5a7"
      },
      "outputs": [
        {
          "output_type": "stream",
          "name": "stdout",
          "text": [
            "              precision    recall  f1-score   support\n",
            "\n",
            "           0     0.4028    0.3923    0.3975    171891\n",
            "           1     0.3901    0.1403    0.2064    172656\n",
            "           2     0.3622    0.6032    0.4526    172835\n",
            "\n",
            "    accuracy                         0.3787    517382\n",
            "   macro avg     0.3850    0.3786    0.3522    517382\n",
            "weighted avg     0.3850    0.3787    0.3521    517382\n",
            "\n"
          ]
        }
      ],
      "source": [
        "predicted_test = Tested.select(\"prediction\", 'LABEL')\n",
        "predicted_test_score = predicted_test.toPandas()\n",
        "\n",
        "from sklearn.metrics import classification_report\n",
        "print(classification_report(predicted_test_score.LABEL,\n",
        "                            predicted_test_score.prediction,\n",
        "                            target_names=['0', '1', '2'], digits=4))"
      ]
    },
    {
      "cell_type": "code",
      "execution_count": 70,
      "metadata": {
        "id": "CQiIFQCdYlUH",
        "colab": {
          "base_uri": "https://localhost:8080/"
        },
        "outputId": "2233227e-6dc7-461f-ca40-385bfcd004c8"
      },
      "outputs": [
        {
          "output_type": "stream",
          "name": "stdout",
          "text": [
            "===============Testing Data===============\n",
            "Accuracy: 37.86661%\n",
            "F1-Micro: 37.86661%\n",
            "F1-Macro: 35.21600%\n"
          ]
        }
      ],
      "source": [
        "evaluator = MulticlassClassificationEvaluator(labelCol='LABEL', metricName='accuracy')\n",
        "accuracy_test = evaluator.evaluate(Tested)\n",
        "f1_mic = f1_score(predicted_test_score['LABEL'],\n",
        "                  predicted_test_score['prediction'],\n",
        "                  average = 'micro')\n",
        "f1_mac = f1_score(predicted_test_score['LABEL'],\n",
        "                  predicted_test_score['prediction'],\n",
        "                  average = 'macro')\n",
        "\n",
        "print('='*15+'Testing Data'+'='*15)\n",
        "print(f'Accuracy: {accuracy_test*100:.5f}%')\n",
        "print(f'F1-Micro: {f1_mic*100:.5f}%')\n",
        "print(f'F1-Macro: {f1_mac*100:.5f}%')"
      ]
    },
    {
      "cell_type": "markdown",
      "metadata": {
        "id": "iUxiQC4DJNHZ"
      },
      "source": [
        "#### Save & Load model"
      ]
    },
    {
      "cell_type": "code",
      "execution_count": 71,
      "metadata": {
        "id": "wVVMPA9nJNHc"
      },
      "outputs": [],
      "source": [
        "model_NB.write().overwrite().save(PATH+'Model/NB')"
      ]
    },
    {
      "cell_type": "code",
      "execution_count": 72,
      "metadata": {
        "id": "SBujmanhJNHe"
      },
      "outputs": [],
      "source": [
        "model_NB_load = PipelineModel.load(PATH+'Model/NB')"
      ]
    }
  ],
  "metadata": {
    "colab": {
      "provenance": [],
      "gpuType": "V28",
      "toc_visible": true
    },
    "kernelspec": {
      "display_name": "Python 3",
      "name": "python3"
    },
    "language_info": {
      "codemirror_mode": {
        "name": "ipython",
        "version": 3
      },
      "file_extension": ".py",
      "mimetype": "text/x-python",
      "name": "python",
      "nbconvert_exporter": "python",
      "pygments_lexer": "ipython3",
      "version": "3.9.15"
    },
    "accelerator": "TPU"
  },
  "nbformat": 4,
  "nbformat_minor": 0
}