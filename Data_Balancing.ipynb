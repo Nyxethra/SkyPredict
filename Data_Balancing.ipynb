{
 "cells": [
  {
   "cell_type": "markdown",
   "metadata": {},
   "source": [
    "# Cân bằng dữ liệu cho bài toán dự đoán delay chuyến bay\n",
    "\n",
    "Notebook này thực hiện việc cân bằng dữ liệu bằng cách undersampling các nhãn 0 và 1 xuống bằng với số lượng của nhãn 2 cho cả tập train và test."
   ]
  },
  {
   "cell_type": "code",
   "execution_count": 1,
   "metadata": {},
   "outputs": [],
   "source": [
    "import pandas as pd\n",
    "import numpy as np\n",
    "from pyspark.sql import SparkSession\n",
    "from pyspark.sql.functions import col, rand\n",
    "import matplotlib.pyplot as plt\n",
    "import seaborn as sns"
   ]
  },
  {
   "cell_type": "code",
   "execution_count": 2,
   "metadata": {},
   "outputs": [
    {
     "name": "stderr",
     "output_type": "stream",
     "text": [
      "24/12/01 11:39:20 WARN Utils: Your hostname, haveagoodday resolves to a loopback address: 127.0.1.1; using 192.168.1.49 instead (on interface wlan0)\n",
      "24/12/01 11:39:20 WARN Utils: Set SPARK_LOCAL_IP if you need to bind to another address\n",
      "Setting default log level to \"WARN\".\n",
      "To adjust logging level use sc.setLogLevel(newLevel). For SparkR, use setLogLevel(newLevel).\n",
      "24/12/01 11:39:21 WARN NativeCodeLoader: Unable to load native-hadoop library for your platform... using builtin-java classes where applicable\n"
     ]
    }
   ],
   "source": [
    "# Khởi tạo Spark Session\n",
    "spark = SparkSession.builder.appName('DataBalancing') \\\n",
    "    .config(\"spark.executor.memory\", \"10g\") \\\n",
    "    .config(\"spark.driver.memory\", \"10g\") \\\n",
    "    .getOrCreate()"
   ]
  },
  {
   "cell_type": "markdown",
   "metadata": {},
   "source": [
    "## 1. Cân bằng dữ liệu train"
   ]
  },
  {
   "cell_type": "code",
   "execution_count": 7,
   "metadata": {},
   "outputs": [
    {
     "name": "stderr",
     "output_type": "stream",
     "text": [
      "                                                                                \r"
     ]
    },
    {
     "data": {
      "image/png": "[encoded data removed]",
      "text/plain": [
       "<Figure size 1000x600 with 1 Axes>"
      ]
     },
     "metadata": {},
     "output_type": "display_data"
    },
    {
     "name": "stdout",
     "output_type": "stream",
     "text": [
      "Phân phối nhãn tập train ban đầu: \n",
      "\n",
      "   LABEL    count  percentage\n",
      "0    0.0  4187645   62.099877\n",
      "1    1.0  1693558   25.114293\n",
      "2    2.0   862200   12.785829\n"
     ]
    }
   ],
   "source": [
    "# Đọc dữ liệu train\n",
    "schema = '''ID STRING, QUARTER INT, MONTH INT, DAY_OF_MONTH INT, DAY_OF_WEEK INT,\n",
    "            OP_UNIQUE_CARRIER STRING, ORIGIN STRING, DEST STRING,\n",
    "            DISTANCE DOUBLE, CRS_DEP_TIME DOUBLE, LABEL DOUBLE'''\n",
    "\n",
    "df_train = spark.read.csv('/home/snowfox/Documents/kafka/Dataset/train_final.csv', \n",
    "                    header=True, schema=schema)\n",
    "\n",
    "# Hiển thị phân phối dữ liệu train ban đầu\n",
    "train_counts = df_train.groupBy('LABEL').count().toPandas()\n",
    "total_train = train_counts['count'].sum()\n",
    "train_counts['percentage'] = train_counts['count'] / total_train * 100\n",
    "\n",
    "plt.figure(figsize=(10, 6))\n",
    "sns.barplot(x='LABEL', y='percentage', data=train_counts)\n",
    "plt.title('Phân phối nhãn tập train trước khi cân bằng')\n",
    "plt.xlabel('Nhãn')\n",
    "plt.ylabel('Phần trăm (%)')\n",
    "plt.show()\n",
    "\n",
    "print(\"Phân phối nhãn tập train ban đầu: \\n\")\n",
    "print(train_counts)"
   ]
  },
  {
   "cell_type": "code",
   "execution_count": 6,
   "metadata": {},
   "outputs": [
    {
     "name": "stderr",
     "output_type": "stream",
     "text": [
      "[Stage 18:===================================================>     (9 + 1) / 10]\r"
     ]
    },
    {
     "name": "stdout",
     "output_type": "stream",
     "text": [
      "\n",
      "Phân phối nhãn tập train sau khi cân bằng: \n",
      "\n",
      "   LABEL   count  percentage\n",
      "0    0.0  862200   33.333333\n",
      "1    1.0  862200   33.333333\n",
      "2    2.0  862200   33.333333\n"
     ]
    },
    {
     "name": "stderr",
     "output_type": "stream",
     "text": [
      "                                                                                \r"
     ]
    }
   ],
   "source": [
    "# Cân bằng dữ liệu train\n",
    "train_label_0 = df_train.filter(col(\"LABEL\") == 0)\n",
    "train_label_1 = df_train.filter(col(\"LABEL\") == 1)\n",
    "train_label_2 = df_train.filter(col(\"LABEL\") == 2)\n",
    "\n",
    "count_train_label_2 = train_label_2.count()\n",
    "\n",
    "train_label_0_sampled = train_label_0.orderBy(rand()).limit(count_train_label_2)\n",
    "train_label_1_sampled = train_label_1.orderBy(rand()).limit(count_train_label_2)\n",
    "\n",
    "df_train_balanced = train_label_0_sampled.union(train_label_1_sampled).union(train_label_2)\n",
    "\n",
    "df_train_balanced = df_train_balanced.orderBy(rand())\n",
    "\n",
    "# Hiển thị phân phối sau khi cân bằng\n",
    "train_balanced_counts = df_train_balanced.groupBy('LABEL').count().toPandas()\n",
    "total_train = train_balanced_counts['count'].sum()\n",
    "train_balanced_counts['percentage'] = train_balanced_counts['count'] / total_train * 100\n",
    "print(\"\\nPhân phối nhãn tập train sau khi cân bằng: \\n\")\n",
    "print(train_balanced_counts)"
   ]
  },
  {
   "cell_type": "markdown",
   "metadata": {},
   "source": [
    "## 2. Cân bằng dữ liệu stream (test)"
   ]
  },
  {
   "cell_type": "code",
   "execution_count": 3,
   "metadata": {},
   "outputs": [
    {
     "ename": "NameError",
     "evalue": "name 'schema' is not defined",
     "output_type": "error",
     "traceback": [
      "\u001b[0;31m---------------------------------------------------------------------------\u001b[0m",
      "\u001b[0;31mNameError\u001b[0m                                 Traceback (most recent call last)",
      "Cell \u001b[0;32mIn[3], line 3\u001b[0m\n\u001b[1;32m      1\u001b[0m \u001b[38;5;66;03m# Đọc dữ liệu stream\u001b[39;00m\n\u001b[1;32m      2\u001b[0m df_stream \u001b[38;5;241m=\u001b[39m spark\u001b[38;5;241m.\u001b[39mread\u001b[38;5;241m.\u001b[39mcsv(\u001b[38;5;124m'\u001b[39m\u001b[38;5;124m/home/snowfox/Documents/kafka/Dataset/stream_final.csv\u001b[39m\u001b[38;5;124m'\u001b[39m, \n\u001b[0;32m----> 3\u001b[0m                     header\u001b[38;5;241m=\u001b[39m\u001b[38;5;28;01mTrue\u001b[39;00m, schema\u001b[38;5;241m=\u001b[39m\u001b[43mschema\u001b[49m)\n\u001b[1;32m      5\u001b[0m \u001b[38;5;66;03m# Hiển thị phân phối dữ liệu stream ban đầu\u001b[39;00m\n\u001b[1;32m      6\u001b[0m stream_counts \u001b[38;5;241m=\u001b[39m df_stream\u001b[38;5;241m.\u001b[39mgroupBy(\u001b[38;5;124m'\u001b[39m\u001b[38;5;124mLABEL\u001b[39m\u001b[38;5;124m'\u001b[39m)\u001b[38;5;241m.\u001b[39mcount()\u001b[38;5;241m.\u001b[39mtoPandas()\n",
      "\u001b[0;31mNameError\u001b[0m: name 'schema' is not defined"
     ]
    }
   ],
   "source": [
    "# Đọc dữ liệu stream\n",
    "df_stream = spark.read.csv('/home/snowfox/Documents/kafka/Dataset/stream_final.csv', \n",
    "                    header=True, schema=schema)\n",
    "\n",
    "# Hiển thị phân phối dữ liệu stream ban đầu\n",
    "stream_counts = df_stream.groupBy('LABEL').count().toPandas()\n",
    "total_stream = stream_counts['count'].sum()\n",
    "stream_counts['percentage'] = stream_counts['count'] / total_stream * 100\n",
    "\n",
    "plt.figure(figsize=(10, 6))\n",
    "sns.barplot(x='LABEL', y='percentage', data=stream_counts)\n",
    "plt.title('Phân phối nhãn tập stream trước khi cân bằng')\n",
    "plt.xlabel('Nhãn')\n",
    "plt.ylabel('Phần trăm (%)')\n",
    "plt.show()\n",
    "\n",
    "print(\"Phân phối nhãn tập stream ban đầu:\")\n",
    "print(stream_counts)"
   ]
  },
  {
   "cell_type": "code",
   "execution_count": 6,
   "metadata": {},
   "outputs": [
    {
     "name": "stderr",
     "output_type": "stream",
     "text": [
      "[Stage 21:===================================================>     (9 + 1) / 10]\r"
     ]
    },
    {
     "name": "stdout",
     "output_type": "stream",
     "text": [
      "\n",
      "Phân phối nhãn tập stream sau khi cân bằng:\n",
      "   LABEL   count\n",
      "0    0.0  273842\n",
      "1    1.0  273842\n",
      "2    2.0  273842\n"
     ]
    },
    {
     "name": "stderr",
     "output_type": "stream",
     "text": [
      "                                                                                \r"
     ]
    }
   ],
   "source": [
    "# Cân bằng dữ liệu stream\n",
    "stream_label_0 = df_stream.filter(col(\"LABEL\") == 0)\n",
    "stream_label_1 = df_stream.filter(col(\"LABEL\") == 1)\n",
    "stream_label_2 = df_stream.filter(col(\"LABEL\") == 2)\n",
    "\n",
    "count_stream_label_2 = stream_label_2.count()\n",
    "\n",
    "stream_label_0_sampled = stream_label_0.orderBy(rand()).limit(count_stream_label_2)\n",
    "stream_label_1_sampled = stream_label_1.orderBy(rand()).limit(count_stream_label_2)\n",
    "\n",
    "df_stream_balanced = stream_label_0_sampled.union(stream_label_1_sampled).union(stream_label_2)\n",
    "\n",
    "df_stream_balanced = df_stream_balanced.orderBy(rand())\n",
    "\n",
    "# Hiển thị phân phối sau khi cân bằng\n",
    "stream_balanced_counts = df_stream_balanced.groupBy('LABEL').count().toPandas()\n",
    "print(\"\\nPhân phối nhãn tập stream sau khi cân bằng:\")\n",
    "print(stream_balanced_counts)"
   ]
  },
  {
   "cell_type": "code",
   "execution_count": 7,
   "metadata": {},
   "outputs": [
    {
     "name": "stderr",
     "output_type": "stream",
     "text": [
      "                                                                                \r"
     ]
    },
    {
     "name": "stdout",
     "output_type": "stream",
     "text": [
      "Đã lưu dữ liệu train cân bằng tại: /home/snowfox/Documents/kafka/Dataset/train_balanced.csv\n",
      "Đã lưu dữ liệu stream cân bằng tại: /home/snowfox/Documents/kafka/Dataset/stream_balanced.csv\n"
     ]
    }
   ],
   "source": [
    "# Lưu dữ liệu đã cân bằng\n",
    "train_output_path = '/home/snowfox/Documents/kafka/Dataset/train_balanced.csv'\n",
    "stream_output_path = '/home/snowfox/Documents/kafka/Dataset/stream_balanced.csv'\n",
    "\n",
    "# Chuyển DataFrame Spark thành Pandas DataFrame và lưu dưới dạng CSV\n",
    "df_train_balanced.toPandas().to_csv(train_output_path, index=False)\n",
    "df_stream_balanced.toPandas().to_csv(stream_output_path, index=False)\n",
    "\n",
    "print(f\"Đã lưu dữ liệu train cân bằng tại: {train_output_path}\")\n",
    "print(f\"Đã lưu dữ liệu stream cân bằng tại: {stream_output_path}\")"
   ]
  }
 ],
 "metadata": {
  "kernelspec": {
   "display_name": "Python 3",
   "language": "python",
   "name": "python3"
  },
  "language_info": {
   "codemirror_mode": {
    "name": "ipython",
    "version": 3
   },
   "file_extension": ".py",
   "mimetype": "text/x-python",
   "name": "python",
   "nbconvert_exporter": "python",
   "pygments_lexer": "ipython3",
   "version": "3.10.14"
  }
 },
 "nbformat": 4,
 "nbformat_minor": 2
}
