{
  "cells": [
    {
      "cell_type": "markdown",
      "metadata": {
        "id": "04fNCGTeftLa"
      },
      "source": [
        "# **Predict Flight Delays**"
      ]
    },
    {
      "cell_type": "code",
      "execution_count": null,
      "metadata": {
        "colab": {
          "base_uri": "https://localhost:8080/"
        },
        "id": "YgNVtqA6r3-5",
        "outputId": "f63a2c5b-3eb3-4c72-be67-fe20b31e8c35"
      },
      "outputs": [
        {
          "name": "stdout",
          "output_type": "stream",
          "text": [
            "Collecting pyspark\n",
            "  Downloading pyspark-3.5.3.tar.gz (317.3 MB)\n",
            "\u001b[2K     \u001b[90m━━━━━━━━━━━━━━━━━━━━━━━━━━━━━━━━━━━━━━━━\u001b[0m \u001b[32m317.3/317.3 MB\u001b[0m \u001b[31m1.1 MB/s\u001b[0m eta \u001b[36m0:00:00\u001b[0m\n",
            "\u001b[?25h  Preparing metadata (setup.py) ... \u001b[?25l\u001b[?25hdone\n",
            "Collecting py4j==0.10.9.7 (from pyspark)\n",
            "  Downloading py4j-0.10.9.7-py2.py3-none-any.whl.metadata (1.5 kB)\n",
            "Downloading py4j-0.10.9.7-py2.py3-none-any.whl (200 kB)\n",
            "\u001b[2K   \u001b[90m━━━━━━━━━━━━━━━━━━━━━━━━━━━━━━━━━━━━━━━━\u001b[0m \u001b[32m200.5/200.5 kB\u001b[0m \u001b[31m10.9 MB/s\u001b[0m eta \u001b[36m0:00:00\u001b[0m\n",
            "\u001b[?25hBuilding wheels for collected packages: pyspark\n",
            "  Building wheel for pyspark (setup.py) ... \u001b[?25l\u001b[?25hdone\n",
            "  Created wheel for pyspark: filename=pyspark-3.5.3-py2.py3-none-any.whl size=317840625 sha256=d196df6aa8917ab1c62242092cd685e593873e1427763df9e230dec7954a6b6c\n",
            "  Stored in directory: /root/.cache/pip/wheels/1b/3a/92/28b93e2fbfdbb07509ca4d6f50c5e407f48dce4ddbda69a4ab\n",
            "Successfully built pyspark\n",
            "Installing collected packages: py4j, pyspark\n",
            "Successfully installed py4j-0.10.9.7 pyspark-3.5.3\n"
          ]
        }
      ],
      "source": [
        "%pip install pyspark"
      ]
    },
    {
      "cell_type": "markdown",
      "metadata": {
        "id": "-7tVmHKSoQHG"
      },
      "source": [
        "## **Import Libraries**"
      ]
    },
    {
      "cell_type": "code",
      "execution_count": null,
      "metadata": {
        "colab": {
          "base_uri": "https://localhost:8080/",
          "height": 237
        },
        "id": "qjHbB8j65U-M",
        "outputId": "a6f40a87-8074-4be4-cd20-859ed1716640"
      },
      "outputs": [
        {
          "name": "stdout",
          "output_type": "stream",
          "text": [
            "Mounted at /content/drive\n"
          ]
        },
        {
          "data": {
            "text/html": [
              "\n",
              "            <div>\n",
              "                <p><b>SparkSession - in-memory</b></p>\n",
              "                \n",
              "        <div>\n",
              "            <p><b>SparkContext</b></p>\n",
              "\n",
              "            <p><a href=\"http://96fab230bc1c:4040\">Spark UI</a></p>\n",
              "\n",
              "            <dl>\n",
              "              <dt>Version</dt>\n",
              "                <dd><code>v3.5.3</code></dd>\n",
              "              <dt>Master</dt>\n",
              "                <dd><code>local[*]</code></dd>\n",
              "              <dt>AppName</dt>\n",
              "                <dd><code>FinalProject</code></dd>\n",
              "            </dl>\n",
              "        </div>\n",
              "        \n",
              "            </div>\n",
              "        "
            ],
            "text/plain": [
              "<pyspark.sql.session.SparkSession at 0x7c8e94e43b80>"
            ]
          },
          "execution_count": 2,
          "metadata": {},
          "output_type": "execute_result"
        }
      ],
      "source": [
        "import numpy as np\n",
        "import pandas\n",
        "import time\n",
        "import seaborn as sns\n",
        "import matplotlib.pyplot as plt\n",
        "\n",
        "from google.colab import drive\n",
        "drive.mount('/content/drive')\n",
        "\n",
        "from sklearn.metrics import classification_report\n",
        "from sklearn.metrics import f1_score\n",
        "from IPython.core.display import display\n",
        "from pyspark.sql import SparkSession\n",
        "from pyspark.sql.types import FloatType\n",
        "from pyspark.sql import functions as f\n",
        "from pyspark.sql import Row\n",
        "from pyspark.ml.feature import StringIndexer, OneHotEncoder, VectorAssembler\n",
        "from pyspark.ml import Pipeline\n",
        "from pyspark.ml.classification import LogisticRegression, DecisionTreeClassifier, RandomForestClassifier, NaiveBayes\n",
        "from pyspark.ml.evaluation import RegressionEvaluator, MulticlassClassificationEvaluator\n",
        "from pyspark.ml.feature import MinMaxScaler,StandardScaler\n",
        "from pyspark.ml.pipeline import PipelineModel\n",
        "\n",
        "sns.set()\n",
        "\n",
        "spark = SparkSession.builder.appName('FinalProject') .config(\"spark.driver.memory\", \"50g\") .config(\"spark.executor.memory\", \"50g\") .getOrCreate()\n",
        "spark"
      ]
    },
    {
      "cell_type": "markdown",
      "metadata": {
        "id": "Zcu_4l_pMy4S"
      },
      "source": [
        "## **Read Dataset**"
      ]
    },
    {
      "cell_type": "code",
      "execution_count": null,
      "metadata": {
        "id": "ikVynTmHM0wv"
      },
      "outputs": [],
      "source": [
        "PATH = '/content/drive/MyDrive/PREDICT/'"
      ]
    },
    {
      "cell_type": "code",
      "execution_count": null,
      "metadata": {
        "colab": {
          "base_uri": "https://localhost:8080/"
        },
        "id": "DBnqS_pbNpgZ",
        "outputId": "d9efe13f-c8bc-4139-9738-a7afb950b14b"
      },
      "outputs": [
        {
          "name": "stdout",
          "output_type": "stream",
          "text": [
            "root\n",
            " |-- ID: string (nullable = true)\n",
            " |-- QUARTER: integer (nullable = true)\n",
            " |-- MONTH: integer (nullable = true)\n",
            " |-- DAY_OF_MONTH: integer (nullable = true)\n",
            " |-- DAY_OF_WEEK: integer (nullable = true)\n",
            " |-- OP_UNIQUE_CARRIER: string (nullable = true)\n",
            " |-- ORIGIN: string (nullable = true)\n",
            " |-- DEST: string (nullable = true)\n",
            " |-- DISTANCE: double (nullable = true)\n",
            " |-- CRS_DEP_TIME: integer (nullable = true)\n",
            " |-- LABEL: integer (nullable = true)\n",
            "\n",
            "+------------------------+-------+-----+------------+-----------+-----------------+------+----+--------+------------+-----+\n",
            "|ID                      |QUARTER|MONTH|DAY_OF_MONTH|DAY_OF_WEEK|OP_UNIQUE_CARRIER|ORIGIN|DEST|DISTANCE|CRS_DEP_TIME|LABEL|\n",
            "+------------------------+-------+-----+------------+-----------+-----------------+------+----+--------+------------+-----+\n",
            "|1/1/2023_9E_DLH_MSP_4630|1      |1    |1           |7          |9E               |DLH   |MSP |144.0   |510         |1    |\n",
            "|1/1/2023_9E_ORF_DTW_4633|1      |1    |1           |7          |9E               |ORF   |DTW |529.0   |530         |1    |\n",
            "|1/1/2023_9E_ATL_ILM_4639|1      |1    |1           |7          |9E               |ATL   |ILM |377.0   |900         |0    |\n",
            "|1/1/2023_9E_ILM_ATL_4639|1      |1    |1           |7          |9E               |ILM   |ATL |377.0   |1103        |0    |\n",
            "|1/1/2023_9E_CID_MSP_4640|1      |1    |1           |7          |9E               |CID   |MSP |220.0   |630         |0    |\n",
            "|1/1/2023_9E_LGA_RDU_4647|1      |1    |1           |7          |9E               |LGA   |RDU |431.0   |1700        |0    |\n",
            "|1/1/2023_9E_GSP_LGA_4650|1      |1    |1           |7          |9E               |GSP   |LGA |610.0   |1345        |0    |\n",
            "|1/1/2023_9E_LGA_GSP_4650|1      |1    |1           |7          |9E               |LGA   |GSP |610.0   |1030        |0    |\n",
            "|1/1/2023_9E_MSP_CVG_4652|1      |1    |1           |7          |9E               |MSP   |CVG |596.0   |755         |0    |\n",
            "|1/1/2023_9E_JFK_DTW_4654|1      |1    |1           |7          |9E               |JFK   |DTW |509.0   |1910        |0    |\n",
            "|1/1/2023_9E_DTW_TVC_4655|1      |1    |1           |7          |9E               |DTW   |TVC |207.0   |2120        |0    |\n",
            "|1/1/2023_9E_PVD_DTW_4656|1      |1    |1           |7          |9E               |PVD   |DTW |615.0   |530         |1    |\n",
            "|1/1/2023_9E_JFK_MSP_4663|1      |1    |1           |7          |9E               |JFK   |MSP |1029.0  |1217        |0    |\n",
            "|1/1/2023_9E_ATL_CHA_4666|1      |1    |1           |7          |9E               |ATL   |CHA |106.0   |1340        |0    |\n",
            "|1/1/2023_9E_CHA_ATL_4666|1      |1    |1           |7          |9E               |CHA   |ATL |106.0   |1552        |0    |\n",
            "|1/1/2023_9E_EYW_ATL_4667|1      |1    |1           |7          |9E               |EYW   |ATL |646.0   |735         |0    |\n",
            "|1/1/2023_9E_AVL_LGA_4668|1      |1    |1           |7          |9E               |AVL   |LGA |599.0   |1200        |1    |\n",
            "|1/1/2023_9E_LGA_AVL_4668|1      |1    |1           |7          |9E               |LGA   |AVL |599.0   |835         |0    |\n",
            "|1/1/2023_9E_ATL_CRW_4671|1      |1    |1           |7          |9E               |ATL   |CRW |363.0   |2122        |1    |\n",
            "|1/1/2023_9E_ATL_GNV_4672|1      |1    |1           |7          |9E               |ATL   |GNV |300.0   |1510        |0    |\n",
            "+------------------------+-------+-----+------------+-----------+-----------------+------+----+--------+------------+-----+\n",
            "only showing top 20 rows\n",
            "\n"
          ]
        },
        {
          "data": {
            "text/plain": [
              "6743403"
            ]
          },
          "execution_count": 4,
          "metadata": {},
          "output_type": "execute_result"
        }
      ],
      "source": [
        "# Read dataset.csv\n",
        "data = spark.read.csv(PATH+'Dataset/train_final.csv', header=True, inferSchema=True)\n",
        "data.printSchema()\n",
        "data.show(20,False)\n",
        "data.count()"
      ]
    },
    {
      "cell_type": "markdown",
      "metadata": {
        "id": "hFXHxCztdueL"
      },
      "source": [
        "## **Prepare data**"
      ]
    },
    {
      "cell_type": "code",
      "execution_count": null,
      "metadata": {
        "id": "hYY4MWsQUtEu"
      },
      "outputs": [],
      "source": [
        "train, test = data.randomSplit(weights=[0.8,0.2], seed=2024)"
      ]
    },
    {
      "cell_type": "code",
      "execution_count": null,
      "metadata": {
        "colab": {
          "base_uri": "https://localhost:8080/"
        },
        "id": "MkXr-HGbUz7F",
        "outputId": "22766fea-3eea-425f-906c-7f6591b8eef7"
      },
      "outputs": [
        {
          "name": "stdout",
          "output_type": "stream",
          "text": [
            "root\n",
            " |-- ID: string (nullable = true)\n",
            " |-- QUARTER: integer (nullable = true)\n",
            " |-- MONTH: integer (nullable = true)\n",
            " |-- DAY_OF_MONTH: integer (nullable = true)\n",
            " |-- DAY_OF_WEEK: integer (nullable = true)\n",
            " |-- OP_UNIQUE_CARRIER: string (nullable = true)\n",
            " |-- ORIGIN: string (nullable = true)\n",
            " |-- DEST: string (nullable = true)\n",
            " |-- DISTANCE: double (nullable = true)\n",
            " |-- CRS_DEP_TIME: integer (nullable = true)\n",
            " |-- LABEL: integer (nullable = true)\n",
            "\n",
            "+--------------------+-------+-----+------------+-----------+-----------------+------+----+--------+------------+-----+\n",
            "|                  ID|QUARTER|MONTH|DAY_OF_MONTH|DAY_OF_WEEK|OP_UNIQUE_CARRIER|ORIGIN|DEST|DISTANCE|CRS_DEP_TIME|LABEL|\n",
            "+--------------------+-------+-----+------------+-----------+-----------------+------+----+--------+------------+-----+\n",
            "|1/1/2023_9E_ABE_A...|      1|    1|           1|          7|               9E|   ABE| ATL|   692.0|         600|    1|\n",
            "|1/1/2023_9E_ABY_A...|      1|    1|           1|          7|               9E|   ABY| ATL|   145.0|        1255|    0|\n",
            "|1/1/2023_9E_AEX_A...|      1|    1|           1|          7|               9E|   AEX| ATL|   500.0|        1748|    2|\n",
            "|1/1/2023_9E_AEX_A...|      1|    1|           1|          7|               9E|   AEX| ATL|   500.0|        1150|    2|\n",
            "|1/1/2023_9E_ALB_D...|      1|    1|           1|          7|               9E|   ALB| DTW|   489.0|        1230|    2|\n",
            "|1/1/2023_9E_ALB_D...|      1|    1|           1|          7|               9E|   ALB| DTW|   489.0|         545|    2|\n",
            "|1/1/2023_9E_ALB_L...|      1|    1|           1|          7|               9E|   ALB| LGA|   136.0|         825|    0|\n",
            "|1/1/2023_9E_ATL_A...|      1|    1|           1|          7|               9E|   ATL| ABY|   145.0|        1920|    1|\n",
            "|1/1/2023_9E_ATL_A...|      1|    1|           1|          7|               9E|   ATL| AEX|   500.0|        1620|    2|\n",
            "|1/1/2023_9E_ATL_A...|      1|    1|           1|          7|               9E|   ATL| AGS|   143.0|        1515|    0|\n",
            "|1/1/2023_9E_ATL_A...|      1|    1|           1|          7|               9E|   ATL| AGS|   143.0|        2110|    0|\n",
            "|1/1/2023_9E_ATL_B...|      1|    1|           1|          7|               9E|   ATL| BQK|   238.0|         900|    2|\n",
            "|1/1/2023_9E_ATL_B...|      1|    1|           1|          7|               9E|   ATL| BQK|   238.0|        1710|    0|\n",
            "|1/1/2023_9E_ATL_C...|      1|    1|           1|          7|               9E|   ATL| CHA|   106.0|        1340|    0|\n",
            "|1/1/2023_9E_ATL_C...|      1|    1|           1|          7|               9E|   ATL| CHO|   457.0|        1300|    0|\n",
            "|1/1/2023_9E_ATL_C...|      1|    1|           1|          7|               9E|   ATL| CHO|   457.0|        2055|    0|\n",
            "|1/1/2023_9E_ATL_C...|      1|    1|           1|          7|               9E|   ATL| CRW|   363.0|        1100|    2|\n",
            "|1/1/2023_9E_ATL_C...|      1|    1|           1|          7|               9E|   ATL| CVG|   373.0|        1000|    0|\n",
            "|1/1/2023_9E_ATL_D...|      1|    1|           1|          7|               9E|   ATL| DHN|   170.0|        1657|    0|\n",
            "|1/1/2023_9E_ATL_D...|      1|    1|           1|          7|               9E|   ATL| DHN|   170.0|         917|    1|\n",
            "+--------------------+-------+-----+------------+-----------+-----------------+------+----+--------+------------+-----+\n",
            "only showing top 20 rows\n",
            "\n"
          ]
        },
        {
          "data": {
            "text/plain": [
              "5394973"
            ]
          },
          "execution_count": 6,
          "metadata": {},
          "output_type": "execute_result"
        }
      ],
      "source": [
        "train.printSchema()\n",
        "train.show()    \n",
        "train.count()"
      ]
    },
    {
      "cell_type": "code",
      "execution_count": null,
      "metadata": {
        "colab": {
          "base_uri": "https://localhost:8080/"
        },
        "id": "zkCBAueLU68U",
        "outputId": "bc5f4dfc-23f4-4a46-fef3-3f13923036af"
      },
      "outputs": [
        {
          "name": "stdout",
          "output_type": "stream",
          "text": [
            "root\n",
            " |-- ID: string (nullable = true)\n",
            " |-- QUARTER: integer (nullable = true)\n",
            " |-- MONTH: integer (nullable = true)\n",
            " |-- DAY_OF_MONTH: integer (nullable = true)\n",
            " |-- DAY_OF_WEEK: integer (nullable = true)\n",
            " |-- OP_UNIQUE_CARRIER: string (nullable = true)\n",
            " |-- ORIGIN: string (nullable = true)\n",
            " |-- DEST: string (nullable = true)\n",
            " |-- DISTANCE: double (nullable = true)\n",
            " |-- CRS_DEP_TIME: integer (nullable = true)\n",
            " |-- LABEL: integer (nullable = true)\n",
            "\n",
            "+--------------------+-------+-----+------------+-----------+-----------------+------+----+--------+------------+-----+\n",
            "|                  ID|QUARTER|MONTH|DAY_OF_MONTH|DAY_OF_WEEK|OP_UNIQUE_CARRIER|ORIGIN|DEST|DISTANCE|CRS_DEP_TIME|LABEL|\n",
            "+--------------------+-------+-----+------------+-----------+-----------------+------+----+--------+------------+-----+\n",
            "|1/1/2023_9E_ABY_A...|      1|    1|           1|          7|               9E|   ABY| ATL|   145.0|         736|    0|\n",
            "|1/1/2023_9E_AGS_A...|      1|    1|           1|          7|               9E|   AGS| ATL|   143.0|        1745|    0|\n",
            "|1/1/2023_9E_ATL_A...|      1|    1|           1|          7|               9E|   ATL| ABE|   692.0|        2156|    0|\n",
            "|1/1/2023_9E_ATL_A...|      1|    1|           1|          7|               9E|   ATL| ABY|   145.0|        1110|    0|\n",
            "|1/1/2023_9E_ATL_B...|      1|    1|           1|          7|               9E|   ATL| BTR|   448.0|        1430|    1|\n",
            "|1/1/2023_9E_ATL_C...|      1|    1|           1|          7|               9E|   ATL| CRW|   363.0|        2122|    1|\n",
            "|1/1/2023_9E_ATL_C...|      1|    1|           1|          7|               9E|   ATL| CSG|    83.0|        2050|    0|\n",
            "|1/1/2023_9E_ATL_C...|      1|    1|           1|          7|               9E|   ATL| CSG|    83.0|        1100|    1|\n",
            "|1/1/2023_9E_ATL_E...|      1|    1|           1|          7|               9E|   ATL| EYW|   646.0|        1740|    2|\n",
            "|1/1/2023_9E_ATL_F...|      1|    1|           1|          7|               9E|   ATL| FAY|   331.0|        1354|    1|\n",
            "|1/1/2023_9E_ATL_G...|      1|    1|           1|          7|               9E|   ATL| GNV|   300.0|        1510|    0|\n",
            "|1/1/2023_9E_ATL_G...|      1|    1|           1|          7|               9E|   ATL| GTR|   241.0|        1157|    2|\n",
            "|1/1/2023_9E_ATL_M...|      1|    1|           1|          7|               9E|   ATL| MGM|   147.0|         825|    1|\n",
            "|1/1/2023_9E_ATL_M...|      1|    1|           1|          7|               9E|   ATL| MOB|   302.0|        2141|    1|\n",
            "|1/1/2023_9E_ATL_M...|      1|    1|           1|          7|               9E|   ATL| MOB|   302.0|         839|    0|\n",
            "|1/1/2023_9E_ATL_T...|      1|    1|           1|          7|               9E|   ATL| TYS|   152.0|        1115|    1|\n",
            "|1/1/2023_9E_ATW_D...|      1|    1|           1|          7|               9E|   ATW| DTW|   296.0|        1239|    0|\n",
            "|1/1/2023_9E_BNA_L...|      1|    1|           1|          7|               9E|   BNA| LGA|   764.0|        1530|    0|\n",
            "|1/1/2023_9E_BQK_A...|      1|    1|           1|          7|               9E|   BQK| ATL|   238.0|        1052|    2|\n",
            "|1/1/2023_9E_CHS_J...|      1|    1|           1|          7|               9E|   CHS| JFK|   636.0|        1000|    0|\n",
            "+--------------------+-------+-----+------------+-----------+-----------------+------+----+--------+------------+-----+\n",
            "only showing top 20 rows\n",
            "\n"
          ]
        },
        {
          "data": {
            "text/plain": [
              "1348430"
            ]
          },
          "execution_count": 7,
          "metadata": {},
          "output_type": "execute_result"
        }
      ],
      "source": [
        "test.printSchema()\n",
        "test.show()\n",
        "test.count()"
      ]
    },
    {
      "cell_type": "code",
      "execution_count": null,
      "metadata": {
        "colab": {
          "base_uri": "https://localhost:8080/",
          "height": 650
        },
        "id": "HeWChvks29N1",
        "outputId": "e5d46c75-c31e-4d33-ecbc-36b13a2d8575"
      },
      "outputs": [
        {
          "name": "stderr",
          "output_type": "stream",
          "text": [
            "<ipython-input-8-9d3700860107>:20: UserWarning: set_ticklabels() should only be used with a fixed number of ticks, i.e. after set_ticks() or using a FixedLocator.\n",
            "  ax.set_xticklabels(labels)\n"
          ]
        },
        {
          "data": {
            "image/png": "[encoded data removed]",
            "text/plain": [
              "<Figure size 1200x800 with 1 Axes>"
            ]
          },
          "metadata": {},
          "output_type": "display_data"
        }
      ],
      "source": [
        "df_train = train.select('LABEL').toPandas()\n",
        "df_test = test.select('LABEL').toPandas()\n",
        "\n",
        "label_train = list(df_train.LABEL.value_counts())\n",
        "label_test = list(df_test.LABEL.value_counts())\n",
        "\n",
        "rate_train = [round(x * 100 / sum(label_train), 1) for x in label_train]\n",
        "rate_test = [round(x * 100 / sum(label_test), 1) for x in label_test]\n",
        "\n",
        "labels = ['G1', 'G2', 'G3']\n",
        "\n",
        "x = np.arange(len(labels))  # the label locations\n",
        "width = 0.35  # the width of the bars\n",
        "\n",
        "fig, ax = plt.subplots(figsize =(12, 8))\n",
        "rects1 = ax.bar(x - width/2, label_train, width, label='Train set', color ='#00BFFF')\n",
        "rects2 = ax.bar(x + width/2, label_test, width, label='Test set', color ='#00FFFF')\n",
        "ax = plt.gca()\n",
        "ax.ticklabel_format(useOffset=False, style='plain')\n",
        "ax.set_xticklabels(labels)\n",
        "ax.legend()\n",
        "\n",
        "def autolabel_train(rects):\n",
        "    i = 0\n",
        "    for rect in rects:\n",
        "        height = rect.get_height()\n",
        "        height_2 = str(rate_train[i]) + '%'\n",
        "        i = i + 1\n",
        "        ax.annotate('{}'.format(height_2),\n",
        "                    xy=(rect.get_x() + rect.get_width() / 2, height),\n",
        "                    xytext=(0, 3),  # 3 points vertical offset\n",
        "                    textcoords=\"offset points\",\n",
        "                    ha='center', va='bottom')\n",
        "def autolabel_test(rects):\n",
        "    i = 0\n",
        "    for rect in rects:\n",
        "        height = rect.get_height()\n",
        "        height_2 = str(rate_test[i]) + '%'\n",
        "        i = i + 1\n",
        "        ax.annotate('{}'.format(height_2),\n",
        "                    xy=(rect.get_x() + rect.get_width() / 2, height),\n",
        "                    xytext=(0, 3),  # 3 points vertical offset\n",
        "                    textcoords=\"offset points\",\n",
        "                    ha='center', va='bottom')\n",
        "\n",
        "autolabel_train(rects1)\n",
        "autolabel_test(rects2)\n",
        "# Adding Xticks\n",
        "plt.xlabel('Label', fontsize = 15, fontfamily='serif')\n",
        "plt.ylabel('Count', fontsize = 15, fontfamily='serif')\n",
        "plt.xticks([r for r in range(len(label_train))], ['0', '1', '2'])\n",
        "fig.tight_layout()\n",
        "plt.show()"
      ]
    },
    {
      "cell_type": "markdown",
      "metadata": {
        "id": "4o8uB24A3rlM"
      },
      "source": [
        "## **Build & Evaluation Model**"
      ]
    },
    {
      "cell_type": "markdown",
      "metadata": {
        "id": "JAV-q9NKSC2E"
      },
      "source": [
        "### Logistic Regression"
      ]
    },
    {
      "cell_type": "markdown",
      "metadata": {
        "id": "HtUBx4SNXALy"
      },
      "source": [
        "#### Training model"
      ]
    },
    {
      "cell_type": "code",
      "execution_count": null,
      "metadata": {
        "id": "HPelazhhHbAM"
      },
      "outputs": [],
      "source": [
        "stringIndexer = StringIndexer(inputCols=['OP_UNIQUE_CARRIER', 'ORIGIN', 'DEST'],\n",
        "                              outputCols=['OP_UNIQUE_CARRIERIndex', 'ORIGINIndex', 'DESTIndex'])"
      ]
    },
    {
      "cell_type": "code",
      "execution_count": null,
      "metadata": {
        "id": "guj6fH4xICfX"
      },
      "outputs": [],
      "source": [
        "oneHotEncoder = OneHotEncoder(inputCols=['OP_UNIQUE_CARRIERIndex', 'ORIGINIndex', 'DESTIndex'],\n",
        "                              outputCols=['OP_UNIQUE_CARRIERVec', 'ORIGINVec','DESTVec'])"
      ]
    },
    {
      "cell_type": "code",
      "execution_count": null,
      "metadata": {
        "id": "OMWBocr0R86y"
      },
      "outputs": [],
      "source": [
        "assembler = VectorAssembler(inputCols=['QUARTER', 'MONTH', 'DAY_OF_MONTH', 'DAY_OF_WEEK', 'OP_UNIQUE_CARRIERVec', 'ORIGINVec',\n",
        "                                       'DESTVec', 'DISTANCE', 'CRS_DEP_TIME'], outputCol='features')"
      ]
    },
    {
      "cell_type": "code",
      "execution_count": null,
      "metadata": {
        "id": "WEtj-h7rR89I"
      },
      "outputs": [],
      "source": [
        "LR = LogisticRegression(featuresCol='features',labelCol='LABEL')"
      ]
    },
    {
      "cell_type": "code",
      "execution_count": null,
      "metadata": {
        "id": "k92aEhopAMCV"
      },
      "outputs": [],
      "source": [
        "pipeline = Pipeline(stages=[stringIndexer,\n",
        "                            oneHotEncoder,\n",
        "                            assembler, LR])"
      ]
    },
    {
      "cell_type": "code",
      "execution_count": null,
      "metadata": {
        "colab": {
          "base_uri": "https://localhost:8080/"
        },
        "id": "fWa-CkTeAMI5",
        "outputId": "0abbaa80-58b0-4eca-f7df-1299aedcab86"
      },
      "outputs": [
        {
          "name": "stdout",
          "output_type": "stream",
          "text": [
            "CPU times: user 187 ms, sys: 35.4 ms, total: 223 ms\n",
            "Wall time: 24.5 s\n"
          ]
        }
      ],
      "source": [
        "%%time\n",
        "model_LR = pipeline.fit(train)"
      ]
    },
    {
      "cell_type": "markdown",
      "metadata": {
        "id": "GNQzDN8Olkze"
      },
      "source": [
        "#### Evaluation model"
      ]
    },
    {
      "cell_type": "markdown",
      "metadata": {
        "id": "KHF3CDUSXK2Q"
      },
      "source": [
        "##### Train"
      ]
    },
    {
      "cell_type": "code",
      "execution_count": null,
      "metadata": {
        "colab": {
          "base_uri": "https://localhost:8080/"
        },
        "id": "lltE4FoHF6yG",
        "outputId": "3ad7c436-705f-4288-9d28-ba9487ac7fcc"
      },
      "outputs": [
        {
          "name": "stdout",
          "output_type": "stream",
          "text": [
            "+------------------------+-------+-----+------------+-----------+-----------------+------+----+--------+------------+-----+----------------------+-----------+---------+--------------------+-----------------+-----------------+-----------------------------------------------------------------------------+-------------------------------------------------------------+-------------------------------------------------------------+----------+\n",
            "|ID                      |QUARTER|MONTH|DAY_OF_MONTH|DAY_OF_WEEK|OP_UNIQUE_CARRIER|ORIGIN|DEST|DISTANCE|CRS_DEP_TIME|LABEL|OP_UNIQUE_CARRIERIndex|ORIGINIndex|DESTIndex|OP_UNIQUE_CARRIERVec|ORIGINVec        |DESTVec          |features                                                                     |rawPrediction                                                |probability                                                  |prediction|\n",
            "+------------------------+-------+-----+------------+-----------+-----------------+------+----+--------+------------+-----+----------------------+-----------+---------+--------------------+-----------------+-----------------+-----------------------------------------------------------------------------+-------------------------------------------------------------+-------------------------------------------------------------+----------+\n",
            "|1/1/2023_9E_ABE_ATL_5483|1      |1    |1           |7          |9E               |ABE   |ATL |692.0   |600         |1    |10.0                  |141.0      |0.0      |(14,[10],[1.0])     |(349,[141],[1.0])|(349,[0],[1.0])  |(718,[0,1,2,3,14,159,367,716,717],[1.0,1.0,1.0,7.0,1.0,1.0,1.0,692.0,600.0]) |[1.6857834372995608,-0.47298102044339474,-1.212802416856166] |[0.8542855520899486,0.09864238627142378,0.04707206163862741] |0.0       |\n",
            "|1/1/2023_9E_ABY_ATL_4789|1      |1    |1           |7          |9E               |ABY   |ATL |145.0   |1255        |0    |10.0                  |244.0      |0.0      |(14,[10],[1.0])     |(349,[244],[1.0])|(349,[0],[1.0])  |(718,[0,1,2,3,14,262,367,716,717],[1.0,1.0,1.0,7.0,1.0,1.0,1.0,145.0,1255.0])|[1.3651622257867455,-0.7087044032202603,-0.6564578225664852] |[0.7948243954116302,0.09990848080294511,0.10526712378542478] |0.0       |\n",
            "|1/1/2023_9E_AEX_ATL_4864|1      |1    |1           |7          |9E               |AEX   |ATL |500.0   |1748        |2    |10.0                  |195.0      |0.0      |(14,[10],[1.0])     |(349,[195],[1.0])|(349,[0],[1.0])  |(718,[0,1,2,3,14,213,367,716,717],[1.0,1.0,1.0,7.0,1.0,1.0,1.0,500.0,1748.0])|[0.86861376083918,-0.45492241315547743,-0.4136913476837024]  |[0.6478406481888255,0.17245021374229974,0.1797091380688747]  |0.0       |\n",
            "|1/1/2023_9E_AEX_ATL_5201|1      |1    |1           |7          |9E               |AEX   |ATL |500.0   |1150        |2    |10.0                  |195.0      |0.0      |(14,[10],[1.0])     |(349,[195],[1.0])|(349,[0],[1.0])  |(718,[0,1,2,3,14,213,367,716,717],[1.0,1.0,1.0,7.0,1.0,1.0,1.0,500.0,1150.0])|[1.2422669196975764,-0.4987832136595316,-0.7434837060380448] |[0.7618387597229775,0.1335778960284319,0.10458334424859056]  |0.0       |\n",
            "|1/1/2023_9E_ALB_DTW_4677|1      |1    |1           |7          |9E               |ALB   |DTW |489.0   |1230        |2    |10.0                  |89.0       |16.0     |(14,[10],[1.0])     |(349,[89],[1.0]) |(349,[16],[1.0]) |(718,[0,1,2,3,14,107,383,716,717],[1.0,1.0,1.0,7.0,1.0,1.0,1.0,489.0,1230.0])|[1.3306032062579711,-0.4633533432739896,-0.8672498629839815] |[0.7828755743397179,0.13019290366423758,0.08693152199604447] |0.0       |\n",
            "|1/1/2023_9E_ALB_DTW_4800|1      |1    |1           |7          |9E               |ALB   |DTW |489.0   |545         |2    |10.0                  |89.0       |16.0     |(14,[10],[1.0])     |(349,[89],[1.0]) |(349,[16],[1.0]) |(718,[0,1,2,3,14,107,383,716,717],[1.0,1.0,1.0,7.0,1.0,1.0,1.0,489.0,545.0]) |[1.7586172761877397,-0.5135952301390013,-1.2450220460487382] |[0.8675358922176496,0.08942894317567808,0.04303516460667219] |0.0       |\n",
            "|1/1/2023_9E_ALB_LGA_4916|1      |1    |1           |7          |9E               |ALB   |LGA |136.0   |825         |0    |10.0                  |89.0       |10.0     |(14,[10],[1.0])     |(349,[89],[1.0]) |(349,[10],[1.0]) |(718,[0,1,2,3,14,107,377,716,717],[1.0,1.0,1.0,7.0,1.0,1.0,1.0,136.0,825.0]) |[1.5170904080186371,-0.5431561513480154,-0.973934256670622]  |[0.8262771987489814,0.10528634667865358,0.06843645457236507] |0.0       |\n",
            "|1/1/2023_9E_ATL_ABY_5337|1      |1    |1           |7          |9E               |ATL   |ABY |145.0   |1920        |1    |10.0                  |0.0        |246.0    |(14,[10],[1.0])     |(349,[0],[1.0])  |(349,[246],[1.0])|(718,[0,1,2,3,14,18,613,716,717],[1.0,1.0,1.0,7.0,1.0,1.0,1.0,145.0,1920.0]) |[1.2879356197016258,-0.7838730406934691,-0.5040625790081568] |[0.7736437259305411,0.09744643133467318,0.12890984273478576] |0.0       |\n",
            "|1/1/2023_9E_ATL_AEX_4864|1      |1    |1           |7          |9E               |ATL   |AEX |500.0   |1620        |2    |10.0                  |0.0        |195.0    |(14,[10],[1.0])     |(349,[0],[1.0])  |(349,[195],[1.0])|(718,[0,1,2,3,14,18,562,716,717],[1.0,1.0,1.0,7.0,1.0,1.0,1.0,500.0,1620.0]) |[1.3503353794561364,-0.603834485031197,-0.7465008944249393]  |[0.7908098384729493,0.11204355368555073,0.09714660784149994] |0.0       |\n",
            "|1/1/2023_9E_ATL_AGS_4807|1      |1    |1           |7          |9E               |ATL   |AGS |143.0   |1515        |0    |10.0                  |0.0        |152.0    |(14,[10],[1.0])     |(349,[0],[1.0])  |(349,[152],[1.0])|(718,[0,1,2,3,14,18,519,716,717],[1.0,1.0,1.0,7.0,1.0,1.0,1.0,143.0,1515.0]) |[1.2187273606465405,-0.4438214087218948,-0.7749059519246461] |[0.7542304904189666,0.14304356613341374,0.10272594344761977] |0.0       |\n",
            "|1/1/2023_9E_ATL_AGS_5353|1      |1    |1           |7          |9E               |ATL   |AGS |143.0   |2110        |0    |10.0                  |0.0        |152.0    |(14,[10],[1.0])     |(349,[0],[1.0])  |(349,[152],[1.0])|(718,[0,1,2,3,14,18,519,716,717],[1.0,1.0,1.0,7.0,1.0,1.0,1.0,143.0,2110.0]) |[0.8469487159630191,-0.4001806456785634,-0.44676807028445586]|[0.6403778784529874,0.18399877050649002,0.17562335104052262] |0.0       |\n",
            "|1/1/2023_9E_ATL_BQK_4794|1      |1    |1           |7          |9E               |ATL   |BQK |238.0   |900         |2    |10.0                  |0.0        |262.0    |(14,[10],[1.0])     |(349,[0],[1.0])  |(349,[262],[1.0])|(718,[0,1,2,3,14,18,629,716,717],[1.0,1.0,1.0,7.0,1.0,1.0,1.0,238.0,900.0])  |[1.6533770591654857,-0.6056190742957155,-1.0477579848697705] |[0.8535448732652863,0.08915727838463089,0.05729784835008291] |0.0       |\n",
            "|1/1/2023_9E_ATL_BQK_4825|1      |1    |1           |7          |9E               |ATL   |BQK |238.0   |1710        |0    |10.0                  |0.0        |262.0    |(14,[10],[1.0])     |(349,[0],[1.0])  |(349,[262],[1.0])|(718,[0,1,2,3,14,18,629,716,717],[1.0,1.0,1.0,7.0,1.0,1.0,1.0,238.0,1710.0]) |[1.1472582319492632,-0.5462089599005919,-0.6010492720486712] |[0.7364045879324047,0.1354107142507372,0.12818469781685804]  |0.0       |\n",
            "|1/1/2023_9E_ATL_CHA_4666|1      |1    |1           |7          |9E               |ATL   |CHA |106.0   |1340        |0    |10.0                  |0.0        |125.0    |(14,[10],[1.0])     |(349,[0],[1.0])  |(349,[125],[1.0])|(718,[0,1,2,3,14,18,492,716,717],[1.0,1.0,1.0,7.0,1.0,1.0,1.0,106.0,1340.0]) |[1.3260679553186305,-0.3585593646248175,-0.967508590693813]  |[0.7773520163619457,0.14420933703454691,0.07843864660350718] |0.0       |\n",
            "|1/1/2023_9E_ATL_CHO_5119|1      |1    |1           |7          |9E               |ATL   |CHO |457.0   |1300        |0    |10.0                  |0.0        |169.0    |(14,[10],[1.0])     |(349,[0],[1.0])  |(349,[169],[1.0])|(718,[0,1,2,3,14,18,536,716,717],[1.0,1.0,1.0,7.0,1.0,1.0,1.0,457.0,1300.0]) |[1.2992106088330426,-0.32430322323313887,-0.974907385599904] |[0.7691762450096894,0.1516850449519204,0.07913871003839028]  |0.0       |\n",
            "|1/1/2023_9E_ATL_CHO_5346|1      |1    |1           |7          |9E               |ATL   |CHO |457.0   |2055        |0    |10.0                  |0.0        |169.0    |(14,[10],[1.0])     |(349,[0],[1.0])  |(349,[169],[1.0])|(718,[0,1,2,3,14,18,536,716,717],[1.0,1.0,1.0,7.0,1.0,1.0,1.0,457.0,2055.0]) |[0.8274578748228598,-0.26892712895126447,-0.5585307458715956]|[0.6312521438128633,0.21088656303245654,0.15786129315468014] |0.0       |\n",
            "|1/1/2023_9E_ATL_CRW_5143|1      |1    |1           |7          |9E               |ATL   |CRW |363.0   |1100        |2    |10.0                  |0.0        |156.0    |(14,[10],[1.0])     |(349,[0],[1.0])  |(349,[156],[1.0])|(718,[0,1,2,3,14,18,523,716,717],[1.0,1.0,1.0,7.0,1.0,1.0,1.0,363.0,1100.0]) |[1.414995973699735,-0.35190428771952076,-1.0630916859802146] |[0.7969617776281182,0.13617032044621996,0.06686790192566175] |0.0       |\n",
            "|1/1/2023_9E_ATL_CVG_5548|1      |1    |1           |7          |9E               |ATL   |CVG |373.0   |1000        |0    |10.0                  |0.0        |47.0     |(14,[10],[1.0])     |(349,[0],[1.0])  |(349,[47],[1.0]) |(718,[0,1,2,3,14,18,414,716,717],[1.0,1.0,1.0,7.0,1.0,1.0,1.0,373.0,1000.0]) |[1.3190652595172319,-0.2784960625060814,-1.0405691970111506] |[0.7711026365218495,0.15606306119233065,0.07283430228581986] |0.0       |\n",
            "|1/1/2023_9E_ATL_DHN_4874|1      |1    |1           |7          |9E               |ATL   |DHN |170.0   |1657        |0    |10.0                  |0.0        |252.0    |(14,[10],[1.0])     |(349,[0],[1.0])  |(349,[252],[1.0])|(718,[0,1,2,3,14,18,619,716,717],[1.0,1.0,1.0,7.0,1.0,1.0,1.0,170.0,1657.0]) |[1.3358668458068417,-0.4736877486226909,-0.8621790971841509] |[0.7844694311463997,0.1284388622487298,0.08709170660487048]  |0.0       |\n",
            "|1/1/2023_9E_ATL_DHN_5392|1      |1    |1           |7          |9E               |ATL   |DHN |170.0   |917         |1    |10.0                  |0.0        |252.0    |(14,[10],[1.0])     |(349,[0],[1.0])  |(349,[252],[1.0])|(718,[0,1,2,3,14,18,619,716,717],[1.0,1.0,1.0,7.0,1.0,1.0,1.0,170.0,917.0])  |[1.79824700894265,-0.5279636556009518,-1.2702833533416982]   |[0.8740077913736656,0.08536008695575377,0.040632121670580564]|0.0       |\n",
            "+------------------------+-------+-----+------------+-----------+-----------------+------+----+--------+------------+-----+----------------------+-----------+---------+--------------------+-----------------+-----------------+-----------------------------------------------------------------------------+-------------------------------------------------------------+-------------------------------------------------------------+----------+\n",
            "only showing top 20 rows\n",
            "\n"
          ]
        },
        {
          "data": {
            "text/plain": [
              "5394973"
            ]
          },
          "execution_count": 15,
          "metadata": {},
          "output_type": "execute_result"
        }
      ],
      "source": [
        "Trained = model_LR.transform(train)\n",
        "Trained.show(truncate=False)\n",
        "Trained.count()"
      ]
    },
    {
      "cell_type": "code",
      "execution_count": null,
      "metadata": {
        "colab": {
          "base_uri": "https://localhost:8080/"
        },
        "id": "6Pa0ZYs_HhHq",
        "outputId": "24ee66c3-38f2-437a-d345-ac9aada03772"
      },
      "outputs": [
        {
          "name": "stdout",
          "output_type": "stream",
          "text": [
            "+----------+-------+\n",
            "|prediction|  count|\n",
            "+----------+-------+\n",
            "|       0.0|4906268|\n",
            "|       1.0| 443955|\n",
            "|       2.0|  44750|\n",
            "+----------+-------+\n",
            "\n"
          ]
        }
      ],
      "source": [
        "Trained.select('prediction').groupBy('prediction').count().show()"
      ]
    },
    {
      "cell_type": "code",
      "execution_count": null,
      "metadata": {
        "colab": {
          "base_uri": "https://localhost:8080/"
        },
        "id": "vIzHAgogJ5yw",
        "outputId": "299a5317-3823-4c33-dc3b-eed3ce21b6c8"
      },
      "outputs": [
        {
          "name": "stdout",
          "output_type": "stream",
          "text": [
            "              precision    recall  f1-score   support\n",
            "\n",
            "           0     0.6503    0.9526    0.7729   3349244\n",
            "           1     0.4556    0.1492    0.2248   1355778\n",
            "           2     0.3560    0.0231    0.0434    689951\n",
            "\n",
            "    accuracy                         0.6318   5394973\n",
            "   macro avg     0.4873    0.3749    0.3470   5394973\n",
            "weighted avg     0.5637    0.6318    0.5419   5394973\n",
            "\n"
          ]
        }
      ],
      "source": [
        "predicted_train = Trained.select(\"prediction\", 'LABEL')\n",
        "predicted_train_score = predicted_train.toPandas()\n",
        "\n",
        "print(classification_report(predicted_train_score.LABEL,\n",
        "                            predicted_train_score.prediction,\n",
        "                            target_names=['0', '1', '2'], digits=4))"
      ]
    },
    {
      "cell_type": "code",
      "execution_count": null,
      "metadata": {
        "colab": {
          "base_uri": "https://localhost:8080/"
        },
        "id": "vjRm9TZg0ZfU",
        "outputId": "d571df55-5f9a-4ed0-8693-fd2f1c0de3a2"
      },
      "outputs": [
        {
          "name": "stdout",
          "output_type": "stream",
          "text": [
            "===============Training Data===============\n",
            "Accuracy: 63.17972%\n",
            "F1-Micro: 63.17972%\n",
            "F1-Macro: 34.70158%\n"
          ]
        }
      ],
      "source": [
        "evaluator = MulticlassClassificationEvaluator(labelCol='LABEL', metricName='accuracy')\n",
        "accuracy_train = evaluator.evaluate(Trained)\n",
        "f1_mic = f1_score(predicted_train_score['LABEL'],\n",
        "                  predicted_train_score['prediction'],\n",
        "                  average = 'micro')\n",
        "f1_mac = f1_score(predicted_train_score['LABEL'],\n",
        "                  predicted_train_score['prediction'],\n",
        "                  average = 'macro')\n",
        "\n",
        "print('='*15+'Training Data'+'='*15)\n",
        "print(f'Accuracy: {accuracy_train*100:.5f}%')\n",
        "print(f'F1-Micro: {f1_mic*100:.5f}%')\n",
        "print(f'F1-Macro: {f1_mac*100:.5f}%')"
      ]
    },
    {
      "cell_type": "markdown",
      "metadata": {
        "id": "Rt3G2Oz_lqhQ"
      },
      "source": [
        "##### Test"
      ]
    },
    {
      "cell_type": "code",
      "execution_count": null,
      "metadata": {
        "colab": {
          "base_uri": "https://localhost:8080/"
        },
        "id": "unjZBFnxG3P1",
        "outputId": "b58d2bb2-80f1-4779-a2eb-ec37f7505cc0"
      },
      "outputs": [
        {
          "name": "stdout",
          "output_type": "stream",
          "text": [
            "+--------------------+-------+-----+------------+-----------+-----------------+------+----+--------+------------+-----+----------------------+-----------+---------+--------------------+-----------------+-----------------+--------------------+--------------------+--------------------+----------+\n",
            "|                  ID|QUARTER|MONTH|DAY_OF_MONTH|DAY_OF_WEEK|OP_UNIQUE_CARRIER|ORIGIN|DEST|DISTANCE|CRS_DEP_TIME|LABEL|OP_UNIQUE_CARRIERIndex|ORIGINIndex|DESTIndex|OP_UNIQUE_CARRIERVec|        ORIGINVec|          DESTVec|            features|       rawPrediction|         probability|prediction|\n",
            "+--------------------+-------+-----+------------+-----------+-----------------+------+----+--------+------------+-----+----------------------+-----------+---------+--------------------+-----------------+-----------------+--------------------+--------------------+--------------------+----------+\n",
            "|1/1/2023_9E_ABY_A...|      1|    1|           1|          7|               9E|   ABY| ATL|   145.0|         736|    0|                  10.0|      244.0|      0.0|     (14,[10],[1.0])|(349,[244],[1.0])|  (349,[0],[1.0])|(718,[0,1,2,3,14,...|[1.68945317804010...|[0.86250371758245...|       0.0|\n",
            "|1/1/2023_9E_AGS_A...|      1|    1|           1|          7|               9E|   AGS| ATL|   143.0|        1745|    0|                  10.0|      152.0|      0.0|     (14,[10],[1.0])|(349,[152],[1.0])|  (349,[0],[1.0])|(718,[0,1,2,3,14,...|[0.66454746009822...|[0.57492166986379...|       0.0|\n",
            "|1/1/2023_9E_ATL_A...|      1|    1|           1|          7|               9E|   ATL| ABE|   692.0|        2156|    0|                  10.0|        0.0|    141.0|     (14,[10],[1.0])|  (349,[0],[1.0])|(349,[141],[1.0])|(718,[0,1,2,3,14,...|[0.68997102130211...|[0.58409532735053...|       0.0|\n",
            "|1/1/2023_9E_ATL_A...|      1|    1|           1|          7|               9E|   ATL| ABY|   145.0|        1110|    0|                  10.0|        0.0|    246.0|     (14,[10],[1.0])|  (349,[0],[1.0])|(349,[246],[1.0])|(718,[0,1,2,3,14,...|[1.79405444691784...|[0.88042815997638...|       0.0|\n",
            "|1/1/2023_9E_ATL_B...|      1|    1|           1|          7|               9E|   ATL| BTR|   448.0|        1430|    1|                  10.0|        0.0|    142.0|     (14,[10],[1.0])|  (349,[0],[1.0])|(349,[142],[1.0])|(718,[0,1,2,3,14,...|[1.35464586206618...|[0.78846341488185...|       0.0|\n",
            "|1/1/2023_9E_ATL_C...|      1|    1|           1|          7|               9E|   ATL| CRW|   363.0|        2122|    1|                  10.0|        0.0|    156.0|     (14,[10],[1.0])|  (349,[0],[1.0])|(349,[156],[1.0])|(718,[0,1,2,3,14,...|[0.77641147812568...|[0.61426913393830...|       0.0|\n",
            "|1/1/2023_9E_ATL_C...|      1|    1|           1|          7|               9E|   ATL| CSG|    83.0|        2050|    0|                  10.0|        0.0|    238.0|     (14,[10],[1.0])|  (349,[0],[1.0])|(349,[238],[1.0])|(718,[0,1,2,3,14,...|[0.96428026120620...|[0.67878614992595...|       0.0|\n",
            "|1/1/2023_9E_ATL_C...|      1|    1|           1|          7|               9E|   ATL| CSG|    83.0|        1100|    1|                  10.0|        0.0|    238.0|     (14,[10],[1.0])|  (349,[0],[1.0])|(349,[238],[1.0])|(718,[0,1,2,3,14,...|[1.55787641658325...|[0.83073298002463...|       0.0|\n",
            "|1/1/2023_9E_ATL_E...|      1|    1|           1|          7|               9E|   ATL| EYW|   646.0|        1740|    2|                  10.0|        0.0|    116.0|     (14,[10],[1.0])|  (349,[0],[1.0])|(349,[116],[1.0])|(718,[0,1,2,3,14,...|[0.91072856422439...|[0.65602670292921...|       0.0|\n",
            "|1/1/2023_9E_ATL_F...|      1|    1|           1|          7|               9E|   ATL| FAY|   331.0|        1354|    1|                  10.0|        0.0|    214.0|     (14,[10],[1.0])|  (349,[0],[1.0])|(349,[214],[1.0])|(718,[0,1,2,3,14,...|[1.38533689080217...|[0.79625257518579...|       0.0|\n",
            "|1/1/2023_9E_ATL_G...|      1|    1|           1|          7|               9E|   ATL| GNV|   300.0|        1510|    0|                  10.0|        0.0|    173.0|     (14,[10],[1.0])|  (349,[0],[1.0])|(349,[173],[1.0])|(718,[0,1,2,3,14,...|[1.34032706829986...|[0.78412469844696...|       0.0|\n",
            "|1/1/2023_9E_ATL_G...|      1|    1|           1|          7|               9E|   ATL| GTR|   241.0|        1157|    2|                  10.0|        0.0|    245.0|     (14,[10],[1.0])|  (349,[0],[1.0])|(349,[245],[1.0])|(718,[0,1,2,3,14,...|[1.61088791155290...|[0.84728044042098...|       0.0|\n",
            "|1/1/2023_9E_ATL_M...|      1|    1|           1|          7|               9E|   ATL| MGM|   147.0|         825|    1|                  10.0|        0.0|    185.0|     (14,[10],[1.0])|  (349,[0],[1.0])|(349,[185],[1.0])|(718,[0,1,2,3,14,...|[1.69561385589572...|[0.85779116511783...|       0.0|\n",
            "|1/1/2023_9E_ATL_M...|      1|    1|           1|          7|               9E|   ATL| MOB|   302.0|        2141|    1|                  10.0|        0.0|    181.0|     (14,[10],[1.0])|  (349,[0],[1.0])|(349,[181],[1.0])|(718,[0,1,2,3,14,...|[0.87990017895029...|[0.65050896550911...|       0.0|\n",
            "|1/1/2023_9E_ATL_M...|      1|    1|           1|          7|               9E|   ATL| MOB|   302.0|         839|    0|                  10.0|        0.0|    181.0|     (14,[10],[1.0])|  (349,[0],[1.0])|(349,[181],[1.0])|(718,[0,1,2,3,14,...|[1.69343933084600...|[0.85359138270135...|       0.0|\n",
            "|1/1/2023_9E_ATL_T...|      1|    1|           1|          7|               9E|   ATL| TYS|   152.0|        1115|    1|                  10.0|        0.0|     83.0|     (14,[10],[1.0])|  (349,[0],[1.0])| (349,[83],[1.0])|(718,[0,1,2,3,14,...|[1.33426870016456...|[0.78010843448214...|       0.0|\n",
            "|1/1/2023_9E_ATW_D...|      1|    1|           1|          7|               9E|   ATW| DTW|   296.0|        1239|    0|                  10.0|      133.0|     16.0|     (14,[10],[1.0])|(349,[133],[1.0])| (349,[16],[1.0])|(718,[0,1,2,3,14,...|[1.15932790354778...|[0.73925498376442...|       0.0|\n",
            "|1/1/2023_9E_BNA_L...|      1|    1|           1|          7|               9E|   BNA| LGA|   764.0|        1530|    0|                  10.0|       22.0|     10.0|     (14,[10],[1.0])| (349,[22],[1.0])| (349,[10],[1.0])|(718,[0,1,2,3,14,...|[0.95935904059468...|[0.67635955466781...|       0.0|\n",
            "|1/1/2023_9E_BQK_A...|      1|    1|           1|          7|               9E|   BQK| ATL|   238.0|        1052|    2|                  10.0|      258.0|      0.0|     (14,[10],[1.0])|(349,[258],[1.0])|  (349,[0],[1.0])|(718,[0,1,2,3,14,...|[1.70013072929289...|[0.86247384840924...|       0.0|\n",
            "|1/1/2023_9E_CHS_J...|      1|    1|           1|          7|               9E|   CHS| JFK|   636.0|        1000|    0|                  10.0|       55.0|     15.0|     (14,[10],[1.0])| (349,[55],[1.0])| (349,[15],[1.0])|(718,[0,1,2,3,14,...|[1.27763197301193...|[0.76709017741944...|       0.0|\n",
            "+--------------------+-------+-----+------------+-----------+-----------------+------+----+--------+------------+-----+----------------------+-----------+---------+--------------------+-----------------+-----------------+--------------------+--------------------+--------------------+----------+\n",
            "only showing top 20 rows\n",
            "\n"
          ]
        },
        {
          "data": {
            "text/plain": [
              "1348430"
            ]
          },
          "execution_count": 19,
          "metadata": {},
          "output_type": "execute_result"
        }
      ],
      "source": [
        "Tested = model_LR.transform(test)\n",
        "Tested.show()\n",
        "Tested.count()"
      ]
    },
    {
      "cell_type": "code",
      "execution_count": null,
      "metadata": {
        "colab": {
          "base_uri": "https://localhost:8080/"
        },
        "id": "cZsBfUuPIWqw",
        "outputId": "4c0b93a4-fe26-4c46-ce00-cd621bfecd9e"
      },
      "outputs": [
        {
          "name": "stdout",
          "output_type": "stream",
          "text": [
            "+----------+-------+\n",
            "|prediction|  count|\n",
            "+----------+-------+\n",
            "|       0.0|1226172|\n",
            "|       1.0| 111138|\n",
            "|       2.0|  11120|\n",
            "+----------+-------+\n",
            "\n"
          ]
        }
      ],
      "source": [
        "Tested.select('prediction').groupBy('prediction').count().show()"
      ]
    },
    {
      "cell_type": "code",
      "execution_count": null,
      "metadata": {
        "colab": {
          "base_uri": "https://localhost:8080/"
        },
        "id": "KUHLg6gF7_iW",
        "outputId": "1684e435-3dbf-4d10-dd0d-b49530dac9fd"
      },
      "outputs": [
        {
          "name": "stdout",
          "output_type": "stream",
          "text": [
            "              precision    recall  f1-score   support\n",
            "\n",
            "           0     0.6513    0.9526    0.7736    838401\n",
            "           1     0.4544    0.1495    0.2250    337780\n",
            "           2     0.3471    0.0224    0.0421    172249\n",
            "\n",
            "    accuracy                         0.6326   1348430\n",
            "   macro avg     0.4843    0.3748    0.3469   1348430\n",
            "weighted avg     0.5631    0.6326    0.5428   1348430\n",
            "\n"
          ]
        }
      ],
      "source": [
        "predicted_test = Tested.select(\"prediction\", 'LABEL')\n",
        "predicted_test_score = predicted_test.toPandas()\n",
        "\n",
        "from sklearn.metrics import classification_report\n",
        "print(classification_report(predicted_test_score.LABEL,\n",
        "                            predicted_test_score.prediction,\n",
        "                            target_names=['0', '1', '2'], digits=4))"
      ]
    },
    {
      "cell_type": "code",
      "execution_count": null,
      "metadata": {
        "colab": {
          "base_uri": "https://localhost:8080/"
        },
        "id": "n2BBBQm3jJdk",
        "outputId": "7262a048-d04c-46bf-db25-d5a25a00c6ae"
      },
      "outputs": [
        {
          "name": "stdout",
          "output_type": "stream",
          "text": [
            "===============Testing Data===============\n",
            "Accuracy: 63.25749%\n",
            "F1-Micro: 63.25749%\n",
            "F1-Macro: 34.69080%\n"
          ]
        }
      ],
      "source": [
        "evaluator = MulticlassClassificationEvaluator(labelCol='LABEL', metricName='accuracy')\n",
        "accuracy_test = evaluator.evaluate(Tested)\n",
        "f1_mic = f1_score(predicted_test_score['LABEL'],\n",
        "                  predicted_test_score['prediction'],\n",
        "                  average = 'micro')\n",
        "f1_mac = f1_score(predicted_test_score['LABEL'],\n",
        "                  predicted_test_score['prediction'],\n",
        "                  average = 'macro')\n",
        "\n",
        "print('='*15+'Testing Data'+'='*15)\n",
        "print(f'Accuracy: {accuracy_test*100:.5f}%')\n",
        "print(f'F1-Micro: {f1_mic*100:.5f}%')\n",
        "print(f'F1-Macro: {f1_mac*100:.5f}%')"
      ]
    },
    {
      "cell_type": "markdown",
      "metadata": {
        "id": "oHghlkAhHSlo"
      },
      "source": [
        "#### Save & Load model"
      ]
    },
    {
      "cell_type": "code",
      "execution_count": null,
      "metadata": {
        "id": "ox2Jq5hgHX1D"
      },
      "outputs": [],
      "source": [
        "model_LR.write().overwrite().save(PATH+'Model/LR')"
      ]
    },
    {
      "cell_type": "code",
      "execution_count": null,
      "metadata": {
        "id": "haUJNn9oH73a"
      },
      "outputs": [],
      "source": [
        "model_LR_load = PipelineModel.load(PATH+'Model/LR')"
      ]
    },
    {
      "cell_type": "markdown",
      "metadata": {
        "id": "uJZV3QGhYPCG"
      },
      "source": [
        "### Decision Tree"
      ]
    },
    {
      "cell_type": "markdown",
      "metadata": {
        "id": "JXwMRajiJSG7"
      },
      "source": [
        "#### Training model"
      ]
    },
    {
      "cell_type": "code",
      "execution_count": null,
      "metadata": {
        "id": "DGoI0hJ2JSG9"
      },
      "outputs": [],
      "source": [
        "stringIndexer = StringIndexer(inputCols=['OP_UNIQUE_CARRIER', 'ORIGIN', 'DEST'],\n",
        "                              outputCols=['OP_UNIQUE_CARRIERIndex', 'ORIGINIndex', 'DESTIndex'])"
      ]
    },
    {
      "cell_type": "code",
      "execution_count": null,
      "metadata": {
        "id": "iXHvdatcJSG_"
      },
      "outputs": [],
      "source": [
        "oneHotEncoder = OneHotEncoder(inputCols=['OP_UNIQUE_CARRIERIndex', 'ORIGINIndex', 'DESTIndex'],\n",
        "                              outputCols=['OP_UNIQUE_CARRIERVec', 'ORIGINVec','DESTVec'])"
      ]
    },
    {
      "cell_type": "code",
      "execution_count": null,
      "metadata": {
        "id": "XvCx-DmNJSHB"
      },
      "outputs": [],
      "source": [
        "assembler = VectorAssembler(inputCols=['QUARTER', 'MONTH', 'DAY_OF_MONTH', 'DAY_OF_WEEK', 'OP_UNIQUE_CARRIERVec', 'ORIGINVec',\n",
        "                                       'DESTVec', 'DISTANCE', 'CRS_DEP_TIME'], outputCol='features')"
      ]
    },
    {
      "cell_type": "code",
      "execution_count": null,
      "metadata": {
        "id": "188vAl4fJSHC"
      },
      "outputs": [],
      "source": []
    },
    {
      "cell_type": "code",
      "execution_count": null,
      "metadata": {
        "id": "A1aNHUsSYPCQ"
      },
      "outputs": [],
      "source": [
        "DT = DecisionTreeClassifier(maxDepth=16,featuresCol='features',labelCol='LABEL')#"
      ]
    },
    {
      "cell_type": "code",
      "execution_count": null,
      "metadata": {
        "id": "OhxJSlWmJSHF"
      },
      "outputs": [],
      "source": [
        "pipeline = Pipeline(stages=[stringIndexer,\n",
        "                            oneHotEncoder,\n",
        "                            assembler, DT])"
      ]
    },
    {
      "cell_type": "code",
      "execution_count": null,
      "metadata": {
        "colab": {
          "base_uri": "https://localhost:8080/"
        },
        "id": "dOyce885YPCY",
        "outputId": "3ef87950-444f-4317-da43-8039280cbfdf"
      },
      "outputs": [
        {
          "name": "stdout",
          "output_type": "stream",
          "text": [
            "CPU times: user 2.73 s, sys: 467 ms, total: 3.2 s\n",
            "Wall time: 5min\n"
          ]
        }
      ],
      "source": [
        "%%time\n",
        "model_DT = pipeline.fit(train)"
      ]
    },
    {
      "cell_type": "markdown",
      "metadata": {
        "id": "v9xy3HI6YPCZ"
      },
      "source": [
        "#### Evaluation model"
      ]
    },
    {
      "cell_type": "markdown",
      "metadata": {
        "id": "1tA-L3DtYPCZ"
      },
      "source": [
        "##### Train"
      ]
    },
    {
      "cell_type": "code",
      "execution_count": null,
      "metadata": {
        "colab": {
          "base_uri": "https://localhost:8080/"
        },
        "id": "XlYnCbprYPCa",
        "outputId": "8edb4c66-7d55-4142-903d-d45c7f42e640"
      },
      "outputs": [
        {
          "name": "stdout",
          "output_type": "stream",
          "text": [
            "+--------------------+-------+-----+------------+-----------+-----------------+------+----+--------+------------+-----+----------------------+-----------+---------+--------------------+-----------------+-----------------+--------------------+--------------------+--------------------+----------+\n",
            "|                  ID|QUARTER|MONTH|DAY_OF_MONTH|DAY_OF_WEEK|OP_UNIQUE_CARRIER|ORIGIN|DEST|DISTANCE|CRS_DEP_TIME|LABEL|OP_UNIQUE_CARRIERIndex|ORIGINIndex|DESTIndex|OP_UNIQUE_CARRIERVec|        ORIGINVec|          DESTVec|            features|       rawPrediction|         probability|prediction|\n",
            "+--------------------+-------+-----+------------+-----------+-----------------+------+----+--------+------------+-----+----------------------+-----------+---------+--------------------+-----------------+-----------------+--------------------+--------------------+--------------------+----------+\n",
            "|1/1/2023_9E_ABE_A...|      1|    1|           1|          7|               9E|   ABE| ATL|   692.0|         600|    1|                  10.0|      141.0|      0.0|     (14,[10],[1.0])|(349,[141],[1.0])|  (349,[0],[1.0])|(718,[0,1,2,3,14,...|[48703.0,6943.0,3...|[0.82282480148673...|       0.0|\n",
            "|1/1/2023_9E_ABY_A...|      1|    1|           1|          7|               9E|   ABY| ATL|   145.0|        1255|    0|                  10.0|      244.0|      0.0|     (14,[10],[1.0])|(349,[244],[1.0])|  (349,[0],[1.0])|(718,[0,1,2,3,14,...|    [69.0,17.0,23.0]|[0.63302752293577...|       0.0|\n",
            "|1/1/2023_9E_AEX_A...|      1|    1|           1|          7|               9E|   AEX| ATL|   500.0|        1748|    2|                  10.0|      195.0|      0.0|     (14,[10],[1.0])|(349,[195],[1.0])|  (349,[0],[1.0])|(718,[0,1,2,3,14,...|    [69.0,17.0,23.0]|[0.63302752293577...|       0.0|\n",
            "|1/1/2023_9E_AEX_A...|      1|    1|           1|          7|               9E|   AEX| ATL|   500.0|        1150|    2|                  10.0|      195.0|      0.0|     (14,[10],[1.0])|(349,[195],[1.0])|  (349,[0],[1.0])|(718,[0,1,2,3,14,...|    [69.0,17.0,23.0]|[0.63302752293577...|       0.0|\n",
            "|1/1/2023_9E_ALB_D...|      1|    1|           1|          7|               9E|   ALB| DTW|   489.0|        1230|    2|                  10.0|       89.0|     16.0|     (14,[10],[1.0])| (349,[89],[1.0])| (349,[16],[1.0])|(718,[0,1,2,3,14,...|   [352.0,65.0,29.0]|[0.78923766816143...|       0.0|\n",
            "|1/1/2023_9E_ALB_D...|      1|    1|           1|          7|               9E|   ALB| DTW|   489.0|         545|    2|                  10.0|       89.0|     16.0|     (14,[10],[1.0])| (349,[89],[1.0])| (349,[16],[1.0])|(718,[0,1,2,3,14,...|[55627.0,6156.0,4...|[0.84264182382791...|       0.0|\n",
            "|1/1/2023_9E_ALB_L...|      1|    1|           1|          7|               9E|   ALB| LGA|   136.0|         825|    0|                  10.0|       89.0|     10.0|     (14,[10],[1.0])| (349,[89],[1.0])| (349,[10],[1.0])|(718,[0,1,2,3,14,...|[76290.0,12016.0,...|[0.79807933718302...|       0.0|\n",
            "|1/1/2023_9E_ATL_A...|      1|    1|           1|          7|               9E|   ATL| ABY|   145.0|        1920|    1|                  10.0|        0.0|    246.0|     (14,[10],[1.0])|  (349,[0],[1.0])|(349,[246],[1.0])|(718,[0,1,2,3,14,...|    [75.0,31.0,20.0]|[0.59523809523809...|       0.0|\n",
            "|1/1/2023_9E_ATL_A...|      1|    1|           1|          7|               9E|   ATL| AEX|   500.0|        1620|    2|                  10.0|        0.0|    195.0|     (14,[10],[1.0])|  (349,[0],[1.0])|(349,[195],[1.0])|(718,[0,1,2,3,14,...|    [75.0,31.0,20.0]|[0.59523809523809...|       0.0|\n",
            "|1/1/2023_9E_ATL_A...|      1|    1|           1|          7|               9E|   ATL| AGS|   143.0|        1515|    0|                  10.0|        0.0|    152.0|     (14,[10],[1.0])|  (349,[0],[1.0])|(349,[152],[1.0])|(718,[0,1,2,3,14,...|    [75.0,31.0,20.0]|[0.59523809523809...|       0.0|\n",
            "|1/1/2023_9E_ATL_A...|      1|    1|           1|          7|               9E|   ATL| AGS|   143.0|        2110|    0|                  10.0|        0.0|    152.0|     (14,[10],[1.0])|  (349,[0],[1.0])|(349,[152],[1.0])|(718,[0,1,2,3,14,...|    [75.0,31.0,20.0]|[0.59523809523809...|       0.0|\n",
            "|1/1/2023_9E_ATL_B...|      1|    1|           1|          7|               9E|   ATL| BQK|   238.0|         900|    2|                  10.0|        0.0|    262.0|     (14,[10],[1.0])|  (349,[0],[1.0])|(349,[262],[1.0])|(718,[0,1,2,3,14,...|[76290.0,12016.0,...|[0.79807933718302...|       0.0|\n",
            "|1/1/2023_9E_ATL_B...|      1|    1|           1|          7|               9E|   ATL| BQK|   238.0|        1710|    0|                  10.0|        0.0|    262.0|     (14,[10],[1.0])|  (349,[0],[1.0])|(349,[262],[1.0])|(718,[0,1,2,3,14,...|    [75.0,31.0,20.0]|[0.59523809523809...|       0.0|\n",
            "|1/1/2023_9E_ATL_C...|      1|    1|           1|          7|               9E|   ATL| CHA|   106.0|        1340|    0|                  10.0|        0.0|    125.0|     (14,[10],[1.0])|  (349,[0],[1.0])|(349,[125],[1.0])|(718,[0,1,2,3,14,...|    [75.0,31.0,20.0]|[0.59523809523809...|       0.0|\n",
            "|1/1/2023_9E_ATL_C...|      1|    1|           1|          7|               9E|   ATL| CHO|   457.0|        1300|    0|                  10.0|        0.0|    169.0|     (14,[10],[1.0])|  (349,[0],[1.0])|(349,[169],[1.0])|(718,[0,1,2,3,14,...|    [75.0,31.0,20.0]|[0.59523809523809...|       0.0|\n",
            "|1/1/2023_9E_ATL_C...|      1|    1|           1|          7|               9E|   ATL| CHO|   457.0|        2055|    0|                  10.0|        0.0|    169.0|     (14,[10],[1.0])|  (349,[0],[1.0])|(349,[169],[1.0])|(718,[0,1,2,3,14,...|    [75.0,31.0,20.0]|[0.59523809523809...|       0.0|\n",
            "|1/1/2023_9E_ATL_C...|      1|    1|           1|          7|               9E|   ATL| CRW|   363.0|        1100|    2|                  10.0|        0.0|    156.0|     (14,[10],[1.0])|  (349,[0],[1.0])|(349,[156],[1.0])|(718,[0,1,2,3,14,...|   [538.0,88.0,54.0]|[0.79117647058823...|       0.0|\n",
            "|1/1/2023_9E_ATL_C...|      1|    1|           1|          7|               9E|   ATL| CVG|   373.0|        1000|    0|                  10.0|        0.0|     47.0|     (14,[10],[1.0])|  (349,[0],[1.0])| (349,[47],[1.0])|(718,[0,1,2,3,14,...|   [538.0,88.0,54.0]|[0.79117647058823...|       0.0|\n",
            "|1/1/2023_9E_ATL_D...|      1|    1|           1|          7|               9E|   ATL| DHN|   170.0|        1657|    0|                  10.0|        0.0|    252.0|     (14,[10],[1.0])|  (349,[0],[1.0])|(349,[252],[1.0])|(718,[0,1,2,3,14,...|    [75.0,31.0,20.0]|[0.59523809523809...|       0.0|\n",
            "|1/1/2023_9E_ATL_D...|      1|    1|           1|          7|               9E|   ATL| DHN|   170.0|         917|    1|                  10.0|        0.0|    252.0|     (14,[10],[1.0])|  (349,[0],[1.0])|(349,[252],[1.0])|(718,[0,1,2,3,14,...|   [538.0,88.0,54.0]|[0.79117647058823...|       0.0|\n",
            "+--------------------+-------+-----+------------+-----------+-----------------+------+----+--------+------------+-----+----------------------+-----------+---------+--------------------+-----------------+-----------------+--------------------+--------------------+--------------------+----------+\n",
            "only showing top 20 rows\n",
            "\n"
          ]
        },
        {
          "data": {
            "text/plain": [
              "5394973"
            ]
          },
          "execution_count": 31,
          "metadata": {},
          "output_type": "execute_result"
        }
      ],
      "source": [
        "Trained = model_DT.transform(train)\n",
        "Trained.show()\n",
        "Trained.count()"
      ]
    },
    {
      "cell_type": "code",
      "execution_count": null,
      "metadata": {
        "colab": {
          "base_uri": "https://localhost:8080/"
        },
        "id": "hOkV0UPWYPCc",
        "outputId": "505f034d-28dc-420c-ed07-701d8846f04e"
      },
      "outputs": [
        {
          "name": "stdout",
          "output_type": "stream",
          "text": [
            "+----------+-------+\n",
            "|prediction|  count|\n",
            "+----------+-------+\n",
            "|       0.0|4661834|\n",
            "|       1.0| 586742|\n",
            "|       2.0| 146397|\n",
            "+----------+-------+\n",
            "\n"
          ]
        }
      ],
      "source": [
        "Trained.select('prediction').groupBy('prediction').count().show()"
      ]
    },
    {
      "cell_type": "code",
      "execution_count": null,
      "metadata": {
        "colab": {
          "base_uri": "https://localhost:8080/"
        },
        "id": "GJnhFCanYPCe",
        "outputId": "bb777a3d-74da-4541-867d-6a0cef9abee2"
      },
      "outputs": [
        {
          "name": "stdout",
          "output_type": "stream",
          "text": [
            "              precision    recall  f1-score   support\n",
            "\n",
            "           0     0.6759    0.9408    0.7866   3349244\n",
            "           1     0.5258    0.2275    0.3176   1355778\n",
            "           2     0.5250    0.1114    0.1838    689951\n",
            "\n",
            "    accuracy                         0.6555   5394973\n",
            "   macro avg     0.5755    0.4266    0.4293   5394973\n",
            "weighted avg     0.6189    0.6555    0.5917   5394973\n",
            "\n"
          ]
        }
      ],
      "source": [
        "predicted_train = Trained.select(\"prediction\", 'LABEL')\n",
        "predicted_train_score = predicted_train.toPandas()\n",
        "\n",
        "print(classification_report(predicted_train_score.LABEL,\n",
        "                            predicted_train_score.prediction,\n",
        "                            target_names=['0', '1', '2'], digits=4))"
      ]
    },
    {
      "cell_type": "code",
      "execution_count": null,
      "metadata": {
        "colab": {
          "base_uri": "https://localhost:8080/"
        },
        "id": "eXwVS_OWYPCh",
        "outputId": "75661b66-f585-4314-fc28-8165b6dab0ef"
      },
      "outputs": [
        {
          "name": "stdout",
          "output_type": "stream",
          "text": [
            "===============Training Data===============\n",
            "Accuracy: 65.54530%\n",
            "F1-Micro: 65.54530%\n",
            "F1-Macro: 42.93409%\n"
          ]
        }
      ],
      "source": [
        "evaluator = MulticlassClassificationEvaluator(labelCol='LABEL', metricName='accuracy')\n",
        "accuracy_train = evaluator.evaluate(Trained)\n",
        "f1_mic = f1_score(predicted_train_score['LABEL'],\n",
        "                  predicted_train_score['prediction'],\n",
        "                  average = 'micro')\n",
        "f1_mac = f1_score(predicted_train_score['LABEL'],\n",
        "                  predicted_train_score['prediction'],\n",
        "                  average = 'macro')\n",
        "\n",
        "print('='*15+'Training Data'+'='*15)\n",
        "print(f'Accuracy: {accuracy_train*100:.5f}%')\n",
        "print(f'F1-Micro: {f1_mic*100:.5f}%')\n",
        "print(f'F1-Macro: {f1_mac*100:.5f}%')"
      ]
    },
    {
      "cell_type": "markdown",
      "metadata": {
        "id": "-HOdY7K0YPCj"
      },
      "source": [
        "##### Test"
      ]
    },
    {
      "cell_type": "code",
      "execution_count": null,
      "metadata": {
        "colab": {
          "base_uri": "https://localhost:8080/"
        },
        "id": "kZhCb5DAYPCk",
        "outputId": "8704d4d9-8c66-45ef-8945-58312482d068"
      },
      "outputs": [
        {
          "name": "stdout",
          "output_type": "stream",
          "text": [
            "+--------------------+-------+-----+------------+-----------+-----------------+------+----+--------+------------+-----+----------------------+-----------+---------+--------------------+-----------------+-----------------+--------------------+--------------------+--------------------+----------+\n",
            "|                  ID|QUARTER|MONTH|DAY_OF_MONTH|DAY_OF_WEEK|OP_UNIQUE_CARRIER|ORIGIN|DEST|DISTANCE|CRS_DEP_TIME|LABEL|OP_UNIQUE_CARRIERIndex|ORIGINIndex|DESTIndex|OP_UNIQUE_CARRIERVec|        ORIGINVec|          DESTVec|            features|       rawPrediction|         probability|prediction|\n",
            "+--------------------+-------+-----+------------+-----------+-----------------+------+----+--------+------------+-----+----------------------+-----------+---------+--------------------+-----------------+-----------------+--------------------+--------------------+--------------------+----------+\n",
            "|1/1/2023_9E_ABY_A...|      1|    1|           1|          7|               9E|   ABY| ATL|   145.0|         736|    0|                  10.0|      244.0|      0.0|     (14,[10],[1.0])|(349,[244],[1.0])|  (349,[0],[1.0])|(718,[0,1,2,3,14,...|[76290.0,12016.0,...|[0.79807933718302...|       0.0|\n",
            "|1/1/2023_9E_AGS_A...|      1|    1|           1|          7|               9E|   AGS| ATL|   143.0|        1745|    0|                  10.0|      152.0|      0.0|     (14,[10],[1.0])|(349,[152],[1.0])|  (349,[0],[1.0])|(718,[0,1,2,3,14,...|    [69.0,17.0,23.0]|[0.63302752293577...|       0.0|\n",
            "|1/1/2023_9E_ATL_A...|      1|    1|           1|          7|               9E|   ATL| ABE|   692.0|        2156|    0|                  10.0|        0.0|    141.0|     (14,[10],[1.0])|  (349,[0],[1.0])|(349,[141],[1.0])|(718,[0,1,2,3,14,...|[115657.0,60955.0...|[0.54589951148136...|       0.0|\n",
            "|1/1/2023_9E_ATL_A...|      1|    1|           1|          7|               9E|   ATL| ABY|   145.0|        1110|    0|                  10.0|        0.0|    246.0|     (14,[10],[1.0])|  (349,[0],[1.0])|(349,[246],[1.0])|(718,[0,1,2,3,14,...|   [538.0,88.0,54.0]|[0.79117647058823...|       0.0|\n",
            "|1/1/2023_9E_ATL_B...|      1|    1|           1|          7|               9E|   ATL| BTR|   448.0|        1430|    1|                  10.0|        0.0|    142.0|     (14,[10],[1.0])|  (349,[0],[1.0])|(349,[142],[1.0])|(718,[0,1,2,3,14,...|    [75.0,31.0,20.0]|[0.59523809523809...|       0.0|\n",
            "|1/1/2023_9E_ATL_C...|      1|    1|           1|          7|               9E|   ATL| CRW|   363.0|        2122|    1|                  10.0|        0.0|    156.0|     (14,[10],[1.0])|  (349,[0],[1.0])|(349,[156],[1.0])|(718,[0,1,2,3,14,...|    [75.0,31.0,20.0]|[0.59523809523809...|       0.0|\n",
            "|1/1/2023_9E_ATL_C...|      1|    1|           1|          7|               9E|   ATL| CSG|    83.0|        2050|    0|                  10.0|        0.0|    238.0|     (14,[10],[1.0])|  (349,[0],[1.0])|(349,[238],[1.0])|(718,[0,1,2,3,14,...|    [75.0,31.0,20.0]|[0.59523809523809...|       0.0|\n",
            "|1/1/2023_9E_ATL_C...|      1|    1|           1|          7|               9E|   ATL| CSG|    83.0|        1100|    1|                  10.0|        0.0|    238.0|     (14,[10],[1.0])|  (349,[0],[1.0])|(349,[238],[1.0])|(718,[0,1,2,3,14,...|   [538.0,88.0,54.0]|[0.79117647058823...|       0.0|\n",
            "|1/1/2023_9E_ATL_E...|      1|    1|           1|          7|               9E|   ATL| EYW|   646.0|        1740|    2|                  10.0|        0.0|    116.0|     (14,[10],[1.0])|  (349,[0],[1.0])|(349,[116],[1.0])|(718,[0,1,2,3,14,...|    [75.0,31.0,20.0]|[0.59523809523809...|       0.0|\n",
            "|1/1/2023_9E_ATL_F...|      1|    1|           1|          7|               9E|   ATL| FAY|   331.0|        1354|    1|                  10.0|        0.0|    214.0|     (14,[10],[1.0])|  (349,[0],[1.0])|(349,[214],[1.0])|(718,[0,1,2,3,14,...|    [75.0,31.0,20.0]|[0.59523809523809...|       0.0|\n",
            "|1/1/2023_9E_ATL_G...|      1|    1|           1|          7|               9E|   ATL| GNV|   300.0|        1510|    0|                  10.0|        0.0|    173.0|     (14,[10],[1.0])|  (349,[0],[1.0])|(349,[173],[1.0])|(718,[0,1,2,3,14,...|       [0.0,0.0,1.0]|       [0.0,0.0,1.0]|       2.0|\n",
            "|1/1/2023_9E_ATL_G...|      1|    1|           1|          7|               9E|   ATL| GTR|   241.0|        1157|    2|                  10.0|        0.0|    245.0|     (14,[10],[1.0])|  (349,[0],[1.0])|(349,[245],[1.0])|(718,[0,1,2,3,14,...|    [75.0,31.0,20.0]|[0.59523809523809...|       0.0|\n",
            "|1/1/2023_9E_ATL_M...|      1|    1|           1|          7|               9E|   ATL| MGM|   147.0|         825|    1|                  10.0|        0.0|    185.0|     (14,[10],[1.0])|  (349,[0],[1.0])|(349,[185],[1.0])|(718,[0,1,2,3,14,...|[76290.0,12016.0,...|[0.79807933718302...|       0.0|\n",
            "|1/1/2023_9E_ATL_M...|      1|    1|           1|          7|               9E|   ATL| MOB|   302.0|        2141|    1|                  10.0|        0.0|    181.0|     (14,[10],[1.0])|  (349,[0],[1.0])|(349,[181],[1.0])|(718,[0,1,2,3,14,...|    [75.0,31.0,20.0]|[0.59523809523809...|       0.0|\n",
            "|1/1/2023_9E_ATL_M...|      1|    1|           1|          7|               9E|   ATL| MOB|   302.0|         839|    0|                  10.0|        0.0|    181.0|     (14,[10],[1.0])|  (349,[0],[1.0])|(349,[181],[1.0])|(718,[0,1,2,3,14,...|[76290.0,12016.0,...|[0.79807933718302...|       0.0|\n",
            "|1/1/2023_9E_ATL_T...|      1|    1|           1|          7|               9E|   ATL| TYS|   152.0|        1115|    1|                  10.0|        0.0|     83.0|     (14,[10],[1.0])|  (349,[0],[1.0])| (349,[83],[1.0])|(718,[0,1,2,3,14,...|    [75.0,31.0,20.0]|[0.59523809523809...|       0.0|\n",
            "|1/1/2023_9E_ATW_D...|      1|    1|           1|          7|               9E|   ATW| DTW|   296.0|        1239|    0|                  10.0|      133.0|     16.0|     (14,[10],[1.0])|(349,[133],[1.0])| (349,[16],[1.0])|(718,[0,1,2,3,14,...|   [352.0,65.0,29.0]|[0.78923766816143...|       0.0|\n",
            "|1/1/2023_9E_BNA_L...|      1|    1|           1|          7|               9E|   BNA| LGA|   764.0|        1530|    0|                  10.0|       22.0|     10.0|     (14,[10],[1.0])| (349,[22],[1.0])| (349,[10],[1.0])|(718,[0,1,2,3,14,...|[115657.0,60955.0...|[0.54589951148136...|       0.0|\n",
            "|1/1/2023_9E_BQK_A...|      1|    1|           1|          7|               9E|   BQK| ATL|   238.0|        1052|    2|                  10.0|      258.0|      0.0|     (14,[10],[1.0])|(349,[258],[1.0])|  (349,[0],[1.0])|(718,[0,1,2,3,14,...|   [538.0,88.0,54.0]|[0.79117647058823...|       0.0|\n",
            "|1/1/2023_9E_CHS_J...|      1|    1|           1|          7|               9E|   CHS| JFK|   636.0|        1000|    0|                  10.0|       55.0|     15.0|     (14,[10],[1.0])| (349,[55],[1.0])| (349,[15],[1.0])|(718,[0,1,2,3,14,...|      [22.0,0.0,0.0]|       [1.0,0.0,0.0]|       0.0|\n",
            "+--------------------+-------+-----+------------+-----------+-----------------+------+----+--------+------------+-----+----------------------+-----------+---------+--------------------+-----------------+-----------------+--------------------+--------------------+--------------------+----------+\n",
            "only showing top 20 rows\n",
            "\n"
          ]
        },
        {
          "data": {
            "text/plain": [
              "1348430"
            ]
          },
          "execution_count": 35,
          "metadata": {},
          "output_type": "execute_result"
        }
      ],
      "source": [
        "Tested = model_DT.transform(test)\n",
        "Tested.show()\n",
        "Tested.count()"
      ]
    },
    {
      "cell_type": "code",
      "execution_count": null,
      "metadata": {
        "colab": {
          "base_uri": "https://localhost:8080/"
        },
        "id": "gjjPUJONYPCm",
        "outputId": "6d1bbe9a-380b-4206-fdee-2a51263a6553"
      },
      "outputs": [
        {
          "name": "stdout",
          "output_type": "stream",
          "text": [
            "+----------+-------+\n",
            "|prediction|  count|\n",
            "+----------+-------+\n",
            "|       0.0|1165556|\n",
            "|       1.0| 146273|\n",
            "|       2.0|  36601|\n",
            "+----------+-------+\n",
            "\n"
          ]
        }
      ],
      "source": [
        "Tested.select('prediction').groupBy('prediction').count().show()"
      ]
    },
    {
      "cell_type": "code",
      "execution_count": null,
      "metadata": {
        "colab": {
          "base_uri": "https://localhost:8080/"
        },
        "id": "Cl0rjCBEYPCn",
        "outputId": "93c172e4-5374-4303-e6bc-9af00bfd9bbe"
      },
      "outputs": [
        {
          "name": "stdout",
          "output_type": "stream",
          "text": [
            "              precision    recall  f1-score   support\n",
            "\n",
            "           0     0.6711    0.9329    0.7806    838401\n",
            "           1     0.4813    0.2084    0.2909    337780\n",
            "           2     0.4534    0.0963    0.1589    172249\n",
            "\n",
            "    accuracy                         0.6446   1348430\n",
            "   macro avg     0.5353    0.4126    0.4101   1348430\n",
            "weighted avg     0.5957    0.6446    0.5785   1348430\n",
            "\n"
          ]
        }
      ],
      "source": [
        "predicted_test = Tested.select(\"prediction\", 'LABEL')\n",
        "predicted_test_score = predicted_test.toPandas()\n",
        "\n",
        "from sklearn.metrics import classification_report\n",
        "print(classification_report(predicted_test_score.LABEL,\n",
        "                            predicted_test_score.prediction,\n",
        "                            target_names=['0', '1', '2'], digits=4))"
      ]
    },
    {
      "cell_type": "code",
      "execution_count": null,
      "metadata": {
        "colab": {
          "base_uri": "https://localhost:8080/"
        },
        "id": "FLMOrip0YPCp",
        "outputId": "8ed5015e-c6f1-4d12-9cdf-2e96059394f3"
      },
      "outputs": [
        {
          "name": "stdout",
          "output_type": "stream",
          "text": [
            "===============Testing Data===============\n",
            "Accuracy: 64.45696%\n",
            "F1-Micro: 64.45696%\n",
            "F1-Macro: 41.01449%\n"
          ]
        }
      ],
      "source": [
        "evaluator = MulticlassClassificationEvaluator(labelCol='LABEL', metricName='accuracy')\n",
        "accuracy_test = evaluator.evaluate(Tested)\n",
        "f1_mic = f1_score(predicted_test_score['LABEL'],\n",
        "                  predicted_test_score['prediction'],\n",
        "                  average = 'micro')\n",
        "f1_mac = f1_score(predicted_test_score['LABEL'],\n",
        "                  predicted_test_score['prediction'],\n",
        "                  average = 'macro')\n",
        "\n",
        "print('='*15+'Testing Data'+'='*15)\n",
        "print(f'Accuracy: {accuracy_test*100:.5f}%')\n",
        "print(f'F1-Micro: {f1_mic*100:.5f}%')\n",
        "print(f'F1-Macro: {f1_mac*100:.5f}%')"
      ]
    },
    {
      "cell_type": "markdown",
      "metadata": {
        "id": "Z56K4mxyI5Ji"
      },
      "source": [
        "#### Save & Load model"
      ]
    },
    {
      "cell_type": "code",
      "execution_count": null,
      "metadata": {
        "id": "4RubA3PNI5Jj"
      },
      "outputs": [],
      "source": [
        "model_DT.write().overwrite().save(PATH+'Model/DT')"
      ]
    },
    {
      "cell_type": "code",
      "execution_count": null,
      "metadata": {
        "id": "IzZg-QQ0I5Jk"
      },
      "outputs": [],
      "source": [
        "model_DT_load = PipelineModel.load(PATH+'Model/DT')"
      ]
    },
    {
      "cell_type": "markdown",
      "metadata": {
        "id": "jJuYFbFyObKr"
      },
      "source": [
        "### Random Forest"
      ]
    },
    {
      "cell_type": "markdown",
      "metadata": {
        "id": "OJTm5t1RJs6_"
      },
      "source": [
        "#### Training model"
      ]
    },
    {
      "cell_type": "code",
      "execution_count": null,
      "metadata": {
        "id": "ZfRz-MLKJs7C"
      },
      "outputs": [],
      "source": [
        "stringIndexer = StringIndexer(inputCols=['OP_UNIQUE_CARRIER', 'ORIGIN', 'DEST'],\n",
        "                              outputCols=['OP_UNIQUE_CARRIERIndex', 'ORIGINIndex', 'DESTIndex'])"
      ]
    },
    {
      "cell_type": "code",
      "execution_count": null,
      "metadata": {
        "id": "AWlKvRTAJs7F"
      },
      "outputs": [],
      "source": [
        "oneHotEncoder = OneHotEncoder(inputCols=['OP_UNIQUE_CARRIERIndex', 'ORIGINIndex', 'DESTIndex'],\n",
        "                              outputCols=['OP_UNIQUE_CARRIERVec', 'ORIGINVec','DESTVec'])"
      ]
    },
    {
      "cell_type": "code",
      "execution_count": null,
      "metadata": {
        "id": "uZlFrPIIJs7G"
      },
      "outputs": [],
      "source": [
        "assembler = VectorAssembler(inputCols=['QUARTER', 'MONTH', 'DAY_OF_MONTH', 'DAY_OF_WEEK', 'OP_UNIQUE_CARRIERVec', 'ORIGINVec',\n",
        "                                       'DESTVec', 'DISTANCE', 'CRS_DEP_TIME'], outputCol='features')"
      ]
    },
    {
      "cell_type": "code",
      "execution_count": null,
      "metadata": {
        "id": "CgznrIXRObMi"
      },
      "outputs": [],
      "source": [
        "RF = RandomForestClassifier(maxDepth=10, numTrees = 3, featuresCol='features', labelCol='LABEL')#"
      ]
    },
    {
      "cell_type": "code",
      "execution_count": null,
      "metadata": {
        "id": "47UsJkuiJs7M"
      },
      "outputs": [],
      "source": [
        "pipeline = Pipeline(stages=[stringIndexer,\n",
        "                            oneHotEncoder,\n",
        "                            assembler, RF])"
      ]
    },
    {
      "cell_type": "code",
      "execution_count": null,
      "metadata": {
        "colab": {
          "base_uri": "https://localhost:8080/"
        },
        "id": "UFf_55r7ObMn",
        "outputId": "4100243a-cd87-41c2-f0bb-e4afa40304a0"
      },
      "outputs": [
        {
          "name": "stdout",
          "output_type": "stream",
          "text": [
            "CPU times: user 338 ms, sys: 51.1 ms, total: 390 ms\n",
            "Wall time: 37.5 s\n"
          ]
        }
      ],
      "source": [
        "%%time\n",
        "model_RF = pipeline.fit(train)"
      ]
    },
    {
      "cell_type": "markdown",
      "metadata": {
        "id": "jXMONE_SObMo"
      },
      "source": [
        "#### Evaluation model"
      ]
    },
    {
      "cell_type": "markdown",
      "metadata": {
        "id": "FVERZG1gObMp"
      },
      "source": [
        "##### Train"
      ]
    },
    {
      "cell_type": "code",
      "execution_count": null,
      "metadata": {
        "colab": {
          "base_uri": "https://localhost:8080/"
        },
        "id": "jMMg6BG6ObMr",
        "outputId": "834e361d-413c-437c-e6a8-f5b2938d9346"
      },
      "outputs": [
        {
          "name": "stdout",
          "output_type": "stream",
          "text": [
            "+--------------------+-------+-----+------------+-----------+-----------------+------+----+--------+------------+-----+----------------------+-----------+---------+--------------------+-----------------+-----------------+--------------------+--------------------+--------------------+----------+\n",
            "|                  ID|QUARTER|MONTH|DAY_OF_MONTH|DAY_OF_WEEK|OP_UNIQUE_CARRIER|ORIGIN|DEST|DISTANCE|CRS_DEP_TIME|LABEL|OP_UNIQUE_CARRIERIndex|ORIGINIndex|DESTIndex|OP_UNIQUE_CARRIERVec|        ORIGINVec|          DESTVec|            features|       rawPrediction|         probability|prediction|\n",
            "+--------------------+-------+-----+------------+-----------+-----------------+------+----+--------+------------+-----+----------------------+-----------+---------+--------------------+-----------------+-----------------+--------------------+--------------------+--------------------+----------+\n",
            "|1/1/2023_9E_ABE_A...|      1|    1|           1|          7|               9E|   ABE| ATL|   692.0|         600|    1|                  10.0|      141.0|      0.0|     (14,[10],[1.0])|(349,[141],[1.0])|  (349,[0],[1.0])|(718,[0,1,2,3,14,...|[2.15840122692075...|[0.71946707564025...|       0.0|\n",
            "|1/1/2023_9E_ABY_A...|      1|    1|           1|          7|               9E|   ABY| ATL|   145.0|        1255|    0|                  10.0|      244.0|      0.0|     (14,[10],[1.0])|(349,[244],[1.0])|  (349,[0],[1.0])|(718,[0,1,2,3,14,...|[1.91977687840472...|[0.63992562613490...|       0.0|\n",
            "|1/1/2023_9E_AEX_A...|      1|    1|           1|          7|               9E|   AEX| ATL|   500.0|        1748|    2|                  10.0|      195.0|      0.0|     (14,[10],[1.0])|(349,[195],[1.0])|  (349,[0],[1.0])|(718,[0,1,2,3,14,...|[1.91977687840472...|[0.63992562613490...|       0.0|\n",
            "|1/1/2023_9E_AEX_A...|      1|    1|           1|          7|               9E|   AEX| ATL|   500.0|        1150|    2|                  10.0|      195.0|      0.0|     (14,[10],[1.0])|(349,[195],[1.0])|  (349,[0],[1.0])|(718,[0,1,2,3,14,...|[1.91977687840472...|[0.63992562613490...|       0.0|\n",
            "|1/1/2023_9E_ALB_D...|      1|    1|           1|          7|               9E|   ALB| DTW|   489.0|        1230|    2|                  10.0|       89.0|     16.0|     (14,[10],[1.0])| (349,[89],[1.0])| (349,[16],[1.0])|(718,[0,1,2,3,14,...|[1.91977687840472...|[0.63992562613490...|       0.0|\n",
            "|1/1/2023_9E_ALB_D...|      1|    1|           1|          7|               9E|   ALB| DTW|   489.0|         545|    2|                  10.0|       89.0|     16.0|     (14,[10],[1.0])| (349,[89],[1.0])| (349,[16],[1.0])|(718,[0,1,2,3,14,...|[2.15840122692075...|[0.71946707564025...|       0.0|\n",
            "|1/1/2023_9E_ALB_L...|      1|    1|           1|          7|               9E|   ALB| LGA|   136.0|         825|    0|                  10.0|       89.0|     10.0|     (14,[10],[1.0])| (349,[89],[1.0])| (349,[10],[1.0])|(718,[0,1,2,3,14,...|[2.15840122692075...|[0.71946707564025...|       0.0|\n",
            "|1/1/2023_9E_ATL_A...|      1|    1|           1|          7|               9E|   ATL| ABY|   145.0|        1920|    1|                  10.0|        0.0|    246.0|     (14,[10],[1.0])|  (349,[0],[1.0])|(349,[246],[1.0])|(718,[0,1,2,3,14,...|[1.91977687840472...|[0.63992562613490...|       0.0|\n",
            "|1/1/2023_9E_ATL_A...|      1|    1|           1|          7|               9E|   ATL| AEX|   500.0|        1620|    2|                  10.0|        0.0|    195.0|     (14,[10],[1.0])|  (349,[0],[1.0])|(349,[195],[1.0])|(718,[0,1,2,3,14,...|[1.91977687840472...|[0.63992562613490...|       0.0|\n",
            "|1/1/2023_9E_ATL_A...|      1|    1|           1|          7|               9E|   ATL| AGS|   143.0|        1515|    0|                  10.0|        0.0|    152.0|     (14,[10],[1.0])|  (349,[0],[1.0])|(349,[152],[1.0])|(718,[0,1,2,3,14,...|[1.91977687840472...|[0.63992562613490...|       0.0|\n",
            "|1/1/2023_9E_ATL_A...|      1|    1|           1|          7|               9E|   ATL| AGS|   143.0|        2110|    0|                  10.0|        0.0|    152.0|     (14,[10],[1.0])|  (349,[0],[1.0])|(349,[152],[1.0])|(718,[0,1,2,3,14,...|[1.91977687840472...|[0.63992562613490...|       0.0|\n",
            "|1/1/2023_9E_ATL_B...|      1|    1|           1|          7|               9E|   ATL| BQK|   238.0|         900|    2|                  10.0|        0.0|    262.0|     (14,[10],[1.0])|  (349,[0],[1.0])|(349,[262],[1.0])|(718,[0,1,2,3,14,...|[2.15840122692075...|[0.71946707564025...|       0.0|\n",
            "|1/1/2023_9E_ATL_B...|      1|    1|           1|          7|               9E|   ATL| BQK|   238.0|        1710|    0|                  10.0|        0.0|    262.0|     (14,[10],[1.0])|  (349,[0],[1.0])|(349,[262],[1.0])|(718,[0,1,2,3,14,...|[1.91977687840472...|[0.63992562613490...|       0.0|\n",
            "|1/1/2023_9E_ATL_C...|      1|    1|           1|          7|               9E|   ATL| CHA|   106.0|        1340|    0|                  10.0|        0.0|    125.0|     (14,[10],[1.0])|  (349,[0],[1.0])|(349,[125],[1.0])|(718,[0,1,2,3,14,...|[1.91977687840472...|[0.63992562613490...|       0.0|\n",
            "|1/1/2023_9E_ATL_C...|      1|    1|           1|          7|               9E|   ATL| CHO|   457.0|        1300|    0|                  10.0|        0.0|    169.0|     (14,[10],[1.0])|  (349,[0],[1.0])|(349,[169],[1.0])|(718,[0,1,2,3,14,...|[1.91977687840472...|[0.63992562613490...|       0.0|\n",
            "|1/1/2023_9E_ATL_C...|      1|    1|           1|          7|               9E|   ATL| CHO|   457.0|        2055|    0|                  10.0|        0.0|    169.0|     (14,[10],[1.0])|  (349,[0],[1.0])|(349,[169],[1.0])|(718,[0,1,2,3,14,...|[1.91977687840472...|[0.63992562613490...|       0.0|\n",
            "|1/1/2023_9E_ATL_C...|      1|    1|           1|          7|               9E|   ATL| CRW|   363.0|        1100|    2|                  10.0|        0.0|    156.0|     (14,[10],[1.0])|  (349,[0],[1.0])|(349,[156],[1.0])|(718,[0,1,2,3,14,...|[2.15840122692075...|[0.71946707564025...|       0.0|\n",
            "|1/1/2023_9E_ATL_C...|      1|    1|           1|          7|               9E|   ATL| CVG|   373.0|        1000|    0|                  10.0|        0.0|     47.0|     (14,[10],[1.0])|  (349,[0],[1.0])| (349,[47],[1.0])|(718,[0,1,2,3,14,...|[2.15840122692075...|[0.71946707564025...|       0.0|\n",
            "|1/1/2023_9E_ATL_D...|      1|    1|           1|          7|               9E|   ATL| DHN|   170.0|        1657|    0|                  10.0|        0.0|    252.0|     (14,[10],[1.0])|  (349,[0],[1.0])|(349,[252],[1.0])|(718,[0,1,2,3,14,...|[1.91977687840472...|[0.63992562613490...|       0.0|\n",
            "|1/1/2023_9E_ATL_D...|      1|    1|           1|          7|               9E|   ATL| DHN|   170.0|         917|    1|                  10.0|        0.0|    252.0|     (14,[10],[1.0])|  (349,[0],[1.0])|(349,[252],[1.0])|(718,[0,1,2,3,14,...|[2.15840122692075...|[0.71946707564025...|       0.0|\n",
            "+--------------------+-------+-----+------------+-----------+-----------------+------+----+--------+------------+-----+----------------------+-----------+---------+--------------------+-----------------+-----------------+--------------------+--------------------+--------------------+----------+\n",
            "only showing top 20 rows\n",
            "\n"
          ]
        },
        {
          "data": {
            "text/plain": [
              "5394973"
            ]
          },
          "execution_count": 47,
          "metadata": {},
          "output_type": "execute_result"
        }
      ],
      "source": [
        "Trained = model_RF.transform(train)\n",
        "Trained.show()\n",
        "Trained.count()"
      ]
    },
    {
      "cell_type": "code",
      "execution_count": null,
      "metadata": {
        "colab": {
          "base_uri": "https://localhost:8080/"
        },
        "id": "7kt1Kp20ObMs",
        "outputId": "34fb3861-01a2-48fc-e707-1ab44bf32b4f"
      },
      "outputs": [
        {
          "name": "stdout",
          "output_type": "stream",
          "text": [
            "+----------+-------+\n",
            "|prediction|  count|\n",
            "+----------+-------+\n",
            "|       0.0|5392943|\n",
            "|       1.0|   2029|\n",
            "|       2.0|      1|\n",
            "+----------+-------+\n",
            "\n"
          ]
        }
      ],
      "source": [
        "Trained.select('prediction').groupBy('prediction').count().show()"
      ]
    },
    {
      "cell_type": "code",
      "execution_count": null,
      "metadata": {
        "colab": {
          "base_uri": "https://localhost:8080/"
        },
        "id": "QQiISFpKObMu",
        "outputId": "0d454d6e-4a9a-418d-a169-8bb2bef62b89"
      },
      "outputs": [
        {
          "name": "stdout",
          "output_type": "stream",
          "text": [
            "              precision    recall  f1-score   support\n",
            "\n",
            "           0     0.6210    0.9999    0.7661   3349244\n",
            "           1     0.5323    0.0008    0.0016   1355778\n",
            "           2     1.0000    0.0000    0.0000    689951\n",
            "\n",
            "    accuracy                         0.6209   5394973\n",
            "   macro avg     0.7178    0.3336    0.2559   5394973\n",
            "weighted avg     0.6472    0.6209    0.4760   5394973\n",
            "\n"
          ]
        }
      ],
      "source": [
        "predicted_train = Trained.select(\"prediction\", 'LABEL')\n",
        "predicted_train_score = predicted_train.toPandas()\n",
        "\n",
        "print(classification_report(predicted_train_score.LABEL,\n",
        "                            predicted_train_score.prediction,\n",
        "                            target_names=['0', '1', '2'], digits=4))"
      ]
    },
    {
      "cell_type": "code",
      "execution_count": null,
      "metadata": {
        "colab": {
          "base_uri": "https://localhost:8080/"
        },
        "id": "j5rwITX-ObMw",
        "outputId": "1fdf3cd8-85bd-438f-823a-7cddee8a5aae"
      },
      "outputs": [
        {
          "name": "stdout",
          "output_type": "stream",
          "text": [
            "===============Training Data===============\n",
            "Accuracy: 62.09460%\n",
            "F1-Micro: 62.09460%\n",
            "F1-Macro: 25.59140%\n"
          ]
        }
      ],
      "source": [
        "evaluator = MulticlassClassificationEvaluator(labelCol='LABEL', metricName='accuracy')\n",
        "accuracy_train = evaluator.evaluate(Trained)\n",
        "f1_mic = f1_score(predicted_train_score['LABEL'],\n",
        "                  predicted_train_score['prediction'],\n",
        "                  average = 'micro')\n",
        "f1_mac = f1_score(predicted_train_score['LABEL'],\n",
        "                  predicted_train_score['prediction'],\n",
        "                  average = 'macro')\n",
        "\n",
        "print('='*15+'Training Data'+'='*15)\n",
        "print(f'Accuracy: {accuracy_train*100:.5f}%')\n",
        "print(f'F1-Micro: {f1_mic*100:.5f}%')\n",
        "print(f'F1-Macro: {f1_mac*100:.5f}%')"
      ]
    },
    {
      "cell_type": "markdown",
      "metadata": {
        "id": "tkSHRorKObMy"
      },
      "source": [
        "##### Test"
      ]
    },
    {
      "cell_type": "code",
      "execution_count": null,
      "metadata": {
        "colab": {
          "base_uri": "https://localhost:8080/"
        },
        "id": "9OQgx_kDObMz",
        "outputId": "3c17cdb0-8136-4cbe-cc56-24cc369845fb"
      },
      "outputs": [
        {
          "name": "stdout",
          "output_type": "stream",
          "text": [
            "+--------------------+-------+-----+------------+-----------+-----------------+------+----+--------+------------+-----+----------------------+-----------+---------+--------------------+-----------------+-----------------+--------------------+--------------------+--------------------+----------+\n",
            "|                  ID|QUARTER|MONTH|DAY_OF_MONTH|DAY_OF_WEEK|OP_UNIQUE_CARRIER|ORIGIN|DEST|DISTANCE|CRS_DEP_TIME|LABEL|OP_UNIQUE_CARRIERIndex|ORIGINIndex|DESTIndex|OP_UNIQUE_CARRIERVec|        ORIGINVec|          DESTVec|            features|       rawPrediction|         probability|prediction|\n",
            "+--------------------+-------+-----+------------+-----------+-----------------+------+----+--------+------------+-----+----------------------+-----------+---------+--------------------+-----------------+-----------------+--------------------+--------------------+--------------------+----------+\n",
            "|1/1/2023_9E_ABY_A...|      1|    1|           1|          7|               9E|   ABY| ATL|   145.0|         736|    0|                  10.0|      244.0|      0.0|     (14,[10],[1.0])|(349,[244],[1.0])|  (349,[0],[1.0])|(718,[0,1,2,3,14,...|[2.15840122692075...|[0.71946707564025...|       0.0|\n",
            "|1/1/2023_9E_AGS_A...|      1|    1|           1|          7|               9E|   AGS| ATL|   143.0|        1745|    0|                  10.0|      152.0|      0.0|     (14,[10],[1.0])|(349,[152],[1.0])|  (349,[0],[1.0])|(718,[0,1,2,3,14,...|[1.91977687840472...|[0.63992562613490...|       0.0|\n",
            "|1/1/2023_9E_ATL_A...|      1|    1|           1|          7|               9E|   ATL| ABE|   692.0|        2156|    0|                  10.0|        0.0|    141.0|     (14,[10],[1.0])|  (349,[0],[1.0])|(349,[141],[1.0])|(718,[0,1,2,3,14,...|[1.91977687840472...|[0.63992562613490...|       0.0|\n",
            "|1/1/2023_9E_ATL_A...|      1|    1|           1|          7|               9E|   ATL| ABY|   145.0|        1110|    0|                  10.0|        0.0|    246.0|     (14,[10],[1.0])|  (349,[0],[1.0])|(349,[246],[1.0])|(718,[0,1,2,3,14,...|[2.15840122692075...|[0.71946707564025...|       0.0|\n",
            "|1/1/2023_9E_ATL_B...|      1|    1|           1|          7|               9E|   ATL| BTR|   448.0|        1430|    1|                  10.0|        0.0|    142.0|     (14,[10],[1.0])|  (349,[0],[1.0])|(349,[142],[1.0])|(718,[0,1,2,3,14,...|[1.91977687840472...|[0.63992562613490...|       0.0|\n",
            "|1/1/2023_9E_ATL_C...|      1|    1|           1|          7|               9E|   ATL| CRW|   363.0|        2122|    1|                  10.0|        0.0|    156.0|     (14,[10],[1.0])|  (349,[0],[1.0])|(349,[156],[1.0])|(718,[0,1,2,3,14,...|[1.91977687840472...|[0.63992562613490...|       0.0|\n",
            "|1/1/2023_9E_ATL_C...|      1|    1|           1|          7|               9E|   ATL| CSG|    83.0|        2050|    0|                  10.0|        0.0|    238.0|     (14,[10],[1.0])|  (349,[0],[1.0])|(349,[238],[1.0])|(718,[0,1,2,3,14,...|[1.91977687840472...|[0.63992562613490...|       0.0|\n",
            "|1/1/2023_9E_ATL_C...|      1|    1|           1|          7|               9E|   ATL| CSG|    83.0|        1100|    1|                  10.0|        0.0|    238.0|     (14,[10],[1.0])|  (349,[0],[1.0])|(349,[238],[1.0])|(718,[0,1,2,3,14,...|[2.15840122692075...|[0.71946707564025...|       0.0|\n",
            "|1/1/2023_9E_ATL_E...|      1|    1|           1|          7|               9E|   ATL| EYW|   646.0|        1740|    2|                  10.0|        0.0|    116.0|     (14,[10],[1.0])|  (349,[0],[1.0])|(349,[116],[1.0])|(718,[0,1,2,3,14,...|[1.91977687840472...|[0.63992562613490...|       0.0|\n",
            "|1/1/2023_9E_ATL_F...|      1|    1|           1|          7|               9E|   ATL| FAY|   331.0|        1354|    1|                  10.0|        0.0|    214.0|     (14,[10],[1.0])|  (349,[0],[1.0])|(349,[214],[1.0])|(718,[0,1,2,3,14,...|[1.91977687840472...|[0.63992562613490...|       0.0|\n",
            "|1/1/2023_9E_ATL_G...|      1|    1|           1|          7|               9E|   ATL| GNV|   300.0|        1510|    0|                  10.0|        0.0|    173.0|     (14,[10],[1.0])|  (349,[0],[1.0])|(349,[173],[1.0])|(718,[0,1,2,3,14,...|[1.91977687840472...|[0.63992562613490...|       0.0|\n",
            "|1/1/2023_9E_ATL_G...|      1|    1|           1|          7|               9E|   ATL| GTR|   241.0|        1157|    2|                  10.0|        0.0|    245.0|     (14,[10],[1.0])|  (349,[0],[1.0])|(349,[245],[1.0])|(718,[0,1,2,3,14,...|[1.91977687840472...|[0.63992562613490...|       0.0|\n",
            "|1/1/2023_9E_ATL_M...|      1|    1|           1|          7|               9E|   ATL| MGM|   147.0|         825|    1|                  10.0|        0.0|    185.0|     (14,[10],[1.0])|  (349,[0],[1.0])|(349,[185],[1.0])|(718,[0,1,2,3,14,...|[2.15840122692075...|[0.71946707564025...|       0.0|\n",
            "|1/1/2023_9E_ATL_M...|      1|    1|           1|          7|               9E|   ATL| MOB|   302.0|        2141|    1|                  10.0|        0.0|    181.0|     (14,[10],[1.0])|  (349,[0],[1.0])|(349,[181],[1.0])|(718,[0,1,2,3,14,...|[1.91977687840472...|[0.63992562613490...|       0.0|\n",
            "|1/1/2023_9E_ATL_M...|      1|    1|           1|          7|               9E|   ATL| MOB|   302.0|         839|    0|                  10.0|        0.0|    181.0|     (14,[10],[1.0])|  (349,[0],[1.0])|(349,[181],[1.0])|(718,[0,1,2,3,14,...|[2.15840122692075...|[0.71946707564025...|       0.0|\n",
            "|1/1/2023_9E_ATL_T...|      1|    1|           1|          7|               9E|   ATL| TYS|   152.0|        1115|    1|                  10.0|        0.0|     83.0|     (14,[10],[1.0])|  (349,[0],[1.0])| (349,[83],[1.0])|(718,[0,1,2,3,14,...|[2.15840122692075...|[0.71946707564025...|       0.0|\n",
            "|1/1/2023_9E_ATW_D...|      1|    1|           1|          7|               9E|   ATW| DTW|   296.0|        1239|    0|                  10.0|      133.0|     16.0|     (14,[10],[1.0])|(349,[133],[1.0])| (349,[16],[1.0])|(718,[0,1,2,3,14,...|[1.91977687840472...|[0.63992562613490...|       0.0|\n",
            "|1/1/2023_9E_BNA_L...|      1|    1|           1|          7|               9E|   BNA| LGA|   764.0|        1530|    0|                  10.0|       22.0|     10.0|     (14,[10],[1.0])| (349,[22],[1.0])| (349,[10],[1.0])|(718,[0,1,2,3,14,...|[1.91977687840472...|[0.63992562613490...|       0.0|\n",
            "|1/1/2023_9E_BQK_A...|      1|    1|           1|          7|               9E|   BQK| ATL|   238.0|        1052|    2|                  10.0|      258.0|      0.0|     (14,[10],[1.0])|(349,[258],[1.0])|  (349,[0],[1.0])|(718,[0,1,2,3,14,...|[2.15840122692075...|[0.71946707564025...|       0.0|\n",
            "|1/1/2023_9E_CHS_J...|      1|    1|           1|          7|               9E|   CHS| JFK|   636.0|        1000|    0|                  10.0|       55.0|     15.0|     (14,[10],[1.0])| (349,[55],[1.0])| (349,[15],[1.0])|(718,[0,1,2,3,14,...|[2.15840122692075...|[0.71946707564025...|       0.0|\n",
            "+--------------------+-------+-----+------------+-----------+-----------------+------+----+--------+------------+-----+----------------------+-----------+---------+--------------------+-----------------+-----------------+--------------------+--------------------+--------------------+----------+\n",
            "only showing top 20 rows\n",
            "\n"
          ]
        },
        {
          "data": {
            "text/plain": [
              "1348430"
            ]
          },
          "execution_count": 51,
          "metadata": {},
          "output_type": "execute_result"
        }
      ],
      "source": [
        "Tested = model_RF.transform(test)\n",
        "Tested.show()\n",
        "Tested.count()"
      ]
    },
    {
      "cell_type": "code",
      "execution_count": null,
      "metadata": {
        "colab": {
          "base_uri": "https://localhost:8080/"
        },
        "id": "MX_vb3mBObM1",
        "outputId": "a9f82c23-1c41-4996-e152-e1bd51cfb35e"
      },
      "outputs": [
        {
          "name": "stdout",
          "output_type": "stream",
          "text": [
            "+----------+-------+\n",
            "|prediction|  count|\n",
            "+----------+-------+\n",
            "|       0.0|1347913|\n",
            "|       1.0|    517|\n",
            "+----------+-------+\n",
            "\n"
          ]
        }
      ],
      "source": [
        "Tested.select('prediction').groupBy('prediction').count().show()"
      ]
    },
    {
      "cell_type": "code",
      "execution_count": null,
      "metadata": {
        "colab": {
          "base_uri": "https://localhost:8080/"
        },
        "id": "EMTioIJoObM3",
        "outputId": "5918e724-4fff-48f1-b205-1695b87dfa5f"
      },
      "outputs": [
        {
          "name": "stderr",
          "output_type": "stream",
          "text": [
            "/usr/local/lib/python3.10/dist-packages/sklearn/metrics/_classification.py:1531: UndefinedMetricWarning: Precision is ill-defined and being set to 0.0 in labels with no predicted samples. Use `zero_division` parameter to control this behavior.\n",
            "  _warn_prf(average, modifier, f\"{metric.capitalize()} is\", len(result))\n",
            "/usr/local/lib/python3.10/dist-packages/sklearn/metrics/_classification.py:1531: UndefinedMetricWarning: Precision is ill-defined and being set to 0.0 in labels with no predicted samples. Use `zero_division` parameter to control this behavior.\n",
            "  _warn_prf(average, modifier, f\"{metric.capitalize()} is\", len(result))\n"
          ]
        },
        {
          "name": "stdout",
          "output_type": "stream",
          "text": [
            "              precision    recall  f1-score   support\n",
            "\n",
            "           0     0.6219    0.9999    0.7669    838401\n",
            "           1     0.4971    0.0008    0.0015    337780\n",
            "           2     0.0000    0.0000    0.0000    172249\n",
            "\n",
            "    accuracy                         0.6219   1348430\n",
            "   macro avg     0.3730    0.3336    0.2561   1348430\n",
            "weighted avg     0.5112    0.6219    0.4772   1348430\n",
            "\n"
          ]
        },
        {
          "name": "stderr",
          "output_type": "stream",
          "text": [
            "/usr/local/lib/python3.10/dist-packages/sklearn/metrics/_classification.py:1531: UndefinedMetricWarning: Precision is ill-defined and being set to 0.0 in labels with no predicted samples. Use `zero_division` parameter to control this behavior.\n",
            "  _warn_prf(average, modifier, f\"{metric.capitalize()} is\", len(result))\n"
          ]
        }
      ],
      "source": [
        "predicted_test = Tested.select(\"prediction\", 'LABEL')\n",
        "predicted_test_score = predicted_test.toPandas()\n",
        "\n",
        "from sklearn.metrics import classification_report\n",
        "print(classification_report(predicted_test_score.LABEL,\n",
        "                            predicted_test_score.prediction,\n",
        "                            target_names=['0', '1', '2'], digits=4))"
      ]
    },
    {
      "cell_type": "code",
      "execution_count": null,
      "metadata": {
        "colab": {
          "base_uri": "https://localhost:8080/"
        },
        "id": "_LuaoyCmObM4",
        "outputId": "93d4f7d2-7df8-49ec-be57-ac61e5600a1d"
      },
      "outputs": [
        {
          "name": "stdout",
          "output_type": "stream",
          "text": [
            "===============Testing Data===============\n",
            "Accuracy: 62.18884%\n",
            "F1-Micro: 62.18884%\n",
            "F1-Macro: 25.61318%\n"
          ]
        }
      ],
      "source": [
        "evaluator = MulticlassClassificationEvaluator(labelCol='LABEL', metricName='accuracy')\n",
        "accuracy_test = evaluator.evaluate(Tested)\n",
        "f1_mic = f1_score(predicted_test_score['LABEL'],\n",
        "                  predicted_test_score['prediction'],\n",
        "                  average = 'micro')\n",
        "f1_mac = f1_score(predicted_test_score['LABEL'],\n",
        "                  predicted_test_score['prediction'],\n",
        "                  average = 'macro')\n",
        "\n",
        "print('='*15+'Testing Data'+'='*15)\n",
        "print(f'Accuracy: {accuracy_test*100:.5f}%')\n",
        "print(f'F1-Micro: {f1_mic*100:.5f}%')\n",
        "print(f'F1-Macro: {f1_mac*100:.5f}%')"
      ]
    },
    {
      "cell_type": "markdown",
      "metadata": {
        "id": "lY-FZk3eJGlx"
      },
      "source": [
        "#### Save & Load model"
      ]
    },
    {
      "cell_type": "code",
      "execution_count": null,
      "metadata": {
        "id": "qVLJZP0XJGlz"
      },
      "outputs": [],
      "source": [
        "model_RF.write().overwrite().save(PATH+'Model/RF')"
      ]
    },
    {
      "cell_type": "code",
      "execution_count": null,
      "metadata": {
        "id": "Mr2WEPgsJGl0"
      },
      "outputs": [],
      "source": [
        "model_RF_load = PipelineModel.load(PATH+'Model/RF')"
      ]
    },
    {
      "cell_type": "markdown",
      "metadata": {
        "id": "X0MyM2QOYlTr"
      },
      "source": [
        "### Naive Bayes"
      ]
    },
    {
      "cell_type": "markdown",
      "metadata": {
        "id": "8wFq-z65YlTs"
      },
      "source": [
        "#### Training model"
      ]
    },
    {
      "cell_type": "code",
      "execution_count": null,
      "metadata": {
        "id": "V-B1An3NJ6uy"
      },
      "outputs": [],
      "source": [
        "stringIndexer = StringIndexer(inputCols=['OP_UNIQUE_CARRIER', 'ORIGIN', 'DEST'],\n",
        "                              outputCols=['OP_UNIQUE_CARRIERIndex', 'ORIGINIndex', 'DESTIndex'])"
      ]
    },
    {
      "cell_type": "code",
      "execution_count": null,
      "metadata": {
        "id": "oyym1zQaJ6u0"
      },
      "outputs": [],
      "source": [
        "oneHotEncoder = OneHotEncoder(inputCols=['OP_UNIQUE_CARRIERIndex', 'ORIGINIndex', 'DESTIndex'],\n",
        "                              outputCols=['OP_UNIQUE_CARRIERVec', 'ORIGINVec','DESTVec'])"
      ]
    },
    {
      "cell_type": "code",
      "execution_count": null,
      "metadata": {
        "id": "xkkO0T_xJ6u3"
      },
      "outputs": [],
      "source": [
        "assembler = VectorAssembler(inputCols=['QUARTER', 'MONTH', 'DAY_OF_MONTH', 'DAY_OF_WEEK', 'OP_UNIQUE_CARRIERVec', 'ORIGINVec',\n",
        "                                       'DESTVec', 'DISTANCE', 'CRS_DEP_TIME'], outputCol='features')"
      ]
    },
    {
      "cell_type": "code",
      "execution_count": null,
      "metadata": {
        "id": "hl8wAY3XJ6u3"
      },
      "outputs": [],
      "source": []
    },
    {
      "cell_type": "code",
      "execution_count": null,
      "metadata": {
        "id": "cyvsahPhYlTx"
      },
      "outputs": [],
      "source": [
        "NB = NaiveBayes(featuresCol='features',labelCol='LABEL',smoothing=0.0003,modelType=\"multinomial\")#"
      ]
    },
    {
      "cell_type": "code",
      "execution_count": null,
      "metadata": {
        "id": "IsgrP17zJ6u6"
      },
      "outputs": [],
      "source": [
        "pipeline = Pipeline(stages=[stringIndexer,\n",
        "                            oneHotEncoder,\n",
        "                            assembler, NB])"
      ]
    },
    {
      "cell_type": "code",
      "execution_count": null,
      "metadata": {
        "colab": {
          "base_uri": "https://localhost:8080/"
        },
        "id": "EpN89Xw6YlT0",
        "outputId": "b4318409-dd36-4e60-b404-d80d8bf81126"
      },
      "outputs": [
        {
          "name": "stdout",
          "output_type": "stream",
          "text": [
            "CPU times: user 61.6 ms, sys: 17.6 ms, total: 79.1 ms\n",
            "Wall time: 3.78 s\n"
          ]
        }
      ],
      "source": [
        "%%time\n",
        "model_NB = pipeline.fit(train)"
      ]
    },
    {
      "cell_type": "markdown",
      "metadata": {
        "id": "bqVApvwTYlT1"
      },
      "source": [
        "#### Evaluation model"
      ]
    },
    {
      "cell_type": "markdown",
      "metadata": {
        "id": "eGU6_TIJYlT1"
      },
      "source": [
        "##### Train"
      ]
    },
    {
      "cell_type": "code",
      "execution_count": null,
      "metadata": {
        "colab": {
          "base_uri": "https://localhost:8080/"
        },
        "id": "pP1_Nt02YlT2",
        "outputId": "216835cb-8f57-4e27-feaa-07d575d4bfb0"
      },
      "outputs": [
        {
          "name": "stdout",
          "output_type": "stream",
          "text": [
            "+--------------------+-------+-----+------------+-----------+-----------------+------+----+--------+------------+-----+----------------------+-----------+---------+--------------------+-----------------+-----------------+--------------------+--------------------+--------------------+----------+\n",
            "|                  ID|QUARTER|MONTH|DAY_OF_MONTH|DAY_OF_WEEK|OP_UNIQUE_CARRIER|ORIGIN|DEST|DISTANCE|CRS_DEP_TIME|LABEL|OP_UNIQUE_CARRIERIndex|ORIGINIndex|DESTIndex|OP_UNIQUE_CARRIERVec|        ORIGINVec|          DESTVec|            features|       rawPrediction|         probability|prediction|\n",
            "+--------------------+-------+-----+------------+-----------+-----------------+------+----+--------+------------+-----+----------------------+-----------+---------+--------------------+-----------------+-----------------+--------------------+--------------------+--------------------+----------+\n",
            "|1/1/2023_9E_ABE_A...|      1|    1|           1|          7|               9E|   ABE| ATL|   692.0|         600|    1|                  10.0|      141.0|      0.0|     (14,[10],[1.0])|(349,[141],[1.0])|  (349,[0],[1.0])|(718,[0,1,2,3,14,...|[-1066.9653464804...|[0.95093754367544...|       0.0|\n",
            "|1/1/2023_9E_ABY_A...|      1|    1|           1|          7|               9E|   ABY| ATL|   145.0|        1255|    0|                  10.0|      244.0|      0.0|     (14,[10],[1.0])|(349,[244],[1.0])|  (349,[0],[1.0])|(718,[0,1,2,3,14,...|[-876.29300648662...|[7.12941141771658...|       2.0|\n",
            "|1/1/2023_9E_AEX_A...|      1|    1|           1|          7|               9E|   AEX| ATL|   500.0|        1748|    2|                  10.0|      195.0|      0.0|     (14,[10],[1.0])|(349,[195],[1.0])|  (349,[0],[1.0])|(718,[0,1,2,3,14,...|[-1466.7101356872...|[2.58078477960604...|       2.0|\n",
            "|1/1/2023_9E_AEX_A...|      1|    1|           1|          7|               9E|   AEX| ATL|   500.0|        1150|    2|                  10.0|      195.0|      0.0|     (14,[10],[1.0])|(349,[195],[1.0])|  (349,[0],[1.0])|(718,[0,1,2,3,14,...|[-1162.9728048981...|[9.11060565939235...|       2.0|\n",
            "|1/1/2023_9E_ALB_D...|      1|    1|           1|          7|               9E|   ALB| DTW|   489.0|        1230|    2|                  10.0|       89.0|     16.0|     (14,[10],[1.0])| (349,[89],[1.0])| (349,[16],[1.0])|(718,[0,1,2,3,14,...|[-1192.1783051169...|[1.76630361285848...|       2.0|\n",
            "|1/1/2023_9E_ALB_D...|      1|    1|           1|          7|               9E|   ALB| DTW|   489.0|         545|    2|                  10.0|       89.0|     16.0|     (14,[10],[1.0])| (349,[89],[1.0])| (349,[16],[1.0])|(718,[0,1,2,3,14,...|[-844.25176399556...|[0.92700022816963...|       0.0|\n",
            "|1/1/2023_9E_ALB_L...|      1|    1|           1|          7|               9E|   ALB| LGA|   136.0|         825|    0|                  10.0|       89.0|     10.0|     (14,[10],[1.0])| (349,[89],[1.0])| (349,[10],[1.0])|(718,[0,1,2,3,14,...|[-647.45541841904...|[9.06936270161383...|       2.0|\n",
            "|1/1/2023_9E_ATL_A...|      1|    1|           1|          7|               9E|   ATL| ABY|   145.0|        1920|    1|                  10.0|        0.0|    246.0|     (14,[10],[1.0])|  (349,[0],[1.0])|(349,[246],[1.0])|(718,[0,1,2,3,14,...|[-1214.1114908375...|[1.14151275779704...|       2.0|\n",
            "|1/1/2023_9E_ATL_A...|      1|    1|           1|          7|               9E|   ATL| AEX|   500.0|        1620|    2|                  10.0|        0.0|    195.0|     (14,[10],[1.0])|  (349,[0],[1.0])|(349,[195],[1.0])|(718,[0,1,2,3,14,...|[-1401.6739462042...|[4.92183743501292...|       2.0|\n",
            "|1/1/2023_9E_ATL_A...|      1|    1|           1|          7|               9E|   ATL| AGS|   143.0|        1515|    0|                  10.0|        0.0|    152.0|     (14,[10],[1.0])|  (349,[0],[1.0])|(349,[152],[1.0])|(718,[0,1,2,3,14,...|[-1005.0945303047...|[9.52268187801495...|       2.0|\n",
            "|1/1/2023_9E_ATL_A...|      1|    1|           1|          7|               9E|   ATL| AGS|   143.0|        2110|    0|                  10.0|        0.0|    152.0|     (14,[10],[1.0])|  (349,[0],[1.0])|(349,[152],[1.0])|(718,[0,1,2,3,14,...|[-1307.3080952203...|[3.04700076001090...|       2.0|\n",
            "|1/1/2023_9E_ATL_B...|      1|    1|           1|          7|               9E|   ATL| BQK|   238.0|         900|    2|                  10.0|        0.0|    262.0|     (14,[10],[1.0])|  (349,[0],[1.0])|(349,[262],[1.0])|(718,[0,1,2,3,14,...|[-785.42697343685...|[3.05595517629020...|       2.0|\n",
            "|1/1/2023_9E_ATL_B...|      1|    1|           1|          7|               9E|   ATL| BQK|   238.0|        1710|    0|                  10.0|        0.0|    262.0|     (14,[10],[1.0])|  (349,[0],[1.0])|(349,[262],[1.0])|(718,[0,1,2,3,14,...|[-1196.8437592883...|[1.57757601858431...|       2.0|\n",
            "|1/1/2023_9E_ATL_C...|      1|    1|           1|          7|               9E|   ATL| CHA|   106.0|        1340|    0|                  10.0|        0.0|    125.0|     (14,[10],[1.0])|  (349,[0],[1.0])|(349,[125],[1.0])|(718,[0,1,2,3,14,...|[-880.22481786337...|[1.34083371332067...|       2.0|\n",
            "|1/1/2023_9E_ATL_C...|      1|    1|           1|          7|               9E|   ATL| CHO|   457.0|        1300|    0|                  10.0|        0.0|    169.0|     (14,[10],[1.0])|  (349,[0],[1.0])|(349,[169],[1.0])|(718,[0,1,2,3,14,...|[-1197.4231296091...|[1.69191709918078...|       2.0|\n",
            "|1/1/2023_9E_ATL_C...|      1|    1|           1|          7|               9E|   ATL| CHO|   457.0|        2055|    0|                  10.0|        0.0|    169.0|     (14,[10],[1.0])|  (349,[0],[1.0])|(349,[169],[1.0])|(718,[0,1,2,3,14,...|[-1580.9042077793...|[8.15338514013389...|       2.0|\n",
            "|1/1/2023_9E_ATL_C...|      1|    1|           1|          7|               9E|   ATL| CRW|   363.0|        1100|    2|                  10.0|        0.0|    156.0|     (14,[10],[1.0])|  (349,[0],[1.0])|(349,[156],[1.0])|(718,[0,1,2,3,14,...|[-1005.5232193719...|[1.33855501776944...|       2.0|\n",
            "|1/1/2023_9E_ATL_C...|      1|    1|           1|          7|               9E|   ATL| CVG|   373.0|        1000|    0|                  10.0|        0.0|     47.0|     (14,[10],[1.0])|  (349,[0],[1.0])| (349,[47],[1.0])|(718,[0,1,2,3,14,...|[-961.98467252371...|[1.10338622341836...|       2.0|\n",
            "|1/1/2023_9E_ATL_D...|      1|    1|           1|          7|               9E|   ATL| DHN|   170.0|        1657|    0|                  10.0|        0.0|    252.0|     (14,[10],[1.0])|  (349,[0],[1.0])|(349,[252],[1.0])|(718,[0,1,2,3,14,...|[-1104.5953499520...|[3.39608537037497...|       2.0|\n",
            "|1/1/2023_9E_ATL_D...|      1|    1|           1|          7|               9E|   ATL| DHN|   170.0|         917|    1|                  10.0|        0.0|    252.0|     (14,[10],[1.0])|  (349,[0],[1.0])|(349,[252],[1.0])|(718,[0,1,2,3,14,...|[-728.73310114943...|[3.83215217652267...|       2.0|\n",
            "+--------------------+-------+-----+------------+-----------+-----------------+------+----+--------+------------+-----+----------------------+-----------+---------+--------------------+-----------------+-----------------+--------------------+--------------------+--------------------+----------+\n",
            "only showing top 20 rows\n",
            "\n"
          ]
        },
        {
          "data": {
            "text/plain": [
              "5394973"
            ]
          },
          "execution_count": 63,
          "metadata": {},
          "output_type": "execute_result"
        }
      ],
      "source": [
        "Trained = model_NB.transform(train)\n",
        "Trained.show()\n",
        "Trained.count()"
      ]
    },
    {
      "cell_type": "code",
      "execution_count": null,
      "metadata": {
        "colab": {
          "base_uri": "https://localhost:8080/"
        },
        "id": "gdnvr8xTYlT3",
        "outputId": "9af11438-63a0-4bd4-d763-e29c63fcb456"
      },
      "outputs": [
        {
          "name": "stdout",
          "output_type": "stream",
          "text": [
            "+----------+-------+\n",
            "|prediction|  count|\n",
            "+----------+-------+\n",
            "|       0.0|2275229|\n",
            "|       1.0| 287112|\n",
            "|       2.0|2832632|\n",
            "+----------+-------+\n",
            "\n"
          ]
        }
      ],
      "source": [
        "Trained.select('prediction').groupBy('prediction').count().show()"
      ]
    },
    {
      "cell_type": "code",
      "execution_count": null,
      "metadata": {
        "colab": {
          "base_uri": "https://localhost:8080/"
        },
        "id": "f2IKhVmNYlT4",
        "outputId": "a49c10b2-fa67-4c60-ace0-a5d9c27d59c5"
      },
      "outputs": [
        {
          "name": "stdout",
          "output_type": "stream",
          "text": [
            "              precision    recall  f1-score   support\n",
            "\n",
            "           0     0.6638    0.4509    0.5370   3349244\n",
            "           1     0.3600    0.0762    0.1258   1355778\n",
            "           2     0.1435    0.5890    0.2307    689951\n",
            "\n",
            "    accuracy                         0.3744   5394973\n",
            "   macro avg     0.3891    0.3720    0.2979   5394973\n",
            "weighted avg     0.5209    0.3744    0.3945   5394973\n",
            "\n"
          ]
        }
      ],
      "source": [
        "predicted_train = Trained.select(\"prediction\", 'LABEL')\n",
        "predicted_train_score = predicted_train.toPandas()\n",
        "\n",
        "print(classification_report(predicted_train_score.LABEL,\n",
        "                            predicted_train_score.prediction,\n",
        "                            target_names=['0', '1', '2'], digits=4))"
      ]
    },
    {
      "cell_type": "code",
      "execution_count": null,
      "metadata": {
        "colab": {
          "base_uri": "https://localhost:8080/"
        },
        "id": "aAXoIjX2YlT6",
        "outputId": "57a0d1da-5372-49a3-d1b3-bf9dda385c0c"
      },
      "outputs": [
        {
          "name": "stdout",
          "output_type": "stream",
          "text": [
            "===============Training Data===============\n",
            "Accuracy: 37.44182%\n",
            "F1-Micro: 37.44182%\n",
            "F1-Macro: 29.78550%\n"
          ]
        }
      ],
      "source": [
        "evaluator = MulticlassClassificationEvaluator(labelCol='LABEL', metricName='accuracy')\n",
        "accuracy_train = evaluator.evaluate(Trained)\n",
        "f1_mic = f1_score(predicted_train_score['LABEL'],\n",
        "                  predicted_train_score['prediction'],\n",
        "                  average = 'micro')\n",
        "f1_mac = f1_score(predicted_train_score['LABEL'],\n",
        "                  predicted_train_score['prediction'],\n",
        "                  average = 'macro')\n",
        "\n",
        "print('='*15+'Training Data'+'='*15)\n",
        "print(f'Accuracy: {accuracy_train*100:.5f}%')\n",
        "print(f'F1-Micro: {f1_mic*100:.5f}%')\n",
        "print(f'F1-Macro: {f1_mac*100:.5f}%')"
      ]
    },
    {
      "cell_type": "markdown",
      "metadata": {
        "id": "hQKIlPPBYlT7"
      },
      "source": [
        "##### Test"
      ]
    },
    {
      "cell_type": "code",
      "execution_count": null,
      "metadata": {
        "colab": {
          "base_uri": "https://localhost:8080/"
        },
        "id": "eNplcnnTYlT7",
        "outputId": "d15b7ba4-3f6b-4a94-a507-63999296d629"
      },
      "outputs": [
        {
          "name": "stdout",
          "output_type": "stream",
          "text": [
            "+--------------------+-------+-----+------------+-----------+-----------------+------+----+--------+------------+-----+----------------------+-----------+---------+--------------------+-----------------+-----------------+--------------------+--------------------+--------------------+----------+\n",
            "|                  ID|QUARTER|MONTH|DAY_OF_MONTH|DAY_OF_WEEK|OP_UNIQUE_CARRIER|ORIGIN|DEST|DISTANCE|CRS_DEP_TIME|LABEL|OP_UNIQUE_CARRIERIndex|ORIGINIndex|DESTIndex|OP_UNIQUE_CARRIERVec|        ORIGINVec|          DESTVec|            features|       rawPrediction|         probability|prediction|\n",
            "+--------------------+-------+-----+------------+-----------+-----------------+------+----+--------+------------+-----+----------------------+-----------+---------+--------------------+-----------------+-----------------+--------------------+--------------------+--------------------+----------+\n",
            "|1/1/2023_9E_ABY_A...|      1|    1|           1|          7|               9E|   ABY| ATL|   145.0|         736|    0|                  10.0|      244.0|      0.0|     (14,[10],[1.0])|(349,[244],[1.0])|  (349,[0],[1.0])|(718,[0,1,2,3,14,...|[-612.68151036695...|[1.01722492816230...|       2.0|\n",
            "|1/1/2023_9E_AGS_A...|      1|    1|           1|          7|               9E|   AGS| ATL|   143.0|        1745|    0|                  10.0|      152.0|      0.0|     (14,[10],[1.0])|(349,[152],[1.0])|  (349,[0],[1.0])|(718,[0,1,2,3,14,...|[-1121.9186266666...|[8.05011315153402...|       2.0|\n",
            "|1/1/2023_9E_ATL_A...|      1|    1|           1|          7|               9E|   ATL| ABE|   692.0|        2156|    0|                  10.0|        0.0|    141.0|     (14,[10],[1.0])|  (349,[0],[1.0])|(349,[141],[1.0])|(718,[0,1,2,3,14,...|[-1857.4388078112...|[1.39497116790101...|       2.0|\n",
            "|1/1/2023_9E_ATL_A...|      1|    1|           1|          7|               9E|   ATL| ABY|   145.0|        1110|    0|                  10.0|        0.0|    246.0|     (14,[10],[1.0])|  (349,[0],[1.0])|(349,[246],[1.0])|(718,[0,1,2,3,14,...|[-802.69470498600...|[2.21124809739171...|       2.0|\n",
            "|1/1/2023_9E_ATL_B...|      1|    1|           1|          7|               9E|   ATL| BTR|   448.0|        1430|    1|                  10.0|        0.0|    142.0|     (14,[10],[1.0])|  (349,[0],[1.0])|(349,[142],[1.0])|(718,[0,1,2,3,14,...|[-1254.4616042639...|[4.24645424748375...|       2.0|\n",
            "|1/1/2023_9E_ATL_C...|      1|    1|           1|          7|               9E|   ATL| CRW|   363.0|        2122|    1|                  10.0|        0.0|    156.0|     (14,[10],[1.0])|  (349,[0],[1.0])|(349,[156],[1.0])|(718,[0,1,2,3,14,...|[-1524.6194602857...|[1.25928764574328...|       2.0|\n",
            "|1/1/2023_9E_ATL_C...|      1|    1|           1|          7|               9E|   ATL| CSG|    83.0|        2050|    0|                  10.0|        0.0|    238.0|     (14,[10],[1.0])|  (349,[0],[1.0])|(349,[238],[1.0])|(718,[0,1,2,3,14,...|[-1220.5397633560...|[1.20744043369291...|       2.0|\n",
            "|1/1/2023_9E_ATL_C...|      1|    1|           1|          7|               9E|   ATL| CSG|    83.0|        1100|    1|                  10.0|        0.0|    238.0|     (14,[10],[1.0])|  (349,[0],[1.0])|(349,[238],[1.0])|(718,[0,1,2,3,14,...|[-738.01390340679...|[6.89298806838702...|       2.0|\n",
            "|1/1/2023_9E_ATL_E...|      1|    1|           1|          7|               9E|   ATL| EYW|   646.0|        1740|    2|                  10.0|        0.0|    116.0|     (14,[10],[1.0])|  (349,[0],[1.0])|(349,[116],[1.0])|(718,[0,1,2,3,14,...|[-1601.4816911402...|[3.00742312819374...|       2.0|\n",
            "|1/1/2023_9E_ATL_F...|      1|    1|           1|          7|               9E|   ATL| FAY|   331.0|        1354|    1|                  10.0|        0.0|    214.0|     (14,[10],[1.0])|  (349,[0],[1.0])|(349,[214],[1.0])|(718,[0,1,2,3,14,...|[-1104.7714217294...|[6.15679674757452...|       2.0|\n",
            "|1/1/2023_9E_ATL_G...|      1|    1|           1|          7|               9E|   ATL| GNV|   300.0|        1510|    0|                  10.0|        0.0|    173.0|     (14,[10],[1.0])|  (349,[0],[1.0])|(349,[173],[1.0])|(718,[0,1,2,3,14,...|[-1153.4585744982...|[2.20985584150025...|       2.0|\n",
            "|1/1/2023_9E_ATL_G...|      1|    1|           1|          7|               9E|   ATL| GTR|   241.0|        1157|    2|                  10.0|        0.0|    245.0|     (14,[10],[1.0])|  (349,[0],[1.0])|(349,[245],[1.0])|(718,[0,1,2,3,14,...|[-918.70102522102...|[1.12206604480573...|       2.0|\n",
            "|1/1/2023_9E_ATL_M...|      1|    1|           1|          7|               9E|   ATL| MGM|   147.0|         825|    1|                  10.0|        0.0|    185.0|     (14,[10],[1.0])|  (349,[0],[1.0])|(349,[185],[1.0])|(718,[0,1,2,3,14,...|[-658.90611290579...|[1.98176974647747...|       2.0|\n",
            "|1/1/2023_9E_ATL_M...|      1|    1|           1|          7|               9E|   ATL| MOB|   302.0|        2141|    1|                  10.0|        0.0|    181.0|     (14,[10],[1.0])|  (349,[0],[1.0])|(349,[181],[1.0])|(718,[0,1,2,3,14,...|[-1475.9971448118...|[1.62479444551737...|       2.0|\n",
            "|1/1/2023_9E_ATL_M...|      1|    1|           1|          7|               9E|   ATL| MOB|   302.0|         839|    0|                  10.0|        0.0|    181.0|     (14,[10],[1.0])|  (349,[0],[1.0])|(349,[181],[1.0])|(718,[0,1,2,3,14,...|[-814.68275570237...|[1.49992806033871...|       2.0|\n",
            "|1/1/2023_9E_ATL_T...|      1|    1|           1|          7|               9E|   ATL| TYS|   152.0|        1115|    1|                  10.0|        0.0|     83.0|     (14,[10],[1.0])|  (349,[0],[1.0])| (349,[83],[1.0])|(718,[0,1,2,3,14,...|[-809.29381668138...|[1.40344125027097...|       2.0|\n",
            "|1/1/2023_9E_ATW_D...|      1|    1|           1|          7|               9E|   ATW| DTW|   296.0|        1239|    0|                  10.0|      133.0|     16.0|     (14,[10],[1.0])|(349,[133],[1.0])| (349,[16],[1.0])|(718,[0,1,2,3,14,...|[-1012.3252094505...|[9.42537815651287...|       2.0|\n",
            "|1/1/2023_9E_BNA_L...|      1|    1|           1|          7|               9E|   BNA| LGA|   764.0|        1530|    0|                  10.0|       22.0|     10.0|     (14,[10],[1.0])| (349,[22],[1.0])| (349,[10],[1.0])|(718,[0,1,2,3,14,...|[-1606.2979396578...|[1.21683636430392...|       2.0|\n",
            "|1/1/2023_9E_BQK_A...|      1|    1|           1|          7|               9E|   BQK| ATL|   238.0|        1052|    2|                  10.0|      258.0|      0.0|     (14,[10],[1.0])|(349,[258],[1.0])|  (349,[0],[1.0])|(718,[0,1,2,3,14,...|[-862.53420865623...|[7.04009012321038...|       2.0|\n",
            "|1/1/2023_9E_CHS_J...|      1|    1|           1|          7|               9E|   CHS| JFK|   636.0|        1000|    0|                  10.0|       55.0|     15.0|     (14,[10],[1.0])| (349,[55],[1.0])| (349,[15],[1.0])|(718,[0,1,2,3,14,...|[-1215.7861143500...|[0.62952852163252...|       0.0|\n",
            "+--------------------+-------+-----+------------+-----------+-----------------+------+----+--------+------------+-----+----------------------+-----------+---------+--------------------+-----------------+-----------------+--------------------+--------------------+--------------------+----------+\n",
            "only showing top 20 rows\n",
            "\n"
          ]
        },
        {
          "data": {
            "text/plain": [
              "1348430"
            ]
          },
          "execution_count": 67,
          "metadata": {},
          "output_type": "execute_result"
        }
      ],
      "source": [
        "Tested = model_NB.transform(test)\n",
        "Tested.show()\n",
        "Tested.count()"
      ]
    },
    {
      "cell_type": "code",
      "execution_count": null,
      "metadata": {
        "colab": {
          "base_uri": "https://localhost:8080/"
        },
        "id": "PYafysdGYlT7",
        "outputId": "890e50e0-d422-452e-cc5b-cad22aeb3b18"
      },
      "outputs": [
        {
          "name": "stdout",
          "output_type": "stream",
          "text": [
            "+----------+------+\n",
            "|prediction| count|\n",
            "+----------+------+\n",
            "|       0.0|568180|\n",
            "|       1.0| 71923|\n",
            "|       2.0|708327|\n",
            "+----------+------+\n",
            "\n"
          ]
        }
      ],
      "source": [
        "Tested.select('prediction').groupBy('prediction').count().show()"
      ]
    },
    {
      "cell_type": "code",
      "execution_count": null,
      "metadata": {
        "colab": {
          "base_uri": "https://localhost:8080/"
        },
        "id": "30kIWe3YYlT8",
        "outputId": "7ffa5bd5-68b7-4315-935b-d4501c53a52f"
      },
      "outputs": [
        {
          "name": "stdout",
          "output_type": "stream",
          "text": [
            "              precision    recall  f1-score   support\n",
            "\n",
            "           0     0.6640    0.4500    0.5364    838401\n",
            "           1     0.3576    0.0762    0.1256    337780\n",
            "           2     0.1436    0.5905    0.2310    172249\n",
            "\n",
            "    accuracy                         0.3743   1348430\n",
            "   macro avg     0.3884    0.3722    0.2977   1348430\n",
            "weighted avg     0.5208    0.3743    0.3945   1348430\n",
            "\n"
          ]
        }
      ],
      "source": [
        "predicted_test = Tested.select(\"prediction\", 'LABEL')\n",
        "predicted_test_score = predicted_test.toPandas()\n",
        "\n",
        "from sklearn.metrics import classification_report\n",
        "print(classification_report(predicted_test_score.LABEL,\n",
        "                            predicted_test_score.prediction,\n",
        "                            target_names=['0', '1', '2'], digits=4))"
      ]
    },
    {
      "cell_type": "code",
      "execution_count": null,
      "metadata": {
        "colab": {
          "base_uri": "https://localhost:8080/"
        },
        "id": "CQiIFQCdYlUH",
        "outputId": "73d99f6d-d57a-4b76-eadc-e2fc78cae1c3"
      },
      "outputs": [
        {
          "name": "stdout",
          "output_type": "stream",
          "text": [
            "===============Testing Data===============\n",
            "Accuracy: 37.42768%\n",
            "F1-Micro: 37.42768%\n",
            "F1-Macro: 29.76636%\n"
          ]
        }
      ],
      "source": [
        "evaluator = MulticlassClassificationEvaluator(labelCol='LABEL', metricName='accuracy')\n",
        "accuracy_test = evaluator.evaluate(Tested)\n",
        "f1_mic = f1_score(predicted_test_score['LABEL'],\n",
        "                  predicted_test_score['prediction'],\n",
        "                  average = 'micro')\n",
        "f1_mac = f1_score(predicted_test_score['LABEL'],\n",
        "                  predicted_test_score['prediction'],\n",
        "                  average = 'macro')\n",
        "\n",
        "print('='*15+'Testing Data'+'='*15)\n",
        "print(f'Accuracy: {accuracy_test*100:.5f}%')\n",
        "print(f'F1-Micro: {f1_mic*100:.5f}%')\n",
        "print(f'F1-Macro: {f1_mac*100:.5f}%')"
      ]
    },
    {
      "cell_type": "markdown",
      "metadata": {
        "id": "iUxiQC4DJNHZ"
      },
      "source": [
        "#### Save & Load model"
      ]
    },
    {
      "cell_type": "code",
      "execution_count": null,
      "metadata": {
        "id": "wVVMPA9nJNHc"
      },
      "outputs": [],
      "source": [
        "model_NB.write().overwrite().save(PATH+'Model/NB')"
      ]
    },
    {
      "cell_type": "code",
      "execution_count": null,
      "metadata": {
        "id": "SBujmanhJNHe"
      },
      "outputs": [],
      "source": [
        "model_NB_load = PipelineModel.load(PATH+'Model/NB')"
      ]
    }
  ],
  "metadata": {
    "accelerator": "TPU",
    "colab": {
      "gpuType": "V28",
      "provenance": []
    },
    "kernelspec": {
      "display_name": "Python 3",
      "name": "python3"
    },
    "language_info": {
      "codemirror_mode": {
        "name": "ipython",
        "version": 3
      },
      "file_extension": ".py",
      "mimetype": "text/x-python",
      "name": "python",
      "nbconvert_exporter": "python",
      "pygments_lexer": "ipython3",
      "version": "3.9.15"
    }
  },
  "nbformat": 4,
  "nbformat_minor": 0
}
